{
 "cells": [
  {
   "cell_type": "markdown",
   "metadata": {},
   "source": [
    "# Setup"
   ]
  },
  {
   "cell_type": "code",
   "execution_count": null,
   "metadata": {},
   "outputs": [],
   "source": [
    "import matplotlib.pyplot as plt\n",
    "%matplotlib inline\n",
    "\n",
    "import seaborn as sns; sns.set()"
   ]
  },
  {
   "cell_type": "code",
   "execution_count": null,
   "metadata": {},
   "outputs": [],
   "source": [
    "import matplotlib.cm as cm"
   ]
  },
  {
   "cell_type": "code",
   "execution_count": null,
   "metadata": {},
   "outputs": [],
   "source": [
    "from sklearn.model_selection import train_test_split"
   ]
  },
  {
   "cell_type": "code",
   "execution_count": null,
   "metadata": {},
   "outputs": [],
   "source": [
    "from ml import np\n",
    "from ml.rbms import RBM"
   ]
  },
  {
   "cell_type": "code",
   "execution_count": null,
   "metadata": {},
   "outputs": [],
   "source": [
    "def sample_rbm(rbm, n, initial, burnin=1000, sample_ever=10, sampler='cd', sample_every=10, **sampler_kwargs):\n",
    "    v = initial\n",
    "    \n",
    "    for i in range(burnin):\n",
    "        if sampler == 'pt':\n",
    "            v, h = rbm.parallel_tempering(v, **sampler_kwargs)\n",
    "        elif sampler.lower() == 'pcd':\n",
    "            _, _, v, h = rbm.contrastive_divergence(v, **sampler_kwargs)\n",
    "        else:\n",
    "            _, _, v, h = rbm.contrastive_divergence(v, persistent=True, **sampler_kwargs)\n",
    "    if sampler == 'pt':\n",
    "        visibles = np.zeros((n, v[0].shape[1]))\n",
    "        hiddens = np.zeros((n, h[0].shape[1]))\n",
    "    else:\n",
    "        visibles = np.zeros((n, v.shape[1]))\n",
    "        hiddens = np.zeros((n, h.shape[1]))\n",
    "    for i in range(n * sample_every):\n",
    "        if sampler == 'pt':\n",
    "            v, h = rbm.parallel_tempering(v, **sampler_kwargs)\n",
    "        elif sampler.lower() == 'pcd':\n",
    "            _, _, v, h = rbm.contrastive_divergence(v, **sampler_kwargs)\n",
    "        else:\n",
    "            _, _, v, h = rbm.contrastive_divergence(v, persistent=True, **sampler_kwargs)\n",
    "        \n",
    "        if i % sample_every == 0:\n",
    "            if sampler == 'pt':\n",
    "                visibles[i // sample_every] = v[0]\n",
    "                hiddens[i // sample_every] = h[0]\n",
    "            else:\n",
    "                visibles[i // sample_every] = v\n",
    "                hiddens[i // sample_every] = h\n",
    "        \n",
    "    return visibles, hiddens"
   ]
  },
  {
   "cell_type": "code",
   "execution_count": null,
   "metadata": {},
   "outputs": [],
   "source": [
    "def gibbs_sample_rbm(rbm, n, initial, burnin=1000, sample_every=10):\n",
    "    v = initial\n",
    "    h = rbm.sample_hidden(v)\n",
    "    for i in range(burnin):\n",
    "        v = rbm.sample_visible(h)\n",
    "        h = rbm.sample_hidden(v)\n",
    "        \n",
    "    visibles = np.zeros((n, v.shape[0]))\n",
    "    hiddens = np.zeros((n, h.shape[0]))\n",
    "    for i in range(n * sample_every):\n",
    "        v = rbm.sample_visible(h)\n",
    "        h = rbm.sample_hidden(v)\n",
    "        if i % sample_every == 0:\n",
    "            visibles[i // sample_every] = rbm.sample_visible(h)\n",
    "            hiddens[i // sample_every] = rbm.sample_hidden(v)\n",
    "        \n",
    "    return visibles, hiddens"
   ]
  },
  {
   "cell_type": "code",
   "execution_count": null,
   "metadata": {},
   "outputs": [],
   "source": [
    "def plot_gaussian_mixtures(data, samples_v, title=None, include_means=False):\n",
    "    fig, axes = plt.subplots(data.shape[1], 1, figsize=(15, 16), sharex=True, sharey=True)\n",
    "    \n",
    "    if title is not None:\n",
    "        fig.suptitle(title, fontsize='x-large')\n",
    "\n",
    "    for j in range(data.shape[1]):\n",
    "        axes[j].hist(samples_v[:, j], alpha=0.5, bins=100, density=True, label=f\"{j} fake\")\n",
    "        axes[j].hist(data[:, j], alpha=0.5, bins=100, density=True, label=f\"{j} real\")\n",
    "        if include_means:\n",
    "            axes[j].vlines(np.mean(samples_v[:, j]), ymin=0, ymax=0.5)\n",
    "            axes[j].vlines(np.mean(data[:, j]), ymin=0, ymax=0.1, color='g', linewidth=5, alpha=0.7)\n",
    "        axes[j].legend()\n",
    "        axes[j].set_xlim(-5, 15)\n",
    "        \n",
    "    return fig, axes"
   ]
  },
  {
   "cell_type": "markdown",
   "metadata": {},
   "source": [
    "# Toy-problems"
   ]
  },
  {
   "cell_type": "markdown",
   "metadata": {},
   "source": [
    "## Multivariate Gaussian"
   ]
  },
  {
   "cell_type": "code",
   "execution_count": null,
   "metadata": {},
   "outputs": [],
   "source": [
    "!mkdir -p runs/test"
   ]
  },
  {
   "cell_type": "code",
   "execution_count": null,
   "metadata": {},
   "outputs": [],
   "source": [
    "!ls runs"
   ]
  },
  {
   "cell_type": "code",
   "execution_count": null,
   "metadata": {},
   "outputs": [],
   "source": [
    "!rm runs/test/*"
   ]
  },
  {
   "cell_type": "code",
   "execution_count": null,
   "metadata": {},
   "outputs": [],
   "source": [
    "visible_size = 6\n",
    "hidden_size = 6"
   ]
  },
  {
   "cell_type": "code",
   "execution_count": null,
   "metadata": {},
   "outputs": [],
   "source": [
    "means = np.arange(visible_size) + np.random.random(size=visible_size) * 3.0"
   ]
  },
  {
   "cell_type": "code",
   "execution_count": null,
   "metadata": {},
   "outputs": [],
   "source": [
    "cov = np.zeros((visible_size, visible_size))\n",
    "for i in range(visible_size):\n",
    "    cov[i, i] = 1.0\n",
    "    cov[max(i - 1, 0), i] = 1.0\n",
    "    cov[min(i + 1, visible_size - 1), i] = 1.0\n",
    "\n",
    "# cov[0, 1] = cov[1, 0] = 0.8\n",
    "# cov[5, 4] = cov[4, 5] = -0.5\n",
    "# cov[5, 5] = 3.0\n",
    "    \n",
    "cov = np.matmul(cov, cov)"
   ]
  },
  {
   "cell_type": "code",
   "execution_count": null,
   "metadata": {},
   "outputs": [],
   "source": [
    "fig = plt.figure(figsize=cov.shape)\n",
    "coloraxes = plt.imshow(cov, cmap=cm.viridis)\n",
    "cbar = fig.colorbar(coloraxes)"
   ]
  },
  {
   "cell_type": "code",
   "execution_count": null,
   "metadata": {},
   "outputs": [],
   "source": [
    "data = np.random.multivariate_normal(means, np.matmul(cov, cov) , size=100000)"
   ]
  },
  {
   "cell_type": "code",
   "execution_count": null,
   "metadata": {},
   "outputs": [],
   "source": [
    "train_data, test_data = train_test_split(data)"
   ]
  },
  {
   "cell_type": "code",
   "execution_count": null,
   "metadata": {},
   "outputs": [],
   "source": [
    "from ml.rbms.core import RBM"
   ]
  },
  {
   "cell_type": "code",
   "execution_count": null,
   "metadata": {},
   "outputs": [],
   "source": [
    "# Training parameters\n",
    "LR = 0.001\n",
    "BATCH_SIZE = 128\n",
    "NUM_EPOCHS = 10\n",
    "K = 1\n",
    "\n",
    "V_SIGMA = 0.1"
   ]
  },
  {
   "cell_type": "markdown",
   "metadata": {},
   "source": [
    "### Contrastive Divergence"
   ]
  },
  {
   "cell_type": "code",
   "execution_count": null,
   "metadata": {},
   "outputs": [],
   "source": [
    "rbm.v_sigma"
   ]
  },
  {
   "cell_type": "code",
   "execution_count": null,
   "metadata": {},
   "outputs": [],
   "source": [
    "rbm = RBM(visible_size, hidden_size, \n",
    "          visible_type='gaussian', hidden_type='bernoulli',\n",
    "          sampler_method=\"cd\",\n",
    "          estimate_visible_sigma=True)"
   ]
  },
  {
   "cell_type": "code",
   "execution_count": null,
   "metadata": {},
   "outputs": [],
   "source": [
    "# rbm.v_sigma = np.std(train_data, axis=0)"
   ]
  },
  {
   "cell_type": "code",
   "execution_count": null,
   "metadata": {},
   "outputs": [],
   "source": [
    "callbacks = dict(\n",
    "    pre_epoch=[lambda model, epoch: model.dump(f\"runs/test/{epoch:04d}_vars.pkl\", 'v_bias', 'h_bias', 'W')],\n",
    "    post_step=[lambda model, epoch, end: model.dump(f\"runs/test/{epoch:04d}_{end:04d}_vars.pkl\", 'v_bias', 'h_bias', 'W')]\n",
    ")"
   ]
  },
  {
   "cell_type": "code",
   "execution_count": null,
   "metadata": {},
   "outputs": [],
   "source": [
    "stats = rbm.fit(\n",
    "    train_data, \n",
    "    k=K, \n",
    "    batch_size=BATCH_SIZE, \n",
    "    num_epochs=NUM_EPOCHS * 10, \n",
    "    learning_rate=LR,\n",
    "    test_data=test_data,\n",
    "#     callbacks=callbacks\n",
    ")"
   ]
  },
  {
   "cell_type": "code",
   "execution_count": null,
   "metadata": {},
   "outputs": [],
   "source": [
    "!ls runs/test"
   ]
  },
  {
   "cell_type": "code",
   "execution_count": null,
   "metadata": {},
   "outputs": [],
   "source": [
    "list(stats.keys())"
   ]
  },
  {
   "cell_type": "code",
   "execution_count": null,
   "metadata": {},
   "outputs": [],
   "source": [
    "plt.plot(stats['nll_train'])\n",
    "plt.plot(stats['nll_test'])"
   ]
  },
  {
   "cell_type": "code",
   "execution_count": null,
   "metadata": {},
   "outputs": [],
   "source": [
    "samples_v, samples_h = gibbs_sample_rbm(rbm, 100000, data[123], burnin=10000)"
   ]
  },
  {
   "cell_type": "code",
   "execution_count": null,
   "metadata": {},
   "outputs": [],
   "source": [
    "plot_gaussian_mixtures(data, samples_v, title=f\"CD-k with $k={K}$\")"
   ]
  },
  {
   "cell_type": "code",
   "execution_count": null,
   "metadata": {},
   "outputs": [],
   "source": [
    "v = data\n",
    "\n",
    "np.mean(np.abs(np.sum(np.matmul(v, rbm.W), axis=1)))"
   ]
  },
  {
   "cell_type": "code",
   "execution_count": null,
   "metadata": {},
   "outputs": [],
   "source": [
    "im = np.cov(np.round(samples_v), rowvar=False)\n",
    "\n",
    "fig = plt.figure(figsize=im.shape)\n",
    "coloraxes = plt.imshow(im, cmap=cm.viridis)\n",
    "cbar = fig.colorbar(coloraxes)"
   ]
  },
  {
   "cell_type": "code",
   "execution_count": null,
   "metadata": {},
   "outputs": [],
   "source": [
    "fig = plt.figure(figsize=(visible_size, visible_size))\n",
    "coloraxes = plt.imshow(np.matmul(rbm.W, rbm.W.T), cmap=cm.viridis)\n",
    "cbar = fig.colorbar(coloraxes)"
   ]
  },
  {
   "cell_type": "markdown",
   "metadata": {},
   "source": [
    "### Weights through time"
   ]
  },
  {
   "cell_type": "code",
   "execution_count": null,
   "metadata": {},
   "outputs": [],
   "source": [
    "import os\n",
    "import glob"
   ]
  },
  {
   "cell_type": "code",
   "execution_count": null,
   "metadata": {},
   "outputs": [],
   "source": [
    "# [os.remove(p) for p in glob.glob(\"runs/test/00*_*_vars.pkl\")]"
   ]
  },
  {
   "cell_type": "code",
   "execution_count": null,
   "metadata": {},
   "outputs": [],
   "source": [
    "import pickle\n",
    "\n",
    "def load(p):\n",
    "    with open(p, \"rb\") as f:\n",
    "        return pickle.load(f)"
   ]
  },
  {
   "cell_type": "code",
   "execution_count": null,
   "metadata": {},
   "outputs": [],
   "source": [
    "import time\n",
    "from IPython import display\n",
    "\n",
    "fig, axes = plt.subplots(1, 4, figsize=(10 + 6 + 10, 20))\n",
    "\n",
    "# load weights\n",
    "history = (load(p) for p in sorted(glob.glob(\"runs/test/00*_*_vars.pkl\")))\n",
    "i = 0\n",
    "for h in history:\n",
    "#     print(i)\n",
    "    i += 1\n",
    "    if i % 50 != 0:\n",
    "        continue\n",
    "    W = h['W']\n",
    "    fig.suptitle(i)\n",
    "    axes[0].imshow(np.matmul(W, W.T), cmap=cm.viridis)\n",
    "    axes[1].imshow(h['v_bias'].reshape(-1, 1), cmap=cm.viridis)\n",
    "    axes[2].imshow(h['h_bias'].reshape(-1, 1), cmap=cm.viridis)\n",
    "    axes[3].imshow(np.matmul(W.T, W), cmap=cm.viridis)\n",
    "#     plt.colorbar(coloraxes)\n",
    "#     cbar = fig.colorbar(coloraxes)\n",
    "    display.clear_output(wait=True)\n",
    "    display.display(plt.gcf())\n",
    "    time.sleep(1.0)"
   ]
  },
  {
   "cell_type": "markdown",
   "metadata": {},
   "source": [
    "### Parallel Tempering"
   ]
  },
  {
   "cell_type": "code",
   "execution_count": null,
   "metadata": {},
   "outputs": [],
   "source": [
    "rbm = RBM(visible_size, hidden_size, \n",
    "          visible_type='gaussian', hidden_type='bernoulli',\n",
    "          sampler_method=\"pt\",\n",
    "          estimate_visible_sigma=True)"
   ]
  },
  {
   "cell_type": "code",
   "execution_count": null,
   "metadata": {},
   "outputs": [],
   "source": [
    "# rbm.v_sigma = np.var(train_data, axis=0)"
   ]
  },
  {
   "cell_type": "code",
   "execution_count": null,
   "metadata": {},
   "outputs": [],
   "source": [
    "train_nll, test_nll = rbm.fit(\n",
    "    train_data, \n",
    "    k=K, \n",
    "    batch_size=BATCH_SIZE, \n",
    "    num_epochs=NUM_EPOCHS * 10, \n",
    "    learning_rate=LR,\n",
    "    test_data=test_data,\n",
    "    persist=True,\n",
    "#     callbacks=callbacks\n",
    ")"
   ]
  },
  {
   "cell_type": "code",
   "execution_count": null,
   "metadata": {},
   "outputs": [],
   "source": [
    "plt.plot(train_nll)\n",
    "plt.plot(test_nll)"
   ]
  },
  {
   "cell_type": "code",
   "execution_count": null,
   "metadata": {},
   "outputs": [],
   "source": [
    "samples_v, samples_h = gibbs_sample_rbm(rbm, 10000, data[123], burnin=1000)"
   ]
  },
  {
   "cell_type": "code",
   "execution_count": null,
   "metadata": {},
   "outputs": [],
   "source": [
    "plot_gaussian_mixtures(data, samples_v, title=\"PT with $k = 1$ and $R = 10$\", include_means=True)"
   ]
  },
  {
   "cell_type": "code",
   "execution_count": null,
   "metadata": {},
   "outputs": [],
   "source": [
    "im = np.matmul(rbm.W, rbm.W.T)\n",
    "\n",
    "fig = plt.figure(figsize=im.shape)\n",
    "coloraxes = plt.imshow(im, cmap=cm.viridis)\n",
    "cbar = fig.colorbar(coloraxes)"
   ]
  },
  {
   "cell_type": "markdown",
   "metadata": {},
   "source": [
    "# 1D Ising"
   ]
  },
  {
   "cell_type": "code",
   "execution_count": null,
   "metadata": {},
   "outputs": [],
   "source": [
    "import pandas as pd"
   ]
  },
  {
   "cell_type": "code",
   "execution_count": null,
   "metadata": {},
   "outputs": [],
   "source": [
    "df = pd.read_csv(\"data/ising_binary_1d.csv\", skiprows=1)"
   ]
  },
  {
   "cell_type": "code",
   "execution_count": null,
   "metadata": {},
   "outputs": [],
   "source": [
    "from sklearn.model_selection import train_test_split"
   ]
  },
  {
   "cell_type": "code",
   "execution_count": null,
   "metadata": {},
   "outputs": [],
   "source": [
    "data = df.values.astype(np.float64)"
   ]
  },
  {
   "cell_type": "code",
   "execution_count": null,
   "metadata": {},
   "outputs": [],
   "source": [
    "# data += np.random.normal(scale=0.1, size=data.shape)"
   ]
  },
  {
   "cell_type": "code",
   "execution_count": null,
   "metadata": {},
   "outputs": [],
   "source": [
    "train_data, test_data = train_test_split(data)"
   ]
  },
  {
   "cell_type": "code",
   "execution_count": null,
   "metadata": {},
   "outputs": [],
   "source": [
    "LR = 0.01\n",
    "BATCH_SIZE = 128\n",
    "NUM_EPOCHS = 10\n",
    "K = 1\n",
    "\n",
    "V_SIGMA = 0.1"
   ]
  },
  {
   "cell_type": "code",
   "execution_count": null,
   "metadata": {},
   "outputs": [],
   "source": [
    "visible_size = 6\n",
    "hidden_size = 6"
   ]
  },
  {
   "cell_type": "markdown",
   "metadata": {},
   "source": [
    "## Model"
   ]
  },
  {
   "cell_type": "code",
   "execution_count": null,
   "metadata": {},
   "outputs": [],
   "source": [
    "rbm_cd = RBM(visible_size, hidden_size, \n",
    "          visible_type='gaussian', hidden_type='bernoulli',\n",
    "          sampler_method=\"cd\",\n",
    "          estimate_visible_sigma=False)\n",
    "\n",
    "rbm_cd.v_sigma = V_SIGMA"
   ]
  },
  {
   "cell_type": "code",
   "execution_count": null,
   "metadata": {},
   "outputs": [],
   "source": [
    "train_nll, test_nll = rbm_cd.fit(\n",
    "    train_data, \n",
    "    k=K, \n",
    "    batch_size=BATCH_SIZE, \n",
    "    num_epochs=NUM_EPOCHS, \n",
    "    learning_rate=LR,\n",
    "    test_data=test_data,\n",
    "#     reset_per_epoch=True,\n",
    "#     burnin=1000,\n",
    "#     persist=True\n",
    ")"
   ]
  },
  {
   "cell_type": "code",
   "execution_count": null,
   "metadata": {},
   "outputs": [],
   "source": [
    "plt.plot(train_nll)\n",
    "plt.plot(test_nll)"
   ]
  },
  {
   "cell_type": "code",
   "execution_count": null,
   "metadata": {},
   "outputs": [],
   "source": [
    "train_test_split?"
   ]
  },
  {
   "cell_type": "code",
   "execution_count": null,
   "metadata": {},
   "outputs": [],
   "source": [
    "fig = plt.figure(figsize=(visible_size, visible_size))\n",
    "coloraxes = plt.imshow(np.matmul(rbm_cd.W, rbm_cd.W.T), cmap=cm.viridis)\n",
    "cbar = fig.colorbar(coloraxes)"
   ]
  },
  {
   "cell_type": "markdown",
   "metadata": {},
   "source": [
    "### Sample"
   ]
  },
  {
   "cell_type": "code",
   "execution_count": null,
   "metadata": {},
   "outputs": [],
   "source": [
    "num_samples = 20000\n",
    "burnin = 2000\n",
    "sample_every = 10"
   ]
  },
  {
   "cell_type": "code",
   "execution_count": null,
   "metadata": {},
   "outputs": [],
   "source": [
    "samples_v, samples_h = gibbs_sample_rbm(rbm_cd, num_samples, test_data[0], burnin=burnin, sample_every=sample_every)"
   ]
  },
  {
   "cell_type": "code",
   "execution_count": null,
   "metadata": {},
   "outputs": [],
   "source": [
    "v = test_data[0].reshape(1, -1)\n",
    "betas = [1.0, 0.5, 0.25, 0.1]\n",
    "v_pt = np.tile(v, (len(betas), 1, 1))\n",
    "\n",
    "samples_v_pt, samples_h_pt = sample_rbm(\n",
    "    rbm_cd, num_samples, \n",
    "    v_pt, \n",
    "    burnin=burnin, \n",
    "    sample_every=sample_every,\n",
    "    sampler='pt',\n",
    "    k=1,\n",
    "    betas=betas\n",
    "#     betas=np.linspace(0.0, 1.0, 2 * K + 1)[::-1][:-1] # drop 0.0\n",
    "#     num_temps=10, max_temp=1000\n",
    ")"
   ]
  },
  {
   "cell_type": "code",
   "execution_count": null,
   "metadata": {},
   "outputs": [],
   "source": [
    "fig, axes = plt.subplots(data.shape[1], 2, figsize=(15, 16), sharex=False, sharey=False)\n",
    "\n",
    "fig.suptitle(\"CD with $k = 10$\", fontsize='x-large')\n",
    "\n",
    "for j in range(data.shape[1]):\n",
    "    axes[j][0].hist(samples_v[:, j], alpha=0.5, bins=100, density=True, label=f\"{j} fake (Gibbs sampling)\")\n",
    "    axes[j][1].hist(samples_v_pt[:, j], alpha=0.5, bins=100, density=True, color='red', label=f\"{j} fake (PT sampling)\")\n",
    "#     axes[j][0].hist(data[:, j], alpha=0.5, bins=100, density=True, label=f\"{j} real\")\n",
    "#     axes[j].vlines(np.mean(samples_v[:, j]), ymin=0, ymax=0.5)\n",
    "#     axes[j].vlines(np.mean(data[:, j]), ymin=0, ymax=0.1, color='g', linewidth=5, alpha=0.7)\n",
    "    axes[j][0].legend()\n",
    "    axes[j][1].legend()\n",
    "#     axes[j].set_xlim(-5, 15)\n",
    "\n",
    "plt.savefig(\"gibbs_and_pt_sampling_1d_ising_samples_200000_every_100_burnin_20000.png\")"
   ]
  },
  {
   "cell_type": "code",
   "execution_count": null,
   "metadata": {},
   "outputs": [],
   "source": [
    "fig = plt.figure(figsize=(visible_size, visible_size))\n",
    "coloraxes = plt.imshow(np.matmul(rbm_cd.W, rbm_cd.W.T), cmap=cm.viridis)\n",
    "cbar = fig.colorbar(coloraxes)"
   ]
  },
  {
   "cell_type": "code",
   "execution_count": null,
   "metadata": {},
   "outputs": [],
   "source": [
    "fig = plt.figure(figsize=(visible_size, visible_size))\n",
    "coloraxes = plt.imshow(np.corrcoef(samples_v, rowvar=False), cmap=cm.viridis)\n",
    "cbar = fig.colorbar(coloraxes)"
   ]
  },
  {
   "cell_type": "code",
   "execution_count": null,
   "metadata": {},
   "outputs": [],
   "source": [
    "fig = plt.figure(figsize=(visible_size, visible_size))\n",
    "coloraxes = plt.imshow(np.corrcoef(samples_v_pt, rowvar=False), cmap=cm.viridis)\n",
    "cbar = fig.colorbar(coloraxes)"
   ]
  },
  {
   "cell_type": "code",
   "execution_count": null,
   "metadata": {},
   "outputs": [],
   "source": [
    "im = np.cov(data, rowvar=False)\n",
    "\n",
    "fig = plt.figure(figsize=im.shape)\n",
    "coloraxes = plt.imshow(im, cmap=cm.viridis)\n",
    "cbar = fig.colorbar(coloraxes)"
   ]
  },
  {
   "cell_type": "markdown",
   "metadata": {},
   "source": [
    "### Parallel Tempering"
   ]
  },
  {
   "cell_type": "code",
   "execution_count": null,
   "metadata": {},
   "outputs": [],
   "source": [
    "rbm = RBM(visible_size, hidden_size, \n",
    "          visible_type='bernoulli', hidden_type='gaussian',\n",
    "          sampler_method=\"pt\",\n",
    "          estimate_visible_sigma=False)"
   ]
  },
  {
   "cell_type": "code",
   "execution_count": null,
   "metadata": {},
   "outputs": [],
   "source": [
    "rbm.v_sigma = V_SIGMA"
   ]
  },
  {
   "cell_type": "code",
   "execution_count": null,
   "metadata": {},
   "outputs": [],
   "source": [
    "train_nll, test_nll = rbm.fit(\n",
    "    train_data,\n",
    "    batch_size=BATCH_SIZE, \n",
    "    num_epochs=NUM_EPOCHS, \n",
    "    learning_rate=LR * 0.1,  # use smaller learning-rate when using PT\n",
    "    test_data=test_data,\n",
    "    k=1,\n",
    "    num_temps=K,  # k = 1 per temp, but use K temps\n",
    "    max_temp=1000,\n",
    ")"
   ]
  },
  {
   "cell_type": "code",
   "execution_count": null,
   "metadata": {},
   "outputs": [],
   "source": [
    "plt.plot(train_nll)\n",
    "plt.plot(test_nll)"
   ]
  },
  {
   "cell_type": "markdown",
   "metadata": {},
   "source": [
    "#### Sample"
   ]
  },
  {
   "cell_type": "code",
   "execution_count": null,
   "metadata": {},
   "outputs": [],
   "source": [
    "samples_v, samples_h = gibbs_sample_rbm(rbm, 100000, test_data[0], burnin=10000, sample_every=1)"
   ]
  },
  {
   "cell_type": "code",
   "execution_count": null,
   "metadata": {},
   "outputs": [],
   "source": [
    "fig, axes = plt.subplots(data.shape[1], 1, figsize=(15, 16), sharex=True, sharey=True)\n",
    "\n",
    "fig.suptitle(\"PT with $k = 1$ and $R = 10$\", fontsize='x-large')\n",
    "\n",
    "for j in range(data.shape[1]):\n",
    "    axes[j].hist(samples_v[:, j], alpha=0.5, bins=100, density=True, label=f\"{j} fake\")\n",
    "    axes[j].hist(data[:, j], alpha=0.5, bins=100, density=True, label=f\"{j} real\")\n",
    "    axes[j].vlines(np.mean(samples_v[:, j]), ymin=0, ymax=0.5)\n",
    "#     axes[j].vlines(np.mean(data[:, j]), ymin=0, ymax=0.1, color='g', linewidth=5, alpha=0.7)\n",
    "    axes[j].legend()\n",
    "#     axes[j].set_xlim(-5, 15)"
   ]
  },
  {
   "cell_type": "code",
   "execution_count": null,
   "metadata": {},
   "outputs": [],
   "source": [
    "fig = plt.figure(figsize=(visible_size, visible_size))\n",
    "coloraxes = plt.imshow(np.matmul(rbm.W, rbm.W.T), cmap=cm.viridis)\n",
    "cbar = fig.colorbar(coloraxes)"
   ]
  },
  {
   "cell_type": "code",
   "execution_count": null,
   "metadata": {},
   "outputs": [],
   "source": [
    "fig = plt.figure(figsize=(visible_size, visible_size))\n",
    "coloraxes = plt.imshow(np.cov(train_data, rowvar=False), cmap=cm.viridis)\n",
    "cbar = fig.colorbar(coloraxes)"
   ]
  },
  {
   "cell_type": "code",
   "execution_count": null,
   "metadata": {},
   "outputs": [],
   "source": [
    "fig = plt.figure(figsize=(visible_size, visible_size))\n",
    "coloraxes = plt.imshow(np.cov(samples_v, rowvar=False), cmap=cm.viridis)\n",
    "cbar = fig.colorbar(coloraxes)"
   ]
  }
 ],
 "metadata": {
  "language_info": {
   "name": "python",
   "pygments_lexer": "ipython3"
  }
 },
 "nbformat": 4,
 "nbformat_minor": 2
}
