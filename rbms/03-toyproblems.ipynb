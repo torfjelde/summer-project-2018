{
 "cells": [
  {
   "cell_type": "markdown",
   "metadata": {},
   "source": [
    "# Setup"
   ]
  },
  {
   "cell_type": "code",
   "execution_count": null,
   "metadata": {
    "ExecuteTime": {
     "start_time": "2019-01-19T13:55:00.026Z"
    }
   },
   "outputs": [],
   "source": [
    "import matplotlib.pyplot as plt\n",
    "%matplotlib inline\n",
    "\n",
    "import seaborn as sns; sns.set()"
   ]
  },
  {
   "cell_type": "code",
   "execution_count": 2,
   "metadata": {
    "ExecuteTime": {
     "end_time": "2018-09-14T06:34:47.271074Z",
     "start_time": "2018-09-14T06:34:47.268242Z"
    }
   },
   "outputs": [],
   "source": [
    "import matplotlib.cm as cm"
   ]
  },
  {
   "cell_type": "code",
   "execution_count": 3,
   "metadata": {
    "ExecuteTime": {
     "end_time": "2018-09-14T06:34:47.380954Z",
     "start_time": "2018-09-14T06:34:47.273456Z"
    }
   },
   "outputs": [],
   "source": [
    "from sklearn.model_selection import train_test_split"
   ]
  },
  {
   "cell_type": "code",
   "execution_count": 4,
   "metadata": {
    "ExecuteTime": {
     "end_time": "2018-09-14T06:34:47.434241Z",
     "start_time": "2018-09-14T06:34:47.383144Z"
    }
   },
   "outputs": [],
   "source": [
    "from ml import np\n",
    "from ml.rbms import RBM"
   ]
  },
  {
   "cell_type": "code",
   "execution_count": 5,
   "metadata": {
    "ExecuteTime": {
     "end_time": "2018-09-14T06:34:47.448962Z",
     "start_time": "2018-09-14T06:34:47.438573Z"
    }
   },
   "outputs": [],
   "source": [
    "def sample_rbm(rbm, n, initial, burnin=1000, sample_ever=10, sampler='cd', sample_every=10, **sampler_kwargs):\n",
    "    v = initial\n",
    "    \n",
    "    for i in range(burnin):\n",
    "        if sampler == 'pt':\n",
    "            v, h = rbm.parallel_tempering(v, **sampler_kwargs)\n",
    "        elif sampler.lower() == 'pcd':\n",
    "            _, _, v, h = rbm.contrastive_divergence(v, **sampler_kwargs)\n",
    "        else:\n",
    "            _, _, v, h = rbm.contrastive_divergence(v, persistent=True, **sampler_kwargs)\n",
    "    if sampler == 'pt':\n",
    "        visibles = np.zeros((n, v[0].shape[1]))\n",
    "        hiddens = np.zeros((n, h[0].shape[1]))\n",
    "    else:\n",
    "        visibles = np.zeros((n, v.shape[1]))\n",
    "        hiddens = np.zeros((n, h.shape[1]))\n",
    "    for i in range(n * sample_every):\n",
    "        if sampler == 'pt':\n",
    "            v, h = rbm.parallel_tempering(v, **sampler_kwargs)\n",
    "        elif sampler.lower() == 'pcd':\n",
    "            _, _, v, h = rbm.contrastive_divergence(v, **sampler_kwargs)\n",
    "        else:\n",
    "            _, _, v, h = rbm.contrastive_divergence(v, persistent=True, **sampler_kwargs)\n",
    "        \n",
    "        if i % sample_every == 0:\n",
    "            if sampler == 'pt':\n",
    "                visibles[i // sample_every] = v[0]\n",
    "                hiddens[i // sample_every] = h[0]\n",
    "            else:\n",
    "                visibles[i // sample_every] = v\n",
    "                hiddens[i // sample_every] = h\n",
    "        \n",
    "    return visibles, hiddens"
   ]
  },
  {
   "cell_type": "code",
   "execution_count": 6,
   "metadata": {
    "ExecuteTime": {
     "end_time": "2018-09-14T06:34:47.459217Z",
     "start_time": "2018-09-14T06:34:47.451542Z"
    }
   },
   "outputs": [],
   "source": [
    "def gibbs_sample_rbm(rbm, n, initial, burnin=1000, sample_every=10):\n",
    "    v = initial\n",
    "    h = rbm.sample_hidden(v)\n",
    "    for i in range(burnin):\n",
    "        v = rbm.sample_visible(h)\n",
    "        h = rbm.sample_hidden(v)\n",
    "        \n",
    "    visibles = np.zeros((n, v.shape[0]))\n",
    "    hiddens = np.zeros((n, h.shape[0]))\n",
    "    for i in range(n * sample_every):\n",
    "        v = rbm.sample_visible(h)\n",
    "        h = rbm.sample_hidden(v)\n",
    "        if i % sample_every == 0:\n",
    "            visibles[i // sample_every] = rbm.sample_visible(h)\n",
    "            hiddens[i // sample_every] = rbm.sample_hidden(v)\n",
    "        \n",
    "    return visibles, hiddens"
   ]
  },
  {
   "cell_type": "code",
   "execution_count": 7,
   "metadata": {
    "ExecuteTime": {
     "end_time": "2018-09-14T06:34:47.471200Z",
     "start_time": "2018-09-14T06:34:47.462634Z"
    }
   },
   "outputs": [],
   "source": [
    "def plot_gaussian_mixtures(data, samples_v, title=None, include_means=False):\n",
    "    fig, axes = plt.subplots(data.shape[1], 1, figsize=(15, 16), sharex=True, sharey=True)\n",
    "    \n",
    "    if title is not None:\n",
    "        fig.suptitle(title, fontsize='x-large')\n",
    "\n",
    "    for j in range(data.shape[1]):\n",
    "        axes[j].hist(samples_v[:, j], alpha=0.5, bins=100, density=True, label=f\"{j} fake\")\n",
    "        axes[j].hist(data[:, j], alpha=0.5, bins=100, density=True, label=f\"{j} real\")\n",
    "        if include_means:\n",
    "            axes[j].vlines(np.mean(samples_v[:, j]), ymin=0, ymax=0.5)\n",
    "            axes[j].vlines(np.mean(data[:, j]), ymin=0, ymax=0.1, color='g', linewidth=5, alpha=0.7)\n",
    "        axes[j].legend()\n",
    "        axes[j].set_xlim(-5, 15)\n",
    "        \n",
    "    return fig, axes"
   ]
  },
  {
   "cell_type": "markdown",
   "metadata": {},
   "source": [
    "# Toy-problems"
   ]
  },
  {
   "cell_type": "markdown",
   "metadata": {},
   "source": [
    "## Multivariate Gaussian"
   ]
  },
  {
   "cell_type": "code",
   "execution_count": 8,
   "metadata": {
    "ExecuteTime": {
     "end_time": "2018-07-15T11:05:14.967266Z",
     "start_time": "2018-07-15T11:05:14.844277Z"
    }
   },
   "outputs": [],
   "source": [
    "!mkdir -p runs/test"
   ]
  },
  {
   "cell_type": "code",
   "execution_count": 9,
   "metadata": {
    "ExecuteTime": {
     "end_time": "2018-07-15T11:05:15.091154Z",
     "start_time": "2018-07-15T11:05:14.972707Z"
    }
   },
   "outputs": [
    {
     "name": "stdout",
     "output_type": "stream",
     "text": [
      "test\r\n"
     ]
    }
   ],
   "source": [
    "!ls runs"
   ]
  },
  {
   "cell_type": "code",
   "execution_count": 10,
   "metadata": {
    "ExecuteTime": {
     "end_time": "2018-07-15T11:05:15.208639Z",
     "start_time": "2018-07-15T11:05:15.093174Z"
    },
    "scrolled": false
   },
   "outputs": [
    {
     "name": "stdout",
     "output_type": "stream",
     "text": [
      "rm: cannot remove 'runs/test/*': No such file or directory\r\n"
     ]
    }
   ],
   "source": [
    "!rm runs/test/*"
   ]
  },
  {
   "cell_type": "code",
   "execution_count": 8,
   "metadata": {
    "ExecuteTime": {
     "end_time": "2018-09-14T06:34:49.152280Z",
     "start_time": "2018-09-14T06:34:49.148958Z"
    }
   },
   "outputs": [],
   "source": [
    "visible_size = 6\n",
    "hidden_size = 6"
   ]
  },
  {
   "cell_type": "code",
   "execution_count": 9,
   "metadata": {
    "ExecuteTime": {
     "end_time": "2018-09-14T06:34:49.390758Z",
     "start_time": "2018-09-14T06:34:49.385325Z"
    }
   },
   "outputs": [],
   "source": [
    "means = np.arange(visible_size) + np.random.random(size=visible_size) * 3.0"
   ]
  },
  {
   "cell_type": "code",
   "execution_count": 10,
   "metadata": {
    "ExecuteTime": {
     "end_time": "2018-09-14T06:34:49.698086Z",
     "start_time": "2018-09-14T06:34:49.658027Z"
    }
   },
   "outputs": [],
   "source": [
    "cov = np.zeros((visible_size, visible_size))\n",
    "for i in range(visible_size):\n",
    "    cov[i, i] = 1.0\n",
    "    cov[max(i - 1, 0), i] = 1.0\n",
    "    cov[min(i + 1, visible_size - 1), i] = 1.0\n",
    "\n",
    "# cov[0, 1] = cov[1, 0] = 0.8\n",
    "# cov[5, 4] = cov[4, 5] = -0.5\n",
    "# cov[5, 5] = 3.0\n",
    "    \n",
    "cov = np.matmul(cov, cov)"
   ]
  },
  {
   "cell_type": "code",
   "execution_count": 11,
   "metadata": {
    "ExecuteTime": {
     "end_time": "2018-09-14T06:34:50.129048Z",
     "start_time": "2018-09-14T06:34:49.891247Z"
    }
   },
   "outputs": [
    {
     "data": {
      "image/png": "[encoded data removed]",
      "text/plain": [
       "<Figure size 432x432 with 2 Axes>"
      ]
     },
     "metadata": {},
     "output_type": "display_data"
    }
   ],
   "source": [
    "fig = plt.figure(figsize=cov.shape)\n",
    "coloraxes = plt.imshow(cov, cmap=cm.viridis)\n",
    "cbar = fig.colorbar(coloraxes)"
   ]
  },
  {
   "cell_type": "code",
   "execution_count": 12,
   "metadata": {
    "ExecuteTime": {
     "end_time": "2018-09-14T06:34:51.523264Z",
     "start_time": "2018-09-14T06:34:51.421789Z"
    },
    "scrolled": true
   },
   "outputs": [],
   "source": [
    "data = np.random.multivariate_normal(means, np.matmul(cov, cov) , size=100000)"
   ]
  },
  {
   "cell_type": "code",
   "execution_count": 13,
   "metadata": {
    "ExecuteTime": {
     "end_time": "2018-09-14T06:34:51.996716Z",
     "start_time": "2018-09-14T06:34:51.963720Z"
    }
   },
   "outputs": [],
   "source": [
    "train_data, test_data = train_test_split(data)"
   ]
  },
  {
   "cell_type": "code",
   "execution_count": 14,
   "metadata": {
    "ExecuteTime": {
     "end_time": "2018-09-14T06:34:52.146682Z",
     "start_time": "2018-09-14T06:34:52.138293Z"
    },
    "scrolled": true
   },
   "outputs": [],
   "source": [
    "from ml.rbms.core import RBM"
   ]
  },
  {
   "cell_type": "code",
   "execution_count": 15,
   "metadata": {
    "ExecuteTime": {
     "end_time": "2018-09-14T06:34:52.425179Z",
     "start_time": "2018-09-14T06:34:52.419533Z"
    }
   },
   "outputs": [],
   "source": [
    "# Training parameters\n",
    "LR = 0.001\n",
    "BATCH_SIZE = 128\n",
    "NUM_EPOCHS = 10\n",
    "K = 1\n",
    "\n",
    "V_SIGMA = 0.1"
   ]
  },
  {
   "cell_type": "markdown",
   "metadata": {},
   "source": [
    "### Contrastive Divergence"
   ]
  },
  {
   "cell_type": "code",
   "execution_count": 38,
   "metadata": {
    "ExecuteTime": {
     "end_time": "2018-09-12T19:24:27.189767Z",
     "start_time": "2018-09-12T19:24:27.178804Z"
    }
   },
   "outputs": [
    {
     "data": {
      "text/plain": [
       "array([1.13551287, 1.18028522, 1.4425767 , 1.53532789, 1.43501758,\n",
       "       1.27995572])"
      ]
     },
     "execution_count": 38,
     "metadata": {},
     "output_type": "execute_result"
    }
   ],
   "source": [
    "rbm.v_sigma"
   ]
  },
  {
   "cell_type": "code",
   "execution_count": 28,
   "metadata": {
    "ExecuteTime": {
     "end_time": "2018-09-12T19:21:33.487595Z",
     "start_time": "2018-09-12T19:21:33.479978Z"
    }
   },
   "outputs": [],
   "source": [
    "rbm = RBM(visible_size, hidden_size, \n",
    "          visible_type='gaussian', hidden_type='bernoulli',\n",
    "          sampler_method=\"cd\",\n",
    "          estimate_visible_sigma=True)"
   ]
  },
  {
   "cell_type": "code",
   "execution_count": 29,
   "metadata": {
    "ExecuteTime": {
     "end_time": "2018-09-12T19:21:33.913907Z",
     "start_time": "2018-09-12T19:21:33.909844Z"
    }
   },
   "outputs": [],
   "source": [
    "# rbm.v_sigma = np.std(train_data, axis=0)"
   ]
  },
  {
   "cell_type": "code",
   "execution_count": 30,
   "metadata": {
    "ExecuteTime": {
     "end_time": "2018-09-12T19:21:34.369939Z",
     "start_time": "2018-09-12T19:21:34.364872Z"
    }
   },
   "outputs": [],
   "source": [
    "callbacks = dict(\n",
    "    pre_epoch=[lambda model, epoch: model.dump(f\"runs/test/{epoch:04d}_vars.pkl\", 'v_bias', 'h_bias', 'W')],\n",
    "    post_step=[lambda model, epoch, end: model.dump(f\"runs/test/{epoch:04d}_{end:04d}_vars.pkl\", 'v_bias', 'h_bias', 'W')]\n",
    ")"
   ]
  },
  {
   "cell_type": "code",
   "execution_count": 31,
   "metadata": {
    "ExecuteTime": {
     "end_time": "2018-09-12T19:22:28.439787Z",
     "start_time": "2018-09-12T19:21:35.336577Z"
    },
    "scrolled": true
   },
   "outputs": [
    {
     "name": "stderr",
     "output_type": "stream",
     "text": [
      "2018-09-12 21:21:35,363 INFO      core: [001 / 100] NLL (train):            100.54889\n",
      "2018-09-12 21:21:35,370 INFO      core: [001 / 100] NLL (test):             100.88571\n",
      "100%|██████████| 75000/75000 [00:00<00:00, 151758.01it/s]\n",
      "2018-09-12 21:21:35,867 INFO      core: [001 / 100] Reconstruction error: 26.36716871412635\n",
      "2018-09-12 21:21:35,868 INFO      core: [001 / 100] Loss: 0.05567309844542126\n",
      "2018-09-12 21:21:35,888 INFO      core: [002 / 100] NLL (train):             -5.93929\n",
      "2018-09-12 21:21:35,893 INFO      core: [002 / 100] NLL (test):              -5.86582\n",
      "100%|██████████| 75000/75000 [00:00<00:00, 143884.10it/s]\n",
      "2018-09-12 21:21:36,419 INFO      core: [002 / 100] Reconstruction error: 25.068971801919503\n",
      "2018-09-12 21:21:36,420 INFO      core: [002 / 100] Loss: 0.011502673684833733\n",
      "2018-09-12 21:21:36,446 INFO      core: [003 / 100] NLL (train):             -8.95883\n",
      "2018-09-12 21:21:36,454 INFO      core: [003 / 100] NLL (test):              -8.87863\n",
      "100%|██████████| 75000/75000 [00:00<00:00, 127242.17it/s]\n",
      "2018-09-12 21:21:37,047 INFO      core: [003 / 100] Reconstruction error: 24.767819338076176\n",
      "2018-09-12 21:21:37,048 INFO      core: [003 / 100] Loss: 0.008117807300738827\n",
      "2018-09-12 21:21:37,066 INFO      core: [004 / 100] NLL (train):            -10.26873\n",
      "2018-09-12 21:21:37,073 INFO      core: [004 / 100] NLL (test):             -10.18589\n",
      "100%|██████████| 75000/75000 [00:00<00:00, 133809.52it/s]\n",
      "2018-09-12 21:21:37,641 INFO      core: [004 / 100] Reconstruction error: 24.696924132663053\n",
      "2018-09-12 21:21:37,642 INFO      core: [004 / 100] Loss: 0.008226160006837712\n",
      "2018-09-12 21:21:37,663 INFO      core: [005 / 100] NLL (train):            -10.96758\n",
      "2018-09-12 21:21:37,669 INFO      core: [005 / 100] NLL (test):             -10.88298\n",
      "100%|██████████| 75000/75000 [00:00<00:00, 146191.29it/s]\n",
      "2018-09-12 21:21:38,185 INFO      core: [005 / 100] Reconstruction error: 24.723904969678657\n",
      "2018-09-12 21:21:38,186 INFO      core: [005 / 100] Loss: 0.008047588331035999\n",
      "2018-09-12 21:21:38,209 INFO      core: [006 / 100] NLL (train):            -11.46816\n",
      "2018-09-12 21:21:38,216 INFO      core: [006 / 100] NLL (test):             -11.38311\n",
      "100%|██████████| 75000/75000 [00:00<00:00, 148538.45it/s]\n",
      "2018-09-12 21:21:38,724 INFO      core: [006 / 100] Reconstruction error: 24.693707574795265\n",
      "2018-09-12 21:21:38,725 INFO      core: [006 / 100] Loss: 0.008284103752467138\n",
      "2018-09-12 21:21:38,746 INFO      core: [007 / 100] NLL (train):            -11.36704\n",
      "2018-09-12 21:21:38,753 INFO      core: [007 / 100] NLL (test):             -11.28168\n",
      "100%|██████████| 75000/75000 [00:00<00:00, 115660.65it/s]\n",
      "2018-09-12 21:21:39,408 INFO      core: [007 / 100] Reconstruction error: 24.687899199312568\n",
      "2018-09-12 21:21:39,409 INFO      core: [007 / 100] Loss: 0.007942885904209237\n",
      "2018-09-12 21:21:39,435 INFO      core: [008 / 100] NLL (train):            -11.23593\n",
      "2018-09-12 21:21:39,442 INFO      core: [008 / 100] NLL (test):             -11.15088\n",
      "100%|██████████| 75000/75000 [00:00<00:00, 152000.80it/s]\n",
      "2018-09-12 21:21:39,942 INFO      core: [008 / 100] Reconstruction error: 24.658262244573873\n",
      "2018-09-12 21:21:39,943 INFO      core: [008 / 100] Loss: 0.008180552948383938\n",
      "2018-09-12 21:21:39,963 INFO      core: [009 / 100] NLL (train):            -11.23938\n",
      "2018-09-12 21:21:39,969 INFO      core: [009 / 100] NLL (test):             -11.15439\n",
      "100%|██████████| 75000/75000 [00:00<00:00, 110220.10it/s]\n",
      "2018-09-12 21:21:40,656 INFO      core: [009 / 100] Reconstruction error: 24.619544677989623\n",
      "2018-09-12 21:21:40,657 INFO      core: [009 / 100] Loss: 0.0083169788884091\n",
      "2018-09-12 21:21:40,683 INFO      core: [010 / 100] NLL (train):            -11.21428\n",
      "2018-09-12 21:21:40,693 INFO      core: [010 / 100] NLL (test):             -11.12928\n",
      "100%|██████████| 75000/75000 [00:00<00:00, 133448.67it/s]\n",
      "2018-09-12 21:21:41,263 INFO      core: [010 / 100] Reconstruction error: 24.685044382034334\n",
      "2018-09-12 21:21:41,264 INFO      core: [010 / 100] Loss: 0.008031808641870537\n",
      "2018-09-12 21:21:41,282 INFO      core: [011 / 100] NLL (train):            -11.31019\n",
      "2018-09-12 21:21:41,289 INFO      core: [011 / 100] NLL (test):             -11.22556\n",
      "100%|██████████| 75000/75000 [00:00<00:00, 138319.48it/s]\n",
      "2018-09-12 21:21:41,839 INFO      core: [011 / 100] Reconstruction error: 24.608493041196958\n",
      "2018-09-12 21:21:41,840 INFO      core: [011 / 100] Loss: 0.008090068617200422\n",
      "2018-09-12 21:21:41,858 INFO      core: [012 / 100] NLL (train):            -11.17933\n",
      "2018-09-12 21:21:41,864 INFO      core: [012 / 100] NLL (test):             -11.09458\n",
      "100%|██████████| 75000/75000 [00:00<00:00, 145358.63it/s]\n",
      "2018-09-12 21:21:42,386 INFO      core: [012 / 100] Reconstruction error: 24.608664226705894\n",
      "2018-09-12 21:21:42,387 INFO      core: [012 / 100] Loss: 0.008007018517081356\n",
      "2018-09-12 21:21:42,406 INFO      core: [013 / 100] NLL (train):            -11.04544\n",
      "2018-09-12 21:21:42,414 INFO      core: [013 / 100] NLL (test):             -10.96023\n",
      "100%|██████████| 75000/75000 [00:00<00:00, 134888.68it/s]\n",
      "2018-09-12 21:21:42,975 INFO      core: [013 / 100] Reconstruction error: 24.583733438805446\n",
      "2018-09-12 21:21:42,975 INFO      core: [013 / 100] Loss: 0.007974715765724684\n",
      "2018-09-12 21:21:42,995 INFO      core: [014 / 100] NLL (train):            -11.10666\n",
      "2018-09-12 21:21:43,002 INFO      core: [014 / 100] NLL (test):             -11.02182\n",
      "100%|██████████| 75000/75000 [00:00<00:00, 142270.98it/s]\n",
      "2018-09-12 21:21:43,538 INFO      core: [014 / 100] Reconstruction error: 24.56116116423967\n",
      "2018-09-12 21:21:43,540 INFO      core: [014 / 100] Loss: 0.008056125257852605\n",
      "2018-09-12 21:21:43,559 INFO      core: [015 / 100] NLL (train):            -11.10994\n",
      "2018-09-12 21:21:43,566 INFO      core: [015 / 100] NLL (test):             -11.02549\n",
      "100%|██████████| 75000/75000 [00:00<00:00, 152243.86it/s]\n",
      "2018-09-12 21:21:44,067 INFO      core: [015 / 100] Reconstruction error: 24.58279359248209\n",
      "2018-09-12 21:21:44,068 INFO      core: [015 / 100] Loss: 0.008234919104498799\n",
      "2018-09-12 21:21:44,094 INFO      core: [016 / 100] NLL (train):            -10.99099\n",
      "2018-09-12 21:21:44,101 INFO      core: [016 / 100] NLL (test):             -10.90671\n",
      "100%|██████████| 75000/75000 [00:00<00:00, 140252.46it/s]\n",
      "2018-09-12 21:21:44,642 INFO      core: [016 / 100] Reconstruction error: 24.537423623223198\n",
      "2018-09-12 21:21:44,644 INFO      core: [016 / 100] Loss: 0.007971736852566478\n",
      "2018-09-12 21:21:44,662 INFO      core: [017 / 100] NLL (train):            -11.02250\n",
      "2018-09-12 21:21:44,668 INFO      core: [017 / 100] NLL (test):             -10.93835\n",
      "100%|██████████| 75000/75000 [00:00<00:00, 150648.89it/s]\n",
      "2018-09-12 21:21:45,173 INFO      core: [017 / 100] Reconstruction error: 24.54781992438376\n",
      "2018-09-12 21:21:45,174 INFO      core: [017 / 100] Loss: 0.008170962679299572\n",
      "2018-09-12 21:21:45,192 INFO      core: [018 / 100] NLL (train):            -10.97398\n",
      "2018-09-12 21:21:45,198 INFO      core: [018 / 100] NLL (test):             -10.88959\n",
      "100%|██████████| 75000/75000 [00:00<00:00, 137260.08it/s]\n",
      "2018-09-12 21:21:45,751 INFO      core: [018 / 100] Reconstruction error: 24.529395816827776\n",
      "2018-09-12 21:21:45,751 INFO      core: [018 / 100] Loss: 0.007891026826232607\n",
      "2018-09-12 21:21:45,772 INFO      core: [019 / 100] NLL (train):            -10.77447\n",
      "2018-09-12 21:21:45,779 INFO      core: [019 / 100] NLL (test):             -10.69071\n",
      "100%|██████████| 75000/75000 [00:00<00:00, 138949.20it/s]\n",
      "2018-09-12 21:21:46,323 INFO      core: [019 / 100] Reconstruction error: 24.490756462431907\n",
      "2018-09-12 21:21:46,324 INFO      core: [019 / 100] Loss: 0.007747019947992627\n",
      "2018-09-12 21:21:46,344 INFO      core: [020 / 100] NLL (train):            -10.63055\n",
      "2018-09-12 21:21:46,352 INFO      core: [020 / 100] NLL (test):             -10.54579\n",
      "100%|██████████| 75000/75000 [00:00<00:00, 151434.95it/s]\n",
      "2018-09-12 21:21:46,853 INFO      core: [020 / 100] Reconstruction error: 24.48472977925415\n",
      "2018-09-12 21:21:46,853 INFO      core: [020 / 100] Loss: 0.008180706702711234\n",
      "2018-09-12 21:21:46,873 INFO      core: [021 / 100] NLL (train):            -10.76347\n",
      "2018-09-12 21:21:46,880 INFO      core: [021 / 100] NLL (test):             -10.67926\n"
     ]
    },
    {
     "name": "stderr",
     "output_type": "stream",
     "text": [
      "100%|██████████| 75000/75000 [00:00<00:00, 150834.17it/s]\n",
      "2018-09-12 21:21:47,382 INFO      core: [021 / 100] Reconstruction error: 24.443117618110474\n",
      "2018-09-12 21:21:47,382 INFO      core: [021 / 100] Loss: 0.008198275916648205\n",
      "2018-09-12 21:21:47,400 INFO      core: [022 / 100] NLL (train):            -10.50115\n",
      "2018-09-12 21:21:47,407 INFO      core: [022 / 100] NLL (test):             -10.41653\n",
      "100%|██████████| 75000/75000 [00:00<00:00, 155644.43it/s]\n",
      "2018-09-12 21:21:47,893 INFO      core: [022 / 100] Reconstruction error: 24.411658270885802\n",
      "2018-09-12 21:21:47,894 INFO      core: [022 / 100] Loss: 0.008182615610870312\n",
      "2018-09-12 21:21:47,914 INFO      core: [023 / 100] NLL (train):            -10.36800\n",
      "2018-09-12 21:21:47,920 INFO      core: [023 / 100] NLL (test):             -10.28346\n",
      "100%|██████████| 75000/75000 [00:00<00:00, 154384.81it/s]\n",
      "2018-09-12 21:21:48,410 INFO      core: [023 / 100] Reconstruction error: 24.366399754539785\n",
      "2018-09-12 21:21:48,411 INFO      core: [023 / 100] Loss: 0.007933182719375138\n",
      "2018-09-12 21:21:48,430 INFO      core: [024 / 100] NLL (train):            -10.21589\n",
      "2018-09-12 21:21:48,435 INFO      core: [024 / 100] NLL (test):             -10.13120\n",
      "100%|██████████| 75000/75000 [00:00<00:00, 158195.31it/s]\n",
      "2018-09-12 21:21:48,912 INFO      core: [024 / 100] Reconstruction error: 24.396372353351534\n",
      "2018-09-12 21:21:48,913 INFO      core: [024 / 100] Loss: 0.00824948349221655\n",
      "2018-09-12 21:21:48,932 INFO      core: [025 / 100] NLL (train):            -10.24361\n",
      "2018-09-12 21:21:48,938 INFO      core: [025 / 100] NLL (test):             -10.15927\n",
      "100%|██████████| 75000/75000 [00:00<00:00, 156679.74it/s]\n",
      "2018-09-12 21:21:49,420 INFO      core: [025 / 100] Reconstruction error: 24.306805240951626\n",
      "2018-09-12 21:21:49,421 INFO      core: [025 / 100] Loss: 0.007948642389820945\n",
      "2018-09-12 21:21:49,441 INFO      core: [026 / 100] NLL (train):            -10.34557\n",
      "2018-09-12 21:21:49,447 INFO      core: [026 / 100] NLL (test):             -10.26149\n",
      "100%|██████████| 75000/75000 [00:00<00:00, 155682.64it/s]\n",
      "2018-09-12 21:21:49,933 INFO      core: [026 / 100] Reconstruction error: 24.291892974699454\n",
      "2018-09-12 21:21:49,933 INFO      core: [026 / 100] Loss: 0.008080194184059161\n",
      "2018-09-12 21:21:49,952 INFO      core: [027 / 100] NLL (train):            -10.31296\n",
      "2018-09-12 21:21:49,960 INFO      core: [027 / 100] NLL (test):             -10.22799\n",
      "100%|██████████| 75000/75000 [00:00<00:00, 148791.31it/s]\n",
      "2018-09-12 21:21:50,470 INFO      core: [027 / 100] Reconstruction error: 24.22141110413922\n",
      "2018-09-12 21:21:50,471 INFO      core: [027 / 100] Loss: 0.007744379787528882\n",
      "2018-09-12 21:21:50,491 INFO      core: [028 / 100] NLL (train):            -10.07696\n",
      "2018-09-12 21:21:50,497 INFO      core: [028 / 100] NLL (test):              -9.99109\n",
      "100%|██████████| 75000/75000 [00:00<00:00, 158799.36it/s]\n",
      "2018-09-12 21:21:50,973 INFO      core: [028 / 100] Reconstruction error: 24.20764458037009\n",
      "2018-09-12 21:21:50,974 INFO      core: [028 / 100] Loss: 0.007930803457854622\n",
      "2018-09-12 21:21:50,995 INFO      core: [029 / 100] NLL (train):             -9.92784\n",
      "2018-09-12 21:21:51,001 INFO      core: [029 / 100] NLL (test):              -9.84132\n",
      "100%|██████████| 75000/75000 [00:00<00:00, 156122.04it/s]\n",
      "2018-09-12 21:21:51,485 INFO      core: [029 / 100] Reconstruction error: 24.253895862193286\n",
      "2018-09-12 21:21:51,485 INFO      core: [029 / 100] Loss: 0.008166079008598382\n",
      "2018-09-12 21:21:51,504 INFO      core: [030 / 100] NLL (train):             -9.85507\n",
      "2018-09-12 21:21:51,512 INFO      core: [030 / 100] NLL (test):              -9.76796\n",
      "100%|██████████| 75000/75000 [00:00<00:00, 158999.70it/s]\n",
      "2018-09-12 21:21:51,986 INFO      core: [030 / 100] Reconstruction error: 24.126168018482453\n",
      "2018-09-12 21:21:51,987 INFO      core: [030 / 100] Loss: 0.007840364149330618\n",
      "2018-09-12 21:21:52,005 INFO      core: [031 / 100] NLL (train):             -9.93660\n",
      "2018-09-12 21:21:52,012 INFO      core: [031 / 100] NLL (test):              -9.84876\n",
      "100%|██████████| 75000/75000 [00:00<00:00, 148146.36it/s]\n",
      "2018-09-12 21:21:52,522 INFO      core: [031 / 100] Reconstruction error: 24.163127832035048\n",
      "2018-09-12 21:21:52,522 INFO      core: [031 / 100] Loss: 0.007888213211864623\n",
      "2018-09-12 21:21:52,542 INFO      core: [032 / 100] NLL (train):             -9.89830\n",
      "2018-09-12 21:21:52,548 INFO      core: [032 / 100] NLL (test):              -9.80912\n",
      "100%|██████████| 75000/75000 [00:00<00:00, 155383.96it/s]\n",
      "2018-09-12 21:21:53,034 INFO      core: [032 / 100] Reconstruction error: 24.05208366070426\n",
      "2018-09-12 21:21:53,035 INFO      core: [032 / 100] Loss: 0.008277731976563018\n",
      "2018-09-12 21:21:53,054 INFO      core: [033 / 100] NLL (train):             -9.86885\n",
      "2018-09-12 21:21:53,063 INFO      core: [033 / 100] NLL (test):              -9.77817\n",
      "100%|██████████| 75000/75000 [00:00<00:00, 155826.62it/s]\n",
      "2018-09-12 21:21:53,549 INFO      core: [033 / 100] Reconstruction error: 23.91346386741176\n",
      "2018-09-12 21:21:53,550 INFO      core: [033 / 100] Loss: 0.00842171296499353\n",
      "2018-09-12 21:21:53,568 INFO      core: [034 / 100] NLL (train):             -9.82360\n",
      "2018-09-12 21:21:53,577 INFO      core: [034 / 100] NLL (test):              -9.73200\n",
      "100%|██████████| 75000/75000 [00:00<00:00, 157431.79it/s]\n",
      "2018-09-12 21:21:54,057 INFO      core: [034 / 100] Reconstruction error: 23.87801710636287\n",
      "2018-09-12 21:21:54,057 INFO      core: [034 / 100] Loss: 0.008417116312230934\n",
      "2018-09-12 21:21:54,076 INFO      core: [035 / 100] NLL (train):             -9.91638\n",
      "2018-09-12 21:21:54,084 INFO      core: [035 / 100] NLL (test):              -9.82238\n",
      "100%|██████████| 75000/75000 [00:00<00:00, 153065.09it/s]\n",
      "2018-09-12 21:21:54,577 INFO      core: [035 / 100] Reconstruction error: 23.782662172777812\n",
      "2018-09-12 21:21:54,577 INFO      core: [035 / 100] Loss: 0.008781308107113674\n",
      "2018-09-12 21:21:54,596 INFO      core: [036 / 100] NLL (train):            -10.12759\n",
      "2018-09-12 21:21:54,603 INFO      core: [036 / 100] NLL (test):             -10.03227\n",
      "100%|██████████| 75000/75000 [00:00<00:00, 157279.40it/s]\n",
      "2018-09-12 21:21:55,083 INFO      core: [036 / 100] Reconstruction error: 23.685514317844962\n",
      "2018-09-12 21:21:55,083 INFO      core: [036 / 100] Loss: 0.009080149453303168\n",
      "2018-09-12 21:21:55,101 INFO      core: [037 / 100] NLL (train):            -10.56537\n",
      "2018-09-12 21:21:55,107 INFO      core: [037 / 100] NLL (test):             -10.46797\n",
      "100%|██████████| 75000/75000 [00:00<00:00, 158394.37it/s]\n",
      "2018-09-12 21:21:55,587 INFO      core: [037 / 100] Reconstruction error: 23.52228311385375\n",
      "2018-09-12 21:21:55,588 INFO      core: [037 / 100] Loss: 0.009295246838221534\n",
      "2018-09-12 21:21:55,606 INFO      core: [038 / 100] NLL (train):            -10.78809\n",
      "2018-09-12 21:21:55,613 INFO      core: [038 / 100] NLL (test):             -10.68691\n",
      "100%|██████████| 75000/75000 [00:00<00:00, 157906.50it/s]\n",
      "2018-09-12 21:21:56,092 INFO      core: [038 / 100] Reconstruction error: 23.34482931836197\n",
      "2018-09-12 21:21:56,092 INFO      core: [038 / 100] Loss: 0.009122033354278797\n",
      "2018-09-12 21:21:56,111 INFO      core: [039 / 100] NLL (train):            -11.28193\n",
      "2018-09-12 21:21:56,117 INFO      core: [039 / 100] NLL (test):             -11.17992\n",
      "100%|██████████| 75000/75000 [00:00<00:00, 156440.68it/s]\n",
      "2018-09-12 21:21:56,609 INFO      core: [039 / 100] Reconstruction error: 23.2345881819292\n",
      "2018-09-12 21:21:56,609 INFO      core: [039 / 100] Loss: 0.009639458876100076\n",
      "2018-09-12 21:21:56,628 INFO      core: [040 / 100] NLL (train):            -11.62762\n",
      "2018-09-12 21:21:56,635 INFO      core: [040 / 100] NLL (test):             -11.52248\n",
      "100%|██████████| 75000/75000 [00:00<00:00, 155500.71it/s]\n",
      "2018-09-12 21:21:57,125 INFO      core: [040 / 100] Reconstruction error: 23.092064161219515\n",
      "2018-09-12 21:21:57,126 INFO      core: [040 / 100] Loss: 0.009355175465899966\n",
      "2018-09-12 21:21:57,146 INFO      core: [041 / 100] NLL (train):            -12.01118\n",
      "2018-09-12 21:21:57,152 INFO      core: [041 / 100] NLL (test):             -11.90407\n",
      "100%|██████████| 75000/75000 [00:00<00:00, 154580.85it/s]\n",
      "2018-09-12 21:21:57,641 INFO      core: [041 / 100] Reconstruction error: 22.998975177925818\n",
      "2018-09-12 21:21:57,641 INFO      core: [041 / 100] Loss: 0.009493387125182558\n"
     ]
    },
    {
     "name": "stderr",
     "output_type": "stream",
     "text": [
      "2018-09-12 21:21:57,659 INFO      core: [042 / 100] NLL (train):            -12.26914\n",
      "2018-09-12 21:21:57,665 INFO      core: [042 / 100] NLL (test):             -12.16002\n",
      "100%|██████████| 75000/75000 [00:00<00:00, 157929.17it/s]\n",
      "2018-09-12 21:21:58,146 INFO      core: [042 / 100] Reconstruction error: 22.912672099052333\n",
      "2018-09-12 21:21:58,146 INFO      core: [042 / 100] Loss: 0.009360212685159942\n",
      "2018-09-12 21:21:58,170 INFO      core: [043 / 100] NLL (train):            -12.31005\n",
      "2018-09-12 21:21:58,177 INFO      core: [043 / 100] NLL (test):             -12.19797\n",
      "100%|██████████| 75000/75000 [00:00<00:00, 151146.89it/s]\n",
      "2018-09-12 21:21:58,677 INFO      core: [043 / 100] Reconstruction error: 22.810944666259314\n",
      "2018-09-12 21:21:58,678 INFO      core: [043 / 100] Loss: 0.009489221952667487\n",
      "2018-09-12 21:21:58,698 INFO      core: [044 / 100] NLL (train):            -12.51847\n",
      "2018-09-12 21:21:58,703 INFO      core: [044 / 100] NLL (test):             -12.40471\n",
      "100%|██████████| 75000/75000 [00:00<00:00, 156992.20it/s]\n",
      "2018-09-12 21:21:59,184 INFO      core: [044 / 100] Reconstruction error: 22.770194943433538\n",
      "2018-09-12 21:21:59,185 INFO      core: [044 / 100] Loss: 0.009610592176640963\n",
      "2018-09-12 21:21:59,205 INFO      core: [045 / 100] NLL (train):            -12.44012\n",
      "2018-09-12 21:21:59,212 INFO      core: [045 / 100] NLL (test):             -12.32332\n",
      "100%|██████████| 75000/75000 [00:00<00:00, 156825.26it/s]\n",
      "2018-09-12 21:21:59,694 INFO      core: [045 / 100] Reconstruction error: 22.726201677350296\n",
      "2018-09-12 21:21:59,694 INFO      core: [045 / 100] Loss: 0.01039353684880907\n",
      "2018-09-12 21:21:59,713 INFO      core: [046 / 100] NLL (train):            -12.51553\n",
      "2018-09-12 21:21:59,719 INFO      core: [046 / 100] NLL (test):             -12.39388\n",
      "100%|██████████| 75000/75000 [00:00<00:00, 157160.91it/s]\n",
      "2018-09-12 21:22:00,199 INFO      core: [046 / 100] Reconstruction error: 22.617912241509085\n",
      "2018-09-12 21:22:00,199 INFO      core: [046 / 100] Loss: 0.009974150335511222\n",
      "2018-09-12 21:22:00,219 INFO      core: [047 / 100] NLL (train):            -12.78294\n",
      "2018-09-12 21:22:00,229 INFO      core: [047 / 100] NLL (test):             -12.65705\n",
      "100%|██████████| 75000/75000 [00:00<00:00, 155725.87it/s]\n",
      "2018-09-12 21:22:00,717 INFO      core: [047 / 100] Reconstruction error: 22.58085302501798\n",
      "2018-09-12 21:22:00,717 INFO      core: [047 / 100] Loss: 0.009937326777328124\n",
      "2018-09-12 21:22:00,736 INFO      core: [048 / 100] NLL (train):            -12.57135\n",
      "2018-09-12 21:22:00,743 INFO      core: [048 / 100] NLL (test):             -12.43999\n",
      "100%|██████████| 75000/75000 [00:00<00:00, 151051.45it/s]\n",
      "2018-09-12 21:22:01,243 INFO      core: [048 / 100] Reconstruction error: 22.580994524515916\n",
      "2018-09-12 21:22:01,244 INFO      core: [048 / 100] Loss: 0.010254469321595202\n",
      "2018-09-12 21:22:01,264 INFO      core: [049 / 100] NLL (train):            -12.60510\n",
      "2018-09-12 21:22:01,270 INFO      core: [049 / 100] NLL (test):             -12.47120\n",
      "100%|██████████| 75000/75000 [00:00<00:00, 154869.43it/s]\n",
      "2018-09-12 21:22:01,760 INFO      core: [049 / 100] Reconstruction error: 22.47013860035665\n",
      "2018-09-12 21:22:01,761 INFO      core: [049 / 100] Loss: 0.009704045219447052\n",
      "2018-09-12 21:22:01,780 INFO      core: [050 / 100] NLL (train):            -12.54621\n",
      "2018-09-12 21:22:01,787 INFO      core: [050 / 100] NLL (test):             -12.40821\n",
      "100%|██████████| 75000/75000 [00:00<00:00, 159451.19it/s]\n",
      "2018-09-12 21:22:02,261 INFO      core: [050 / 100] Reconstruction error: 22.38918225028668\n",
      "2018-09-12 21:22:02,261 INFO      core: [050 / 100] Loss: 0.010571124515765837\n",
      "2018-09-12 21:22:02,280 INFO      core: [051 / 100] NLL (train):            -12.87645\n",
      "2018-09-12 21:22:02,288 INFO      core: [051 / 100] NLL (test):             -12.73460\n",
      "100%|██████████| 75000/75000 [00:00<00:00, 155078.47it/s]\n",
      "2018-09-12 21:22:02,776 INFO      core: [051 / 100] Reconstruction error: 22.36512824345668\n",
      "2018-09-12 21:22:02,776 INFO      core: [051 / 100] Loss: 0.010121039439995322\n",
      "2018-09-12 21:22:02,797 INFO      core: [052 / 100] NLL (train):            -12.52367\n",
      "2018-09-12 21:22:02,804 INFO      core: [052 / 100] NLL (test):             -12.37895\n",
      "100%|██████████| 75000/75000 [00:00<00:00, 153266.15it/s]\n",
      "2018-09-12 21:22:03,296 INFO      core: [052 / 100] Reconstruction error: 22.342112767785007\n",
      "2018-09-12 21:22:03,296 INFO      core: [052 / 100] Loss: 0.010408546664246324\n",
      "2018-09-12 21:22:03,315 INFO      core: [053 / 100] NLL (train):            -12.56881\n",
      "2018-09-12 21:22:03,322 INFO      core: [053 / 100] NLL (test):             -12.42092\n",
      "100%|██████████| 75000/75000 [00:00<00:00, 157482.07it/s]\n",
      "2018-09-12 21:22:03,803 INFO      core: [053 / 100] Reconstruction error: 22.324254574977036\n",
      "2018-09-12 21:22:03,804 INFO      core: [053 / 100] Loss: 0.009882050612485156\n",
      "2018-09-12 21:22:03,824 INFO      core: [054 / 100] NLL (train):            -12.66075\n",
      "2018-09-12 21:22:03,830 INFO      core: [054 / 100] NLL (test):             -12.50839\n",
      "100%|██████████| 75000/75000 [00:00<00:00, 151800.04it/s]\n",
      "2018-09-12 21:22:04,328 INFO      core: [054 / 100] Reconstruction error: 22.26839367983947\n",
      "2018-09-12 21:22:04,328 INFO      core: [054 / 100] Loss: 0.011123972179169186\n",
      "2018-09-12 21:22:04,347 INFO      core: [055 / 100] NLL (train):            -12.90710\n",
      "2018-09-12 21:22:04,356 INFO      core: [055 / 100] NLL (test):             -12.75260\n",
      "100%|██████████| 75000/75000 [00:00<00:00, 152585.47it/s]\n",
      "2018-09-12 21:22:04,853 INFO      core: [055 / 100] Reconstruction error: 22.237262980209074\n",
      "2018-09-12 21:22:04,853 INFO      core: [055 / 100] Loss: 0.011325380761058325\n",
      "2018-09-12 21:22:04,871 INFO      core: [056 / 100] NLL (train):            -12.45088\n",
      "2018-09-12 21:22:04,878 INFO      core: [056 / 100] NLL (test):             -12.29148\n",
      "100%|██████████| 75000/75000 [00:00<00:00, 151116.54it/s]\n",
      "2018-09-12 21:22:05,378 INFO      core: [056 / 100] Reconstruction error: 22.212729212618473\n",
      "2018-09-12 21:22:05,379 INFO      core: [056 / 100] Loss: 0.010971924836387396\n",
      "2018-09-12 21:22:05,398 INFO      core: [057 / 100] NLL (train):            -12.45598\n",
      "2018-09-12 21:22:05,405 INFO      core: [057 / 100] NLL (test):             -12.29557\n",
      "100%|██████████| 75000/75000 [00:00<00:00, 143282.15it/s]\n",
      "2018-09-12 21:22:05,938 INFO      core: [057 / 100] Reconstruction error: 22.176120611736053\n",
      "2018-09-12 21:22:05,939 INFO      core: [057 / 100] Loss: 0.010825827239849328\n",
      "2018-09-12 21:22:05,959 INFO      core: [058 / 100] NLL (train):            -12.53335\n",
      "2018-09-12 21:22:05,965 INFO      core: [058 / 100] NLL (test):             -12.37088\n",
      "100%|██████████| 75000/75000 [00:00<00:00, 155452.45it/s]\n",
      "2018-09-12 21:22:06,451 INFO      core: [058 / 100] Reconstruction error: 22.179335958891038\n",
      "2018-09-12 21:22:06,452 INFO      core: [058 / 100] Loss: 0.011107179141656256\n",
      "2018-09-12 21:22:06,470 INFO      core: [059 / 100] NLL (train):            -12.56313\n",
      "2018-09-12 21:22:06,477 INFO      core: [059 / 100] NLL (test):             -12.39756\n",
      "100%|██████████| 75000/75000 [00:00<00:00, 146733.54it/s]\n",
      "2018-09-12 21:22:06,993 INFO      core: [059 / 100] Reconstruction error: 22.12253054042556\n",
      "2018-09-12 21:22:06,993 INFO      core: [059 / 100] Loss: 0.011341252064438988\n",
      "2018-09-12 21:22:07,013 INFO      core: [060 / 100] NLL (train):            -12.76409\n",
      "2018-09-12 21:22:07,018 INFO      core: [060 / 100] NLL (test):             -12.59833\n",
      "100%|██████████| 75000/75000 [00:00<00:00, 156888.77it/s]\n",
      "2018-09-12 21:22:07,499 INFO      core: [060 / 100] Reconstruction error: 22.098582234351873\n",
      "2018-09-12 21:22:07,500 INFO      core: [060 / 100] Loss: 0.01121020857934989\n",
      "2018-09-12 21:22:07,519 INFO      core: [061 / 100] NLL (train):            -12.23735\n",
      "2018-09-12 21:22:07,526 INFO      core: [061 / 100] NLL (test):             -12.06896\n",
      "100%|██████████| 75000/75000 [00:00<00:00, 144400.26it/s]\n",
      "2018-09-12 21:22:08,051 INFO      core: [061 / 100] Reconstruction error: 22.084853497758207\n",
      "2018-09-12 21:22:08,052 INFO      core: [061 / 100] Loss: 0.012112905195001127\n",
      "2018-09-12 21:22:08,071 INFO      core: [062 / 100] NLL (train):            -12.68119\n",
      "2018-09-12 21:22:08,077 INFO      core: [062 / 100] NLL (test):             -12.51006\n"
     ]
    },
    {
     "name": "stderr",
     "output_type": "stream",
     "text": [
      "100%|██████████| 75000/75000 [00:00<00:00, 155794.43it/s]\n",
      "2018-09-12 21:22:08,564 INFO      core: [062 / 100] Reconstruction error: 22.05017800967537\n",
      "2018-09-12 21:22:08,564 INFO      core: [062 / 100] Loss: 0.012305443349166858\n",
      "2018-09-12 21:22:08,584 INFO      core: [063 / 100] NLL (train):            -12.20117\n",
      "2018-09-12 21:22:08,592 INFO      core: [063 / 100] NLL (test):             -12.02696\n",
      "100%|██████████| 75000/75000 [00:00<00:00, 153799.38it/s]\n",
      "2018-09-12 21:22:09,086 INFO      core: [063 / 100] Reconstruction error: 22.0476630176644\n",
      "2018-09-12 21:22:09,087 INFO      core: [063 / 100] Loss: 0.012006738787939899\n",
      "2018-09-12 21:22:09,104 INFO      core: [064 / 100] NLL (train):            -12.24449\n",
      "2018-09-12 21:22:09,111 INFO      core: [064 / 100] NLL (test):             -12.06948\n",
      "100%|██████████| 75000/75000 [00:00<00:00, 157721.63it/s]\n",
      "2018-09-12 21:22:09,589 INFO      core: [064 / 100] Reconstruction error: 22.050285525448015\n",
      "2018-09-12 21:22:09,590 INFO      core: [064 / 100] Loss: 0.012401566914055298\n",
      "2018-09-12 21:22:09,609 INFO      core: [065 / 100] NLL (train):            -12.22850\n",
      "2018-09-12 21:22:09,616 INFO      core: [065 / 100] NLL (test):             -12.05166\n",
      "100%|██████████| 75000/75000 [00:00<00:00, 156923.04it/s]\n",
      "2018-09-12 21:22:10,098 INFO      core: [065 / 100] Reconstruction error: 21.991736512902907\n",
      "2018-09-12 21:22:10,098 INFO      core: [065 / 100] Loss: 0.012013351935073533\n",
      "2018-09-12 21:22:10,118 INFO      core: [066 / 100] NLL (train):            -12.33938\n",
      "2018-09-12 21:22:10,125 INFO      core: [066 / 100] NLL (test):             -12.16116\n",
      "100%|██████████| 75000/75000 [00:00<00:00, 154934.04it/s]\n",
      "2018-09-12 21:22:10,612 INFO      core: [066 / 100] Reconstruction error: 22.017158684923483\n",
      "2018-09-12 21:22:10,612 INFO      core: [066 / 100] Loss: 0.012895142411518791\n",
      "2018-09-12 21:22:10,633 INFO      core: [067 / 100] NLL (train):            -12.07012\n",
      "2018-09-12 21:22:10,643 INFO      core: [067 / 100] NLL (test):             -11.88932\n",
      "100%|██████████| 75000/75000 [00:00<00:00, 154995.11it/s]\n",
      "2018-09-12 21:22:11,135 INFO      core: [067 / 100] Reconstruction error: 21.911292116647427\n",
      "2018-09-12 21:22:11,136 INFO      core: [067 / 100] Loss: 0.012869803795121357\n",
      "2018-09-12 21:22:11,155 INFO      core: [068 / 100] NLL (train):            -12.26368\n",
      "2018-09-12 21:22:11,161 INFO      core: [068 / 100] NLL (test):             -12.08278\n",
      "100%|██████████| 75000/75000 [00:00<00:00, 153730.91it/s]\n",
      "2018-09-12 21:22:11,651 INFO      core: [068 / 100] Reconstruction error: 21.93242857686002\n",
      "2018-09-12 21:22:11,652 INFO      core: [068 / 100] Loss: 0.012372817186385682\n",
      "2018-09-12 21:22:11,672 INFO      core: [069 / 100] NLL (train):            -12.00704\n",
      "2018-09-12 21:22:11,680 INFO      core: [069 / 100] NLL (test):             -11.82319\n",
      "100%|██████████| 75000/75000 [00:00<00:00, 154561.25it/s]\n",
      "2018-09-12 21:22:12,173 INFO      core: [069 / 100] Reconstruction error: 21.916340594221126\n",
      "2018-09-12 21:22:12,173 INFO      core: [069 / 100] Loss: 0.013340180022274469\n",
      "2018-09-12 21:22:12,191 INFO      core: [070 / 100] NLL (train):            -11.91926\n",
      "2018-09-12 21:22:12,198 INFO      core: [070 / 100] NLL (test):             -11.73310\n",
      "100%|██████████| 75000/75000 [00:00<00:00, 153246.52it/s]\n",
      "2018-09-12 21:22:12,690 INFO      core: [070 / 100] Reconstruction error: 21.884933185262\n",
      "2018-09-12 21:22:12,691 INFO      core: [070 / 100] Loss: 0.013181538495675259\n",
      "2018-09-12 21:22:12,709 INFO      core: [071 / 100] NLL (train):            -11.87465\n",
      "2018-09-12 21:22:12,716 INFO      core: [071 / 100] NLL (test):             -11.68744\n",
      "100%|██████████| 75000/75000 [00:00<00:00, 151755.37it/s]\n",
      "2018-09-12 21:22:13,213 INFO      core: [071 / 100] Reconstruction error: 21.89832725474698\n",
      "2018-09-12 21:22:13,214 INFO      core: [071 / 100] Loss: 0.012594814194666558\n",
      "2018-09-12 21:22:13,232 INFO      core: [072 / 100] NLL (train):            -11.89351\n",
      "2018-09-12 21:22:13,239 INFO      core: [072 / 100] NLL (test):             -11.70460\n",
      "100%|██████████| 75000/75000 [00:00<00:00, 158876.36it/s]\n",
      "2018-09-12 21:22:13,714 INFO      core: [072 / 100] Reconstruction error: 21.84904091542595\n",
      "2018-09-12 21:22:13,715 INFO      core: [072 / 100] Loss: 0.013020327001712536\n",
      "2018-09-12 21:22:13,736 INFO      core: [073 / 100] NLL (train):            -11.64387\n",
      "2018-09-12 21:22:13,743 INFO      core: [073 / 100] NLL (test):             -11.45362\n",
      "100%|██████████| 75000/75000 [00:00<00:00, 156172.19it/s]\n",
      "2018-09-12 21:22:14,227 INFO      core: [073 / 100] Reconstruction error: 21.851705905560276\n",
      "2018-09-12 21:22:14,227 INFO      core: [073 / 100] Loss: 0.013017245375601299\n",
      "2018-09-12 21:22:14,246 INFO      core: [074 / 100] NLL (train):            -11.66943\n",
      "2018-09-12 21:22:14,252 INFO      core: [074 / 100] NLL (test):             -11.47845\n",
      "100%|██████████| 75000/75000 [00:00<00:00, 155198.13it/s]\n",
      "2018-09-12 21:22:14,739 INFO      core: [074 / 100] Reconstruction error: 21.857108509234163\n",
      "2018-09-12 21:22:14,739 INFO      core: [074 / 100] Loss: 0.013297127510002277\n",
      "2018-09-12 21:22:14,758 INFO      core: [075 / 100] NLL (train):            -11.29608\n",
      "2018-09-12 21:22:14,766 INFO      core: [075 / 100] NLL (test):             -11.10314\n",
      "100%|██████████| 75000/75000 [00:00<00:00, 149541.07it/s]\n",
      "2018-09-12 21:22:15,271 INFO      core: [075 / 100] Reconstruction error: 21.887289563463156\n",
      "2018-09-12 21:22:15,272 INFO      core: [075 / 100] Loss: 0.013127171784136506\n",
      "2018-09-12 21:22:15,294 INFO      core: [076 / 100] NLL (train):            -11.44128\n",
      "2018-09-12 21:22:15,302 INFO      core: [076 / 100] NLL (test):             -11.24678\n",
      "100%|██████████| 75000/75000 [00:00<00:00, 156830.65it/s]\n",
      "2018-09-12 21:22:15,784 INFO      core: [076 / 100] Reconstruction error: 21.79242135807513\n",
      "2018-09-12 21:22:15,784 INFO      core: [076 / 100] Loss: 0.01328409103615814\n",
      "2018-09-12 21:22:15,804 INFO      core: [077 / 100] NLL (train):            -11.47461\n",
      "2018-09-12 21:22:15,812 INFO      core: [077 / 100] NLL (test):             -11.28126\n",
      "100%|██████████| 75000/75000 [00:00<00:00, 148616.42it/s]\n",
      "2018-09-12 21:22:16,321 INFO      core: [077 / 100] Reconstruction error: 21.858340276958476\n",
      "2018-09-12 21:22:16,322 INFO      core: [077 / 100] Loss: 0.013902491702756243\n",
      "2018-09-12 21:22:16,342 INFO      core: [078 / 100] NLL (train):            -11.04218\n",
      "2018-09-12 21:22:16,350 INFO      core: [078 / 100] NLL (test):             -10.84373\n",
      "100%|██████████| 75000/75000 [00:00<00:00, 152484.07it/s]\n",
      "2018-09-12 21:22:16,850 INFO      core: [078 / 100] Reconstruction error: 21.82909640763397\n",
      "2018-09-12 21:22:16,850 INFO      core: [078 / 100] Loss: 0.014076875567439005\n",
      "2018-09-12 21:22:16,869 INFO      core: [079 / 100] NLL (train):            -11.41760\n",
      "2018-09-12 21:22:16,875 INFO      core: [079 / 100] NLL (test):             -11.22010\n",
      "100%|██████████| 75000/75000 [00:00<00:00, 150949.68it/s]\n",
      "2018-09-12 21:22:17,377 INFO      core: [079 / 100] Reconstruction error: 21.822285946454986\n",
      "2018-09-12 21:22:17,378 INFO      core: [079 / 100] Loss: 0.014152088324702303\n",
      "2018-09-12 21:22:17,396 INFO      core: [080 / 100] NLL (train):            -11.27215\n",
      "2018-09-12 21:22:17,402 INFO      core: [080 / 100] NLL (test):             -11.07234\n",
      "100%|██████████| 75000/75000 [00:00<00:00, 153883.65it/s]\n",
      "2018-09-12 21:22:17,899 INFO      core: [080 / 100] Reconstruction error: 21.800607601886732\n",
      "2018-09-12 21:22:17,899 INFO      core: [080 / 100] Loss: 0.014097463708328328\n",
      "2018-09-12 21:22:17,919 INFO      core: [081 / 100] NLL (train):            -11.38105\n",
      "2018-09-12 21:22:17,926 INFO      core: [081 / 100] NLL (test):             -11.18124\n",
      "100%|██████████| 75000/75000 [00:00<00:00, 147072.23it/s]\n",
      "2018-09-12 21:22:18,439 INFO      core: [081 / 100] Reconstruction error: 21.770758269656042\n",
      "2018-09-12 21:22:18,439 INFO      core: [081 / 100] Loss: 0.014382215924471744\n",
      "2018-09-12 21:22:18,460 INFO      core: [082 / 100] NLL (train):            -11.23599\n",
      "2018-09-12 21:22:18,465 INFO      core: [082 / 100] NLL (test):             -11.03119\n",
      "100%|██████████| 75000/75000 [00:00<00:00, 154482.54it/s]\n",
      "2018-09-12 21:22:18,955 INFO      core: [082 / 100] Reconstruction error: 21.725768134943532\n",
      "2018-09-12 21:22:18,955 INFO      core: [082 / 100] Loss: 0.014301304897759421\n"
     ]
    },
    {
     "name": "stderr",
     "output_type": "stream",
     "text": [
      "2018-09-12 21:22:18,978 INFO      core: [083 / 100] NLL (train):            -11.07841\n",
      "2018-09-12 21:22:18,984 INFO      core: [083 / 100] NLL (test):             -10.87559\n",
      "100%|██████████| 75000/75000 [00:00<00:00, 156602.75it/s]\n",
      "2018-09-12 21:22:19,472 INFO      core: [083 / 100] Reconstruction error: 21.76748289149193\n",
      "2018-09-12 21:22:19,473 INFO      core: [083 / 100] Loss: 0.014010853075124617\n",
      "2018-09-12 21:22:19,493 INFO      core: [084 / 100] NLL (train):            -11.20760\n",
      "2018-09-12 21:22:19,499 INFO      core: [084 / 100] NLL (test):             -11.00340\n",
      "100%|██████████| 75000/75000 [00:00<00:00, 156277.08it/s]\n",
      "2018-09-12 21:22:19,982 INFO      core: [084 / 100] Reconstruction error: 21.73484635060722\n",
      "2018-09-12 21:22:19,982 INFO      core: [084 / 100] Loss: 0.01417501152836213\n",
      "2018-09-12 21:22:20,001 INFO      core: [085 / 100] NLL (train):            -11.20052\n",
      "2018-09-12 21:22:20,010 INFO      core: [085 / 100] NLL (test):             -10.99466\n",
      "100%|██████████| 75000/75000 [00:00<00:00, 155832.56it/s]\n",
      "2018-09-12 21:22:20,498 INFO      core: [085 / 100] Reconstruction error: 21.731968558501983\n",
      "2018-09-12 21:22:20,498 INFO      core: [085 / 100] Loss: 0.014381952973626221\n",
      "2018-09-12 21:22:20,517 INFO      core: [086 / 100] NLL (train):            -10.88097\n",
      "2018-09-12 21:22:20,524 INFO      core: [086 / 100] NLL (test):             -10.67372\n",
      "100%|██████████| 75000/75000 [00:00<00:00, 152505.80it/s]\n",
      "2018-09-12 21:22:21,028 INFO      core: [086 / 100] Reconstruction error: 21.75104204418335\n",
      "2018-09-12 21:22:21,029 INFO      core: [086 / 100] Loss: 0.013830700021691022\n",
      "2018-09-12 21:22:21,049 INFO      core: [087 / 100] NLL (train):            -10.83001\n",
      "2018-09-12 21:22:21,056 INFO      core: [087 / 100] NLL (test):             -10.61944\n",
      "100%|██████████| 75000/75000 [00:00<00:00, 151846.43it/s]\n",
      "2018-09-12 21:22:21,553 INFO      core: [087 / 100] Reconstruction error: 21.755789366009864\n",
      "2018-09-12 21:22:21,553 INFO      core: [087 / 100] Loss: 0.013928581489728833\n",
      "2018-09-12 21:22:21,572 INFO      core: [088 / 100] NLL (train):            -10.96260\n",
      "2018-09-12 21:22:21,580 INFO      core: [088 / 100] NLL (test):             -10.75392\n",
      "100%|██████████| 75000/75000 [00:00<00:00, 145647.42it/s]\n",
      "2018-09-12 21:22:22,100 INFO      core: [088 / 100] Reconstruction error: 21.83692528700516\n",
      "2018-09-12 21:22:22,101 INFO      core: [088 / 100] Loss: 0.01379386469036497\n",
      "2018-09-12 21:22:22,118 INFO      core: [089 / 100] NLL (train):            -10.82005\n",
      "2018-09-12 21:22:22,125 INFO      core: [089 / 100] NLL (test):             -10.60947\n",
      "100%|██████████| 75000/75000 [00:00<00:00, 155326.41it/s]\n",
      "2018-09-12 21:22:22,611 INFO      core: [089 / 100] Reconstruction error: 21.683239954824497\n",
      "2018-09-12 21:22:22,612 INFO      core: [089 / 100] Loss: 0.015097300855022618\n",
      "2018-09-12 21:22:22,632 INFO      core: [090 / 100] NLL (train):            -10.51896\n",
      "2018-09-12 21:22:22,640 INFO      core: [090 / 100] NLL (test):             -10.30658\n",
      "100%|██████████| 75000/75000 [00:00<00:00, 153288.18it/s]\n",
      "2018-09-12 21:22:23,133 INFO      core: [090 / 100] Reconstruction error: 21.770973913145365\n",
      "2018-09-12 21:22:23,134 INFO      core: [090 / 100] Loss: 0.015113597220305038\n",
      "2018-09-12 21:22:23,153 INFO      core: [091 / 100] NLL (train):            -10.59459\n",
      "2018-09-12 21:22:23,160 INFO      core: [091 / 100] NLL (test):             -10.37772\n",
      "100%|██████████| 75000/75000 [00:00<00:00, 156784.77it/s]\n",
      "2018-09-12 21:22:23,641 INFO      core: [091 / 100] Reconstruction error: 21.729244207335157\n",
      "2018-09-12 21:22:23,641 INFO      core: [091 / 100] Loss: 0.014895750360356504\n",
      "2018-09-12 21:22:23,662 INFO      core: [092 / 100] NLL (train):            -10.62916\n",
      "2018-09-12 21:22:23,672 INFO      core: [092 / 100] NLL (test):             -10.41283\n",
      "100%|██████████| 75000/75000 [00:00<00:00, 153625.58it/s]\n",
      "2018-09-12 21:22:24,164 INFO      core: [092 / 100] Reconstruction error: 21.672552815546535\n",
      "2018-09-12 21:22:24,164 INFO      core: [092 / 100] Loss: 0.01472763579371384\n",
      "2018-09-12 21:22:24,185 INFO      core: [093 / 100] NLL (train):            -10.34375\n",
      "2018-09-12 21:22:24,192 INFO      core: [093 / 100] NLL (test):             -10.12663\n",
      "100%|██████████| 75000/75000 [00:00<00:00, 145824.72it/s]\n",
      "2018-09-12 21:22:24,712 INFO      core: [093 / 100] Reconstruction error: 21.708077675314325\n",
      "2018-09-12 21:22:24,713 INFO      core: [093 / 100] Loss: 0.014458831212650403\n",
      "2018-09-12 21:22:24,733 INFO      core: [094 / 100] NLL (train):            -10.55202\n",
      "2018-09-12 21:22:24,739 INFO      core: [094 / 100] NLL (test):             -10.33425\n",
      "100%|██████████| 75000/75000 [00:00<00:00, 158181.95it/s]\n",
      "2018-09-12 21:22:25,216 INFO      core: [094 / 100] Reconstruction error: 21.71784456192414\n",
      "2018-09-12 21:22:25,217 INFO      core: [094 / 100] Loss: 0.014569694488560618\n",
      "2018-09-12 21:22:25,237 INFO      core: [095 / 100] NLL (train):            -10.49657\n",
      "2018-09-12 21:22:25,244 INFO      core: [095 / 100] NLL (test):             -10.27787\n",
      "100%|██████████| 75000/75000 [00:00<00:00, 150901.31it/s]\n",
      "2018-09-12 21:22:25,747 INFO      core: [095 / 100] Reconstruction error: 21.691797152208142\n",
      "2018-09-12 21:22:25,747 INFO      core: [095 / 100] Loss: 0.015043481789137319\n",
      "2018-09-12 21:22:25,767 INFO      core: [096 / 100] NLL (train):            -10.47122\n",
      "2018-09-12 21:22:25,774 INFO      core: [096 / 100] NLL (test):             -10.25187\n",
      "100%|██████████| 75000/75000 [00:00<00:00, 154955.10it/s]\n",
      "2018-09-12 21:22:26,261 INFO      core: [096 / 100] Reconstruction error: 21.658467388064047\n",
      "2018-09-12 21:22:26,262 INFO      core: [096 / 100] Loss: 0.015360309339900896\n",
      "2018-09-12 21:22:26,280 INFO      core: [097 / 100] NLL (train):            -10.33294\n",
      "2018-09-12 21:22:26,289 INFO      core: [097 / 100] NLL (test):             -10.11335\n",
      "100%|██████████| 75000/75000 [00:00<00:00, 148769.35it/s]\n",
      "2018-09-12 21:22:26,798 INFO      core: [097 / 100] Reconstruction error: 21.66341795063814\n",
      "2018-09-12 21:22:26,799 INFO      core: [097 / 100] Loss: 0.015457033914292147\n",
      "2018-09-12 21:22:26,818 INFO      core: [098 / 100] NLL (train):            -10.26032\n",
      "2018-09-12 21:22:26,824 INFO      core: [098 / 100] NLL (test):             -10.03719\n",
      "100%|██████████| 75000/75000 [00:00<00:00, 150197.96it/s]\n",
      "2018-09-12 21:22:27,327 INFO      core: [098 / 100] Reconstruction error: 21.661774851630426\n",
      "2018-09-12 21:22:27,327 INFO      core: [098 / 100] Loss: 0.015618887112590369\n",
      "2018-09-12 21:22:27,350 INFO      core: [099 / 100] NLL (train):            -10.46390\n",
      "2018-09-12 21:22:27,358 INFO      core: [099 / 100] NLL (test):             -10.23785\n",
      "100%|██████████| 75000/75000 [00:00<00:00, 143165.23it/s]\n",
      "2018-09-12 21:22:27,886 INFO      core: [099 / 100] Reconstruction error: 21.633919784348144\n",
      "2018-09-12 21:22:27,887 INFO      core: [099 / 100] Loss: 0.015021513074887822\n",
      "2018-09-12 21:22:27,905 INFO      core: [100 / 100] NLL (train):            -10.16393\n",
      "2018-09-12 21:22:27,916 INFO      core: [100 / 100] NLL (test):              -9.93772\n",
      "100%|██████████| 75000/75000 [00:00<00:00, 154637.61it/s]\n",
      "2018-09-12 21:22:28,407 INFO      core: [100 / 100] Reconstruction error: 21.646328403887598\n",
      "2018-09-12 21:22:28,408 INFO      core: [100 / 100] Loss: 0.015618565523003307\n",
      "2018-09-12 21:22:28,428 INFO      core: [100 / 100] NLL (train):            -10.04316\n",
      "2018-09-12 21:22:28,435 INFO      core: [100 / 100] NLL (test):              -9.81723\n"
     ]
    }
   ],
   "source": [
    "stats = rbm.fit(\n",
    "    train_data, \n",
    "    k=K, \n",
    "    batch_size=BATCH_SIZE, \n",
    "    num_epochs=NUM_EPOCHS * 10, \n",
    "    learning_rate=LR,\n",
    "    test_data=test_data,\n",
    "#     callbacks=callbacks\n",
    ")"
   ]
  },
  {
   "cell_type": "code",
   "execution_count": 32,
   "metadata": {
    "ExecuteTime": {
     "end_time": "2018-09-12T19:22:39.278958Z",
     "start_time": "2018-09-12T19:22:39.144749Z"
    }
   },
   "outputs": [],
   "source": [
    "!ls runs/test"
   ]
  },
  {
   "cell_type": "code",
   "execution_count": 33,
   "metadata": {
    "ExecuteTime": {
     "end_time": "2018-09-12T19:22:39.541375Z",
     "start_time": "2018-09-12T19:22:39.533480Z"
    }
   },
   "outputs": [
    {
     "data": {
      "text/plain": [
       "['nll_train', 'nll_test', 'reconstruction_error', 'loss']"
      ]
     },
     "execution_count": 33,
     "metadata": {},
     "output_type": "execute_result"
    }
   ],
   "source": [
    "list(stats.keys())"
   ]
  },
  {
   "cell_type": "code",
   "execution_count": 34,
   "metadata": {
    "ExecuteTime": {
     "end_time": "2018-09-12T19:22:40.193458Z",
     "start_time": "2018-09-12T19:22:40.064063Z"
    },
    "scrolled": true
   },
   "outputs": [
    {
     "data": {
      "text/plain": [
       "[<matplotlib.lines.Line2D at 0x7f8d308d2710>]"
      ]
     },
     "execution_count": 34,
     "metadata": {},
     "output_type": "execute_result"
    },
    {
     "data": {
      "image/png": "[encoded data removed]",
      "text/plain": [
       "<Figure size 432x288 with 1 Axes>"
      ]
     },
     "metadata": {},
     "output_type": "display_data"
    }
   ],
   "source": [
    "plt.plot(stats['nll_train'])\n",
    "plt.plot(stats['nll_test'])"
   ]
  },
  {
   "cell_type": "code",
   "execution_count": 35,
   "metadata": {
    "ExecuteTime": {
     "end_time": "2018-09-12T19:23:26.800280Z",
     "start_time": "2018-09-12T19:22:41.873548Z"
    },
    "scrolled": true
   },
   "outputs": [],
   "source": [
    "samples_v, samples_h = gibbs_sample_rbm(rbm, 100000, data[123], burnin=10000)"
   ]
  },
  {
   "cell_type": "code",
   "execution_count": 36,
   "metadata": {
    "ExecuteTime": {
     "end_time": "2018-09-12T19:23:29.438209Z",
     "start_time": "2018-09-12T19:23:26.801886Z"
    }
   },
   "outputs": [
    {
     "data": {
      "text/plain": [
       "(<Figure size 1080x1152 with 6 Axes>,\n",
       " array([<matplotlib.axes._subplots.AxesSubplot object at 0x7f8d2b816128>,\n",
       "        <matplotlib.axes._subplots.AxesSubplot object at 0x7f8d2be8b0b8>,\n",
       "        <matplotlib.axes._subplots.AxesSubplot object at 0x7f8d2bea3860>,\n",
       "        <matplotlib.axes._subplots.AxesSubplot object at 0x7f8d2be48080>,\n",
       "        <matplotlib.axes._subplots.AxesSubplot object at 0x7f8d2be66898>,\n",
       "        <matplotlib.axes._subplots.AxesSubplot object at 0x7f8d2be0b080>],\n",
       "       dtype=object))"
      ]
     },
     "execution_count": 36,
     "metadata": {},
     "output_type": "execute_result"
    },
    {
     "data": {
      "image/png": "[encoded data removed]",
      "text/plain": [
       "<Figure size 1080x1152 with 6 Axes>"
      ]
     },
     "metadata": {},
     "output_type": "display_data"
    }
   ],
   "source": [
    "plot_gaussian_mixtures(data, samples_v, title=f\"CD-k with $k={K}$\")"
   ]
  },
  {
   "cell_type": "code",
   "execution_count": 39,
   "metadata": {
    "ExecuteTime": {
     "end_time": "2018-09-12T19:24:35.747927Z",
     "start_time": "2018-09-12T19:24:35.718936Z"
    },
    "scrolled": true
   },
   "outputs": [
    {
     "data": {
      "text/plain": [
       "107.53153203538592"
      ]
     },
     "execution_count": 39,
     "metadata": {},
     "output_type": "execute_result"
    }
   ],
   "source": [
    "v = data\n",
    "\n",
    "np.mean(np.abs(np.sum(np.matmul(v, rbm.W), axis=1)))"
   ]
  },
  {
   "cell_type": "code",
   "execution_count": 40,
   "metadata": {
    "ExecuteTime": {
     "end_time": "2018-09-12T19:24:36.976709Z",
     "start_time": "2018-09-12T19:24:36.803819Z"
    },
    "scrolled": true
   },
   "outputs": [
    {
     "data": {
      "image/png": "[encoded data removed]",
      "text/plain": [
       "<Figure size 432x432 with 2 Axes>"
      ]
     },
     "metadata": {},
     "output_type": "display_data"
    }
   ],
   "source": [
    "im = np.cov(np.round(samples_v), rowvar=False)\n",
    "\n",
    "fig = plt.figure(figsize=im.shape)\n",
    "coloraxes = plt.imshow(im, cmap=cm.viridis)\n",
    "cbar = fig.colorbar(coloraxes)"
   ]
  },
  {
   "cell_type": "code",
   "execution_count": 41,
   "metadata": {
    "ExecuteTime": {
     "end_time": "2018-09-12T19:24:42.491578Z",
     "start_time": "2018-09-12T19:24:42.346769Z"
    },
    "scrolled": true
   },
   "outputs": [
    {
     "data": {
      "image/png": "[encoded data removed]",
      "text/plain": [
       "<Figure size 432x432 with 2 Axes>"
      ]
     },
     "metadata": {},
     "output_type": "display_data"
    }
   ],
   "source": [
    "fig = plt.figure(figsize=(visible_size, visible_size))\n",
    "coloraxes = plt.imshow(np.matmul(rbm.W, rbm.W.T), cmap=cm.viridis)\n",
    "cbar = fig.colorbar(coloraxes)"
   ]
  },
  {
   "cell_type": "markdown",
   "metadata": {
    "heading_collapsed": true
   },
   "source": [
    "### Weights through time"
   ]
  },
  {
   "cell_type": "code",
   "execution_count": null,
   "metadata": {
    "hidden": true
   },
   "outputs": [],
   "source": [
    "import os\n",
    "import glob"
   ]
  },
  {
   "cell_type": "code",
   "execution_count": null,
   "metadata": {
    "hidden": true
   },
   "outputs": [],
   "source": [
    "# [os.remove(p) for p in glob.glob(\"runs/test/00*_*_vars.pkl\")]"
   ]
  },
  {
   "cell_type": "code",
   "execution_count": null,
   "metadata": {
    "hidden": true
   },
   "outputs": [],
   "source": [
    "import pickle\n",
    "\n",
    "def load(p):\n",
    "    with open(p, \"rb\") as f:\n",
    "        return pickle.load(f)"
   ]
  },
  {
   "cell_type": "code",
   "execution_count": null,
   "metadata": {
    "hidden": true,
    "scrolled": false
   },
   "outputs": [],
   "source": [
    "import time\n",
    "from IPython import display\n",
    "\n",
    "fig, axes = plt.subplots(1, 4, figsize=(10 + 6 + 10, 20))\n",
    "\n",
    "# load weights\n",
    "history = (load(p) for p in sorted(glob.glob(\"runs/test/00*_*_vars.pkl\")))\n",
    "i = 0\n",
    "for h in history:\n",
    "#     print(i)\n",
    "    i += 1\n",
    "    if i % 50 != 0:\n",
    "        continue\n",
    "    W = h['W']\n",
    "    fig.suptitle(i)\n",
    "    axes[0].imshow(np.matmul(W, W.T), cmap=cm.viridis)\n",
    "    axes[1].imshow(h['v_bias'].reshape(-1, 1), cmap=cm.viridis)\n",
    "    axes[2].imshow(h['h_bias'].reshape(-1, 1), cmap=cm.viridis)\n",
    "    axes[3].imshow(np.matmul(W.T, W), cmap=cm.viridis)\n",
    "#     plt.colorbar(coloraxes)\n",
    "#     cbar = fig.colorbar(coloraxes)\n",
    "    display.clear_output(wait=True)\n",
    "    display.display(plt.gcf())\n",
    "    time.sleep(1.0)"
   ]
  },
  {
   "cell_type": "markdown",
   "metadata": {},
   "source": [
    "### Parallel Tempering"
   ]
  },
  {
   "cell_type": "code",
   "execution_count": 40,
   "metadata": {
    "ExecuteTime": {
     "end_time": "2018-09-14T06:39:44.089859Z",
     "start_time": "2018-09-14T06:39:44.081122Z"
    }
   },
   "outputs": [],
   "source": [
    "rbm = RBM(visible_size, hidden_size, \n",
    "          visible_type='gaussian', hidden_type='bernoulli',\n",
    "          sampler_method=\"pt\",\n",
    "          estimate_visible_sigma=True)"
   ]
  },
  {
   "cell_type": "code",
   "execution_count": 28,
   "metadata": {
    "ExecuteTime": {
     "end_time": "2018-09-14T06:36:46.848903Z",
     "start_time": "2018-09-14T06:36:46.824579Z"
    }
   },
   "outputs": [],
   "source": [
    "# rbm.v_sigma = np.var(train_data, axis=0)"
   ]
  },
  {
   "cell_type": "code",
   "execution_count": 41,
   "metadata": {
    "ExecuteTime": {
     "end_time": "2018-09-14T06:39:55.352843Z",
     "start_time": "2018-09-14T06:39:45.246373Z"
    },
    "scrolled": true
   },
   "outputs": [
    {
     "name": "stderr",
     "output_type": "stream",
     "text": [
      "2018-09-14 08:39:45,269 INFO      core: [001 / 100] NLL (train):            100.13801\n",
      "2018-09-14 08:39:45,274 INFO      core: [001 / 100] NLL (test):             100.17770\n",
      "\n",
      "\n",
      "\n",
      "  0%|          | 0/75000 [00:00<?, ?it/s]\u001b[A\u001b[A\u001b[A2018-09-14 08:39:45,278 INFO      core: Initializing PT chain...\n",
      "2018-09-14 08:39:45,285 WARNING   core: Large portion of tempered samples accepted (128 / 128)\n",
      "2018-09-14 08:39:45,294 WARNING   core: Large portion of tempered samples accepted (128 / 128)\n",
      "2018-09-14 08:39:45,301 WARNING   core: Large portion of tempered samples accepted (128 / 128)\n",
      "2018-09-14 08:39:45,312 WARNING   core: Large portion of tempered samples accepted (128 / 128)\n",
      "2018-09-14 08:39:45,318 WARNING   core: Large portion of tempered samples accepted (127 / 128)\n",
      "2018-09-14 08:39:45,325 WARNING   core: Large portion of tempered samples accepted (128 / 128)\n",
      "2018-09-14 08:39:45,333 WARNING   core: Large portion of tempered samples accepted (128 / 128)\n",
      "2018-09-14 08:39:45,341 WARNING   core: Large portion of tempered samples accepted (128 / 128)\n",
      "2018-09-14 08:39:45,349 WARNING   core: Large portion of tempered samples accepted (127 / 128)\n",
      "2018-09-14 08:39:45,357 WARNING   core: Large portion of tempered samples accepted (128 / 128)\n",
      "\n",
      "\n",
      "\n",
      "  2%|▏         | 1664/75000 [00:00<00:04, 16598.82it/s]\u001b[A\u001b[A\u001b[A\n",
      "\n",
      "\n",
      "  6%|▌         | 4480/75000 [00:00<00:03, 18878.81it/s]\u001b[A\u001b[A\u001b[A\n",
      "\n",
      "\n",
      " 10%|█         | 7680/75000 [00:00<00:03, 21478.89it/s]\u001b[A\u001b[A\u001b[A/home/tor/anaconda3/envs/ml/lib/python3.6/site-packages/ml-0.1.0-py3.6.egg/ml/rbms/core.py:135: RuntimeWarning: overflow encountered in square\n",
      "  visible = ((v - self.v_bias) ** 2) / (self.v_sigma ** 2\n",
      "/home/tor/anaconda3/envs/ml/lib/python3.6/site-packages/ml-0.1.0-py3.6.egg/ml/rbms/core.py:401: RuntimeWarning: invalid value encountered in subtract\n",
      "  (self.energy(*res[r]) - self.energy(*res[r - 1])))\n",
      "/home/tor/anaconda3/envs/ml/lib/python3.6/site-packages/ml-0.1.0-py3.6.egg/ml/rbms/core.py:404: RuntimeWarning: invalid value encountered in less\n",
      "  acc_mask = (u < a).reshape(batch_size, 1)\n",
      "/home/tor/anaconda3/envs/ml/lib/python3.6/site-packages/ml-0.1.0-py3.6.egg/ml/rbms/core.py:295: RuntimeWarning: overflow encountered in square\n",
      "  ((v - self.v_bias) ** 2)\n",
      "\n",
      "\n",
      "\n",
      " 15%|█▍        | 11008/75000 [00:00<00:02, 23851.68it/s]\u001b[A\u001b[A\u001b[A\n",
      "\n",
      "\n",
      " 19%|█▉        | 14208/75000 [00:00<00:02, 25658.63it/s]\u001b[A\u001b[A\u001b[A\n",
      "\n",
      "\n",
      " 23%|██▎       | 17024/75000 [00:00<00:02, 26287.98it/s]\u001b[A\u001b[A\u001b[A\n",
      "\n",
      "\n",
      " 27%|██▋       | 19968/75000 [00:00<00:02, 26929.36it/s]\u001b[A\u001b[A\u001b[A\n",
      "\n",
      "\n",
      " 31%|███       | 23168/75000 [00:00<00:01, 28161.66it/s]\u001b[A\u001b[A\u001b[A\n",
      "\n",
      "\n",
      " 35%|███▍      | 26112/75000 [00:00<00:01, 28401.96it/s]\u001b[A\u001b[A\u001b[A\n",
      "\n",
      "\n",
      " 39%|███▊      | 29056/75000 [00:01<00:01, 28631.69it/s]\u001b[A\u001b[A\u001b[A\n",
      "\n",
      "\n",
      " 43%|████▎     | 32000/75000 [00:01<00:01, 28187.99it/s]\u001b[A\u001b[A\u001b[A\n",
      "\n",
      "\n",
      " 47%|████▋     | 34944/75000 [00:01<00:01, 27827.84it/s]\u001b[A\u001b[A\u001b[A\n",
      "\n",
      "\n",
      " 51%|█████     | 38016/75000 [00:01<00:01, 28502.41it/s]\u001b[A\u001b[A\u001b[A\n",
      "\n",
      "\n",
      " 55%|█████▍    | 41216/75000 [00:01<00:01, 29162.26it/s]\u001b[A\u001b[A\u001b[A\n",
      "\n",
      "\n",
      " 59%|█████▉    | 44160/75000 [00:01<00:01, 26485.67it/s]\u001b[A\u001b[A\u001b[A\n",
      "\n",
      "\n",
      " 63%|██████▎   | 46976/75000 [00:01<00:01, 26931.83it/s]\u001b[A\u001b[A\u001b[A\n",
      "\n",
      "\n",
      " 67%|██████▋   | 50048/75000 [00:01<00:00, 27745.04it/s]\u001b[A\u001b[A\u001b[A\n",
      "\n",
      "\n",
      " 70%|███████   | 52864/75000 [00:01<00:00, 27392.75it/s]\u001b[A\u001b[A\u001b[A\n",
      "\n",
      "\n",
      " 75%|███████▍  | 56064/75000 [00:01<00:00, 28531.14it/s]\u001b[A\u001b[A\u001b[A\n",
      "\n",
      "\n",
      " 79%|███████▉  | 59136/75000 [00:02<00:00, 28852.68it/s]\u001b[A\u001b[A\u001b[A\n",
      "\n",
      "\n",
      " 83%|████████▎ | 62208/75000 [00:02<00:00, 29325.02it/s]\u001b[A\u001b[A\u001b[A\n",
      "\n",
      "\n",
      " 87%|████████▋ | 65280/75000 [00:02<00:00, 29344.24it/s]\u001b[A\u001b[A\u001b[A\n",
      "\n",
      "\n",
      " 91%|█████████ | 68352/75000 [00:02<00:00, 29515.42it/s]\u001b[A\u001b[A\u001b[A\n",
      "\n",
      "\n",
      " 95%|█████████▌| 71424/75000 [00:02<00:00, 29491.53it/s]\u001b[A\u001b[A\u001b[A\n",
      "\n",
      "\n",
      " 99%|█████████▉| 74496/75000 [00:02<00:00, 29032.85it/s]\u001b[A\u001b[A\u001b[A\n",
      "\n",
      "\n",
      "100%|██████████| 75000/75000 [00:02<00:00, 28475.95it/s]\u001b[A\u001b[A\u001b[A2018-09-14 08:39:47,918 INFO      core: [001 / 100] Reconstruction error:    1.0483910709508136e+155\n",
      "2018-09-14 08:39:47,918 INFO      core: [001 / 100] Loss:                    inf\n",
      "2018-09-14 08:39:47,941 INFO      core: [002 / 100] NLL (train):             -4.10876\n",
      "2018-09-14 08:39:47,947 INFO      core: [002 / 100] NLL (test):              -4.10882\n",
      "\n",
      "\n",
      "\n",
      "  0%|          | 0/75000 [00:00<?, ?it/s]\u001b[A\u001b[A\u001b[A\n",
      "\n",
      "\n",
      "  3%|▎         | 2176/75000 [00:00<00:03, 21543.52it/s]\u001b[A\u001b[A\u001b[A\n",
      "\n",
      "\n",
      "  6%|▌         | 4352/75000 [00:00<00:03, 21581.10it/s]\u001b[A\u001b[A\u001b[A\n",
      "\n",
      "\n",
      " 10%|▉         | 7168/75000 [00:00<00:02, 23050.26it/s]\u001b[A\u001b[A\u001b[A\n",
      "\n",
      "\n",
      " 13%|█▎        | 9472/75000 [00:00<00:02, 22759.06it/s]\u001b[A\u001b[A\u001b[A\n",
      "\n",
      "\n",
      " 17%|█▋        | 12416/75000 [00:00<00:02, 24228.78it/s]\u001b[A\u001b[A\u001b[A\n",
      "\n",
      "\n",
      " 20%|██        | 15360/75000 [00:00<00:02, 25436.31it/s]\u001b[A\u001b[A\u001b[A\n",
      "\n",
      "\n",
      " 24%|██▎       | 17792/75000 [00:00<00:02, 24980.65it/s]\u001b[A\u001b[A\u001b[A\n",
      "\n",
      "\n",
      " 27%|██▋       | 20608/75000 [00:00<00:02, 25713.02it/s]\u001b[A\u001b[A\u001b[A\n",
      "\n",
      "\n",
      " 31%|███       | 23296/75000 [00:00<00:02, 25751.38it/s]\u001b[A\u001b[A\u001b[A\n",
      "\n",
      "\n",
      " 35%|███▍      | 25984/75000 [00:01<00:01, 26015.50it/s]\u001b[A\u001b[A\u001b[A\n",
      "\n",
      "\n",
      " 39%|███▉      | 29184/75000 [00:01<00:01, 27462.56it/s]\u001b[A\u001b[A\u001b[A\n",
      "\n",
      "\n",
      " 43%|████▎     | 32384/75000 [00:01<00:01, 28478.29it/s]\u001b[A\u001b[A\u001b[A\n",
      "\n",
      "\n",
      " 47%|████▋     | 35584/75000 [00:01<00:01, 29197.25it/s]\u001b[A\u001b[A\u001b[A\n",
      "\n",
      "\n",
      " 52%|█████▏    | 38784/75000 [00:01<00:01, 29708.77it/s]\u001b[A\u001b[A\u001b[A\n",
      "\n",
      "\n",
      " 56%|█████▌    | 41856/75000 [00:01<00:01, 29741.64it/s]\u001b[A\u001b[A\u001b[A\n",
      "\n",
      "\n",
      " 60%|█████▉    | 44928/75000 [00:01<00:01, 29177.50it/s]\u001b[A\u001b[A\u001b[A\n",
      "\n",
      "\n",
      " 64%|██████▍   | 48000/75000 [00:01<00:00, 29451.55it/s]\u001b[A\u001b[A\u001b[A\n",
      "\n",
      "\n",
      " 68%|██████▊   | 51072/75000 [00:01<00:00, 29648.43it/s]\u001b[A\u001b[A\u001b[A\n",
      "\n",
      "\n",
      " 72%|███████▏  | 54144/75000 [00:01<00:00, 28275.44it/s]\u001b[A\u001b[A\u001b[A\n",
      "\n",
      "\n",
      " 76%|███████▌  | 57088/75000 [00:02<00:00, 27397.71it/s]\u001b[A\u001b[A\u001b[A\n",
      "\n",
      "\n",
      " 80%|███████▉  | 59904/75000 [00:02<00:00, 26386.35it/s]\u001b[A\u001b[A\u001b[A\n",
      "\n",
      "\n",
      " 83%|████████▎ | 62592/75000 [00:02<00:00, 25188.70it/s]\u001b[A\u001b[A\u001b[A\n",
      "\n",
      "\n",
      " 87%|████████▋ | 65152/75000 [00:02<00:00, 24326.00it/s]\u001b[A\u001b[A\u001b[A\n",
      "\n",
      "\n",
      " 90%|█████████ | 67712/75000 [00:02<00:00, 23559.79it/s]\u001b[A\u001b[A\u001b[A\n",
      "\n",
      "\n",
      " 94%|█████████▍| 70656/75000 [00:02<00:00, 24954.50it/s]\u001b[A\u001b[A\u001b[A\n",
      "\n",
      "\n",
      " 98%|█████████▊| 73216/75000 [00:02<00:00, 25032.02it/s]\u001b[A\u001b[A\u001b[A\n",
      "\n",
      "\n",
      "100%|██████████| 75000/75000 [00:02<00:00, 26504.98it/s]\u001b[A\u001b[A\u001b[A2018-09-14 08:39:50,786 INFO      core: [002 / 100] Reconstruction error:    1.3902563921256298e+155\n",
      "2018-09-14 08:39:50,786 INFO      core: [002 / 100] Loss:                    inf\n",
      "2018-09-14 08:39:50,806 INFO      core: [003 / 100] NLL (train):             -4.17586\n",
      "2018-09-14 08:39:50,811 INFO      core: [003 / 100] NLL (test):              -4.17599\n",
      "\n",
      "\n",
      "\n",
      "  0%|          | 0/75000 [00:00<?, ?it/s]\u001b[A\u001b[A\u001b[A\n",
      "\n",
      "\n",
      "  3%|▎         | 2560/75000 [00:00<00:02, 24666.94it/s]\u001b[A\u001b[A\u001b[A\n",
      "\n",
      "\n",
      "  7%|▋         | 5376/75000 [00:00<00:02, 25445.64it/s]\u001b[A\u001b[A\u001b[A\n",
      "\n",
      "\n",
      " 11%|█         | 8320/75000 [00:00<00:02, 26487.08it/s]\u001b[A\u001b[A\u001b[A\n",
      "\n",
      "\n",
      " 15%|█▌        | 11264/75000 [00:00<00:02, 27045.13it/s]\u001b[A\u001b[A\u001b[A\n",
      "\n",
      "\n",
      " 19%|█▉        | 14336/75000 [00:00<00:02, 27818.09it/s]\u001b[A\u001b[A\u001b[A\n",
      "\n",
      "\n",
      " 23%|██▎       | 17408/75000 [00:00<00:02, 28406.31it/s]\u001b[A\u001b[A\u001b[A\n",
      "\n",
      "\n",
      " 27%|██▋       | 20352/75000 [00:00<00:01, 28509.45it/s]\u001b[A\u001b[A\u001b[A\n",
      "\n",
      "\n",
      " 31%|███       | 23424/75000 [00:00<00:01, 29052.14it/s]\u001b[A\u001b[A\u001b[A\n",
      "\n",
      "\n",
      " 35%|███▍      | 26240/75000 [00:00<00:01, 28667.71it/s]\u001b[A\u001b[A\u001b[A\n",
      "\n",
      "\n",
      " 39%|███▉      | 29312/75000 [00:01<00:01, 29165.19it/s]\u001b[A\u001b[A\u001b[A\n",
      "\n",
      "\n",
      " 43%|████▎     | 32256/75000 [00:01<00:01, 28876.14it/s]\u001b[A\u001b[A\u001b[A\n",
      "\n",
      "\n",
      " 47%|████▋     | 35456/75000 [00:01<00:01, 29697.97it/s]\u001b[A\u001b[A\u001b[A\n",
      "\n",
      "\n",
      " 51%|█████▏    | 38528/75000 [00:01<00:01, 29750.09it/s]\u001b[A\u001b[A\u001b[A\n",
      "\n",
      "\n",
      " 56%|█████▌    | 41728/75000 [00:01<00:01, 30208.02it/s]\u001b[A\u001b[A\u001b[A\n",
      "\n",
      "\n",
      " 60%|█████▉    | 44800/75000 [00:01<00:00, 30270.61it/s]\u001b[A\u001b[A\u001b[A\n",
      "\n",
      "\n",
      " 64%|██████▍   | 48000/75000 [00:01<00:00, 30732.31it/s]\u001b[A\u001b[A\u001b[A\n",
      "\n",
      "\n",
      " 68%|██████▊   | 51072/75000 [00:01<00:00, 30681.17it/s]\u001b[A\u001b[A\u001b[A\n",
      "\n",
      "\n",
      " 72%|███████▏  | 54272/75000 [00:01<00:00, 30943.06it/s]\u001b[A\u001b[A\u001b[A\n",
      "\n",
      "\n",
      " 77%|███████▋  | 57600/75000 [00:01<00:00, 31308.20it/s]\u001b[A\u001b[A\u001b[A\n",
      "\n",
      "\n",
      " 81%|████████  | 60800/75000 [00:02<00:00, 31374.65it/s]\u001b[A\u001b[A\u001b[A\n",
      "\n",
      "\n",
      " 85%|████████▌ | 64000/75000 [00:02<00:00, 31471.90it/s]\u001b[A\u001b[A\u001b[A\n",
      "\n",
      "\n",
      " 90%|████████▉ | 67200/75000 [00:02<00:00, 31065.44it/s]\u001b[A\u001b[A\u001b[A\n",
      "\n",
      "\n",
      " 94%|█████████▍| 70400/75000 [00:02<00:00, 30741.19it/s]\u001b[A\u001b[A\u001b[A\n",
      "\n",
      "\n",
      " 98%|█████████▊| 73600/75000 [00:02<00:00, 30992.42it/s]\u001b[A\u001b[A\u001b[A\n",
      "\n",
      "\n",
      "100%|██████████| 75000/75000 [00:02<00:00, 29906.60it/s]\u001b[A\u001b[A\u001b[A2018-09-14 08:39:53,328 INFO      core: [003 / 100] Reconstruction error:    1.548052808003691e+155\n"
     ]
    },
    {
     "name": "stderr",
     "output_type": "stream",
     "text": [
      "2018-09-14 08:39:53,329 INFO      core: [003 / 100] Loss:                    inf\n",
      "2018-09-14 08:39:53,348 INFO      core: [004 / 100] NLL (train):             -4.13792\n",
      "2018-09-14 08:39:53,357 INFO      core: [004 / 100] NLL (test):              -4.13778\n",
      "\n",
      "\n",
      "\n",
      "  0%|          | 0/75000 [00:00<?, ?it/s]\u001b[A\u001b[A\u001b[A\n",
      "\n",
      "\n",
      "  3%|▎         | 2432/75000 [00:00<00:03, 24011.80it/s]\u001b[A\u001b[A\u001b[A\n",
      "\n",
      "\n",
      "  7%|▋         | 5248/75000 [00:00<00:02, 25106.72it/s]\u001b[A\u001b[A\u001b[A\n",
      "\n",
      "\n",
      " 11%|█         | 8320/75000 [00:00<00:02, 26439.58it/s]\u001b[A\u001b[A\u001b[A\n",
      "\n",
      "\n",
      " 15%|█▌        | 11520/75000 [00:00<00:02, 27822.57it/s]\u001b[A\u001b[A\u001b[A\n",
      "\n",
      "\n",
      " 19%|█▉        | 14464/75000 [00:00<00:02, 28186.22it/s]\u001b[A\u001b[A\u001b[A\n",
      "\n",
      "\n",
      " 23%|██▎       | 17536/75000 [00:00<00:02, 28696.59it/s]\u001b[A\u001b[A\u001b[A\n",
      "\n",
      "\n",
      " 27%|██▋       | 20480/75000 [00:00<00:01, 28654.98it/s]\u001b[A\u001b[A\u001b[A\n",
      "\n",
      "\n",
      " 32%|███▏      | 23680/75000 [00:00<00:01, 29281.06it/s]\u001b[A\u001b[A\u001b[A\n",
      "\n",
      "\n",
      " 36%|███▌      | 27136/75000 [00:00<00:01, 30577.91it/s]\u001b[A\u001b[A\u001b[A\n",
      "\n",
      "\n",
      " 40%|████      | 30208/75000 [00:01<00:01, 30121.72it/s]\u001b[A\u001b[A\u001b[A\n",
      "\n",
      "\n",
      " 44%|████▍     | 33280/75000 [00:01<00:01, 29481.97it/s]\u001b[A\u001b[A\u001b[A\n",
      "\n",
      "\n",
      " 48%|████▊     | 36224/75000 [00:01<00:01, 29370.14it/s]\u001b[A\u001b[A\u001b[A\n",
      "\n",
      "\n",
      " 53%|█████▎    | 39552/75000 [00:01<00:01, 30235.66it/s]\u001b[A\u001b[A\u001b[A\n",
      "\n",
      "\n",
      " 57%|█████▋    | 42752/75000 [00:01<00:01, 30430.05it/s]\u001b[A\u001b[A\u001b[A\n",
      "\n",
      "\n",
      " 61%|██████▏   | 45952/75000 [00:01<00:00, 30557.58it/s]\u001b[A\u001b[A\u001b[A\n",
      "\n",
      "\n",
      " 65%|██████▌   | 49024/75000 [00:01<00:00, 30549.66it/s]\u001b[A\u001b[A\u001b[A\n",
      "\n",
      "\n",
      " 70%|██████▉   | 52224/75000 [00:01<00:00, 30677.61it/s]\u001b[A\u001b[A\u001b[A\n",
      "\n",
      "\n",
      " 74%|███████▎  | 55296/75000 [00:01<00:00, 30642.26it/s]\u001b[A\u001b[A\u001b[A\n",
      "\n",
      "\n",
      " 78%|███████▊  | 58368/75000 [00:01<00:00, 30416.05it/s]\u001b[A\u001b[A\u001b[A"
     ]
    },
    {
     "ename": "KeyboardInterrupt",
     "evalue": "",
     "output_type": "error",
     "traceback": [
      "\u001b[0;31m---------------------------------------------------------------------------\u001b[0m",
      "\u001b[0;31mKeyboardInterrupt\u001b[0m                         Traceback (most recent call last)",
      "\u001b[0;32m<ipython-input-41-0e31678067b2>\u001b[0m in \u001b[0;36m<module>\u001b[0;34m()\u001b[0m\n\u001b[1;32m      6\u001b[0m     \u001b[0mlearning_rate\u001b[0m\u001b[0;34m=\u001b[0m\u001b[0mLR\u001b[0m\u001b[0;34m,\u001b[0m\u001b[0;34m\u001b[0m\u001b[0m\n\u001b[1;32m      7\u001b[0m     \u001b[0mtest_data\u001b[0m\u001b[0;34m=\u001b[0m\u001b[0mtest_data\u001b[0m\u001b[0;34m,\u001b[0m\u001b[0;34m\u001b[0m\u001b[0m\n\u001b[0;32m----> 8\u001b[0;31m     \u001b[0mpersist\u001b[0m\u001b[0;34m=\u001b[0m\u001b[0;32mTrue\u001b[0m\u001b[0;34m,\u001b[0m\u001b[0;34m\u001b[0m\u001b[0m\n\u001b[0m\u001b[1;32m      9\u001b[0m \u001b[0;31m#     callbacks=callbacks\u001b[0m\u001b[0;34m\u001b[0m\u001b[0;34m\u001b[0m\u001b[0m\n\u001b[1;32m     10\u001b[0m )\n",
      "\u001b[0;32m~/anaconda3/envs/ml/lib/python3.6/site-packages/ml-0.1.0-py3.6.egg/ml/rbms/core.py\u001b[0m in \u001b[0;36mfit\u001b[0;34m(self, train_data, k, learning_rate, num_epochs, batch_size, test_data, show_progress, weight_decay, early_stopping, callbacks, reset_per_epoch, **sampler_kwargs)\u001b[0m\n\u001b[1;32m    765\u001b[0m                     \u001b[0mlr\u001b[0m\u001b[0;34m=\u001b[0m\u001b[0mlearning_rate\u001b[0m\u001b[0;34m,\u001b[0m\u001b[0;34m\u001b[0m\u001b[0m\n\u001b[1;32m    766\u001b[0m                     \u001b[0mlmbda\u001b[0m\u001b[0;34m=\u001b[0m\u001b[0mweight_decay\u001b[0m\u001b[0;34m,\u001b[0m\u001b[0;34m\u001b[0m\u001b[0m\n\u001b[0;32m--> 767\u001b[0;31m                     \u001b[0;34m**\u001b[0m\u001b[0msampler_kwargs\u001b[0m\u001b[0;34m\u001b[0m\u001b[0m\n\u001b[0m\u001b[1;32m    768\u001b[0m                 )\n\u001b[1;32m    769\u001b[0m \u001b[0;34m\u001b[0m\u001b[0m\n",
      "\u001b[0;32m~/anaconda3/envs/ml/lib/python3.6/site-packages/ml-0.1.0-py3.6.egg/ml/rbms/core.py\u001b[0m in \u001b[0;36mstep\u001b[0;34m(self, v, k, lr, lmbda, **sampler_kwargs)\u001b[0m\n\u001b[1;32m    475\u001b[0m         \u001b[0;34m\"Performs a single gradient DEscent step on the batch `v`.\"\u001b[0m\u001b[0;34m\u001b[0m\u001b[0m\n\u001b[1;32m    476\u001b[0m         \u001b[0;31m# compute gradient for each observed visible configuration\u001b[0m\u001b[0;34m\u001b[0m\u001b[0;34m\u001b[0m\u001b[0m\n\u001b[0;32m--> 477\u001b[0;31m         \u001b[0mgrad\u001b[0m\u001b[0;34m,\u001b[0m \u001b[0mv_k\u001b[0m \u001b[0;34m=\u001b[0m \u001b[0mself\u001b[0m\u001b[0;34m.\u001b[0m\u001b[0mgrad\u001b[0m\u001b[0;34m(\u001b[0m\u001b[0mv\u001b[0m\u001b[0;34m,\u001b[0m \u001b[0mk\u001b[0m\u001b[0;34m=\u001b[0m\u001b[0mk\u001b[0m\u001b[0;34m,\u001b[0m \u001b[0;34m**\u001b[0m\u001b[0msampler_kwargs\u001b[0m\u001b[0;34m)\u001b[0m\u001b[0;34m\u001b[0m\u001b[0m\n\u001b[0m\u001b[1;32m    478\u001b[0m \u001b[0;34m\u001b[0m\u001b[0m\n\u001b[1;32m    479\u001b[0m         \u001b[0;31m# update parameters\u001b[0m\u001b[0;34m\u001b[0m\u001b[0;34m\u001b[0m\u001b[0m\n",
      "\u001b[0;32m~/anaconda3/envs/ml/lib/python3.6/site-packages/ml-0.1.0-py3.6.egg/ml/rbms/core.py\u001b[0m in \u001b[0;36mgrad\u001b[0;34m(self, v, burnin, persist, **sampler_kwargs)\u001b[0m\n\u001b[1;32m    555\u001b[0m                     \u001b[0mv_0\u001b[0m\u001b[0;34m,\u001b[0m\u001b[0;34m\u001b[0m\u001b[0m\n\u001b[1;32m    556\u001b[0m                     \u001b[0mhs\u001b[0m\u001b[0;34m=\u001b[0m\u001b[0mh_0\u001b[0m\u001b[0;34m,\u001b[0m\u001b[0;34m\u001b[0m\u001b[0m\n\u001b[0;32m--> 557\u001b[0;31m                     \u001b[0;34m**\u001b[0m\u001b[0msampler_kwargs\u001b[0m\u001b[0;34m\u001b[0m\u001b[0m\n\u001b[0m\u001b[1;32m    558\u001b[0m                 )\n\u001b[1;32m    559\u001b[0m \u001b[0;34m\u001b[0m\u001b[0m\n",
      "\u001b[0;32m~/anaconda3/envs/ml/lib/python3.6/site-packages/ml-0.1.0-py3.6.egg/ml/rbms/core.py\u001b[0m in \u001b[0;36mparallel_tempering\u001b[0;34m(self, vs, hs, k, betas, max_temp, num_temps, include_negative_shift)\u001b[0m\n\u001b[1;32m    399\u001b[0m         \u001b[0;32mfor\u001b[0m \u001b[0mr\u001b[0m \u001b[0;32min\u001b[0m \u001b[0mrange\u001b[0m\u001b[0;34m(\u001b[0m\u001b[0mR\u001b[0m \u001b[0;34m-\u001b[0m \u001b[0;36m1\u001b[0m\u001b[0;34m,\u001b[0m \u001b[0;36m0\u001b[0m\u001b[0;34m,\u001b[0m \u001b[0;34m-\u001b[0m\u001b[0;36m1\u001b[0m\u001b[0;34m)\u001b[0m\u001b[0;34m:\u001b[0m\u001b[0;34m\u001b[0m\u001b[0m\n\u001b[1;32m    400\u001b[0m             a = np.exp((betas[r] - betas[r - 1]) *\n\u001b[0;32m--> 401\u001b[0;31m                        (self.energy(*res[r]) - self.energy(*res[r - 1])))\n\u001b[0m\u001b[1;32m    402\u001b[0m             \u001b[0mu\u001b[0m \u001b[0;34m=\u001b[0m \u001b[0mnp\u001b[0m\u001b[0;34m.\u001b[0m\u001b[0mrandom\u001b[0m\u001b[0;34m.\u001b[0m\u001b[0mrandom\u001b[0m\u001b[0;34m(\u001b[0m\u001b[0mbatch_size\u001b[0m\u001b[0;34m)\u001b[0m\u001b[0;34m\u001b[0m\u001b[0m\n\u001b[1;32m    403\u001b[0m             \u001b[0;31m# acceptance mask\u001b[0m\u001b[0;34m\u001b[0m\u001b[0;34m\u001b[0m\u001b[0m\n",
      "\u001b[0;32m~/anaconda3/envs/ml/lib/python3.6/site-packages/ml-0.1.0-py3.6.egg/ml/rbms/core.py\u001b[0m in \u001b[0;36menergy\u001b[0;34m(self, v, h)\u001b[0m\n\u001b[1;32m    151\u001b[0m         \u001b[0mcovariance\u001b[0m \u001b[0;34m=\u001b[0m \u001b[0mdot_batch\u001b[0m\u001b[0;34m(\u001b[0m\u001b[0mh\u001b[0m\u001b[0;34m,\u001b[0m \u001b[0mcovariance\u001b[0m\u001b[0;34m)\u001b[0m\u001b[0;34m\u001b[0m\u001b[0m\n\u001b[1;32m    152\u001b[0m \u001b[0;34m\u001b[0m\u001b[0m\n\u001b[0;32m--> 153\u001b[0;31m         \u001b[0;32mreturn\u001b[0m \u001b[0;34m-\u001b[0m \u001b[0;34m(\u001b[0m\u001b[0mvisible\u001b[0m \u001b[0;34m+\u001b[0m \u001b[0mhidden\u001b[0m \u001b[0;34m+\u001b[0m \u001b[0mcovariance\u001b[0m\u001b[0;34m)\u001b[0m\u001b[0;34m\u001b[0m\u001b[0m\n\u001b[0m\u001b[1;32m    154\u001b[0m \u001b[0;34m\u001b[0m\u001b[0m\n\u001b[1;32m    155\u001b[0m     \u001b[0;32mdef\u001b[0m \u001b[0mmean_visible\u001b[0m\u001b[0;34m(\u001b[0m\u001b[0mself\u001b[0m\u001b[0;34m,\u001b[0m \u001b[0mh\u001b[0m\u001b[0;34m,\u001b[0m \u001b[0mbeta\u001b[0m\u001b[0;34m=\u001b[0m\u001b[0;36m1.0\u001b[0m\u001b[0;34m)\u001b[0m\u001b[0;34m:\u001b[0m\u001b[0;34m\u001b[0m\u001b[0m\n",
      "\u001b[0;31mKeyboardInterrupt\u001b[0m: "
     ]
    }
   ],
   "source": [
    "train_nll, test_nll = rbm.fit(\n",
    "    train_data, \n",
    "    k=K, \n",
    "    batch_size=BATCH_SIZE, \n",
    "    num_epochs=NUM_EPOCHS * 10, \n",
    "    learning_rate=LR,\n",
    "    test_data=test_data,\n",
    "    persist=True,\n",
    "#     callbacks=callbacks\n",
    ")"
   ]
  },
  {
   "cell_type": "code",
   "execution_count": 23,
   "metadata": {
    "ExecuteTime": {
     "end_time": "2018-09-14T06:36:16.259236Z",
     "start_time": "2018-09-14T06:36:16.250469Z"
    },
    "scrolled": true
   },
   "outputs": [
    {
     "ename": "NameError",
     "evalue": "name 'train_nll' is not defined",
     "output_type": "error",
     "traceback": [
      "\u001b[0;31m---------------------------------------------------------------------------\u001b[0m",
      "\u001b[0;31mNameError\u001b[0m                                 Traceback (most recent call last)",
      "\u001b[0;32m<ipython-input-23-dce9bc21873d>\u001b[0m in \u001b[0;36m<module>\u001b[0;34m()\u001b[0m\n\u001b[0;32m----> 1\u001b[0;31m \u001b[0mplt\u001b[0m\u001b[0;34m.\u001b[0m\u001b[0mplot\u001b[0m\u001b[0;34m(\u001b[0m\u001b[0mtrain_nll\u001b[0m\u001b[0;34m)\u001b[0m\u001b[0;34m\u001b[0m\u001b[0m\n\u001b[0m\u001b[1;32m      2\u001b[0m \u001b[0mplt\u001b[0m\u001b[0;34m.\u001b[0m\u001b[0mplot\u001b[0m\u001b[0;34m(\u001b[0m\u001b[0mtest_nll\u001b[0m\u001b[0;34m)\u001b[0m\u001b[0;34m\u001b[0m\u001b[0m\n",
      "\u001b[0;31mNameError\u001b[0m: name 'train_nll' is not defined"
     ]
    }
   ],
   "source": [
    "plt.plot(train_nll)\n",
    "plt.plot(test_nll)"
   ]
  },
  {
   "cell_type": "code",
   "execution_count": 38,
   "metadata": {
    "ExecuteTime": {
     "end_time": "2018-09-14T06:39:23.101216Z",
     "start_time": "2018-09-14T06:39:18.742316Z"
    },
    "scrolled": false
   },
   "outputs": [],
   "source": [
    "samples_v, samples_h = gibbs_sample_rbm(rbm, 10000, data[123], burnin=1000)"
   ]
  },
  {
   "cell_type": "code",
   "execution_count": 39,
   "metadata": {
    "ExecuteTime": {
     "end_time": "2018-09-14T06:39:26.912810Z",
     "start_time": "2018-09-14T06:39:24.254805Z"
    },
    "scrolled": false
   },
   "outputs": [
    {
     "data": {
      "text/plain": [
       "(<Figure size 1080x1152 with 6 Axes>,\n",
       " array([<matplotlib.axes._subplots.AxesSubplot object at 0x7f2540977f60>,\n",
       "        <matplotlib.axes._subplots.AxesSubplot object at 0x7f25435f56d8>,\n",
       "        <matplotlib.axes._subplots.AxesSubplot object at 0x7f2543895a20>,\n",
       "        <matplotlib.axes._subplots.AxesSubplot object at 0x7f254006e278>,\n",
       "        <matplotlib.axes._subplots.AxesSubplot object at 0x7f253bfe6a90>,\n",
       "        <matplotlib.axes._subplots.AxesSubplot object at 0x7f253bfd7278>],\n",
       "       dtype=object))"
      ]
     },
     "execution_count": 39,
     "metadata": {},
     "output_type": "execute_result"
    },
    {
     "data": {
      "image/png": "[encoded data removed]",
      "text/plain": [
       "<Figure size 1080x1152 with 6 Axes>"
      ]
     },
     "metadata": {},
     "output_type": "display_data"
    }
   ],
   "source": [
    "plot_gaussian_mixtures(data, samples_v, title=\"PT with $k = 1$ and $R = 10$\", include_means=True)"
   ]
  },
  {
   "cell_type": "code",
   "execution_count": 45,
   "metadata": {
    "ExecuteTime": {
     "end_time": "2018-07-15T11:15:47.375848Z",
     "start_time": "2018-07-15T11:15:47.205883Z"
    }
   },
   "outputs": [
    {
     "data": {
      "image/png": "[encoded data removed]",
      "text/plain": [
       "<Figure size 432x432 with 2 Axes>"
      ]
     },
     "metadata": {},
     "output_type": "display_data"
    }
   ],
   "source": [
    "im = np.matmul(rbm.W, rbm.W.T)\n",
    "\n",
    "fig = plt.figure(figsize=im.shape)\n",
    "coloraxes = plt.imshow(im, cmap=cm.viridis)\n",
    "cbar = fig.colorbar(coloraxes)"
   ]
  },
  {
   "cell_type": "markdown",
   "metadata": {},
   "source": [
    "# 1D Ising"
   ]
  },
  {
   "cell_type": "code",
   "execution_count": 8,
   "metadata": {
    "ExecuteTime": {
     "end_time": "2018-07-19T23:56:03.901086Z",
     "start_time": "2018-07-19T23:56:03.889229Z"
    }
   },
   "outputs": [],
   "source": [
    "import pandas as pd"
   ]
  },
  {
   "cell_type": "code",
   "execution_count": 9,
   "metadata": {
    "ExecuteTime": {
     "end_time": "2018-07-19T23:56:04.069508Z",
     "start_time": "2018-07-19T23:56:03.909698Z"
    }
   },
   "outputs": [],
   "source": [
    "df = pd.read_csv(\"data/ising_binary_1d.csv\", skiprows=1)"
   ]
  },
  {
   "cell_type": "code",
   "execution_count": 10,
   "metadata": {
    "ExecuteTime": {
     "end_time": "2018-07-19T23:56:04.076298Z",
     "start_time": "2018-07-19T23:56:04.072316Z"
    }
   },
   "outputs": [],
   "source": [
    "from sklearn.model_selection import train_test_split"
   ]
  },
  {
   "cell_type": "code",
   "execution_count": 11,
   "metadata": {
    "ExecuteTime": {
     "end_time": "2018-07-19T23:56:04.101145Z",
     "start_time": "2018-07-19T23:56:04.079394Z"
    }
   },
   "outputs": [],
   "source": [
    "data = df.values.astype(np.float64)"
   ]
  },
  {
   "cell_type": "code",
   "execution_count": 12,
   "metadata": {
    "ExecuteTime": {
     "end_time": "2018-07-19T23:56:04.106997Z",
     "start_time": "2018-07-19T23:56:04.103181Z"
    }
   },
   "outputs": [],
   "source": [
    "# data += np.random.normal(scale=0.1, size=data.shape)"
   ]
  },
  {
   "cell_type": "code",
   "execution_count": 13,
   "metadata": {
    "ExecuteTime": {
     "end_time": "2018-07-19T23:56:04.193257Z",
     "start_time": "2018-07-19T23:56:04.109275Z"
    }
   },
   "outputs": [],
   "source": [
    "train_data, test_data = train_test_split(data)"
   ]
  },
  {
   "cell_type": "code",
   "execution_count": 14,
   "metadata": {
    "ExecuteTime": {
     "end_time": "2018-07-19T23:56:04.198175Z",
     "start_time": "2018-07-19T23:56:04.194669Z"
    }
   },
   "outputs": [],
   "source": [
    "LR = 0.01\n",
    "BATCH_SIZE = 128\n",
    "NUM_EPOCHS = 10\n",
    "K = 1\n",
    "\n",
    "V_SIGMA = 0.1"
   ]
  },
  {
   "cell_type": "code",
   "execution_count": 15,
   "metadata": {
    "ExecuteTime": {
     "end_time": "2018-07-19T23:56:04.206947Z",
     "start_time": "2018-07-19T23:56:04.199998Z"
    }
   },
   "outputs": [],
   "source": [
    "visible_size = 6\n",
    "hidden_size = 6"
   ]
  },
  {
   "cell_type": "markdown",
   "metadata": {},
   "source": [
    "## Model"
   ]
  },
  {
   "cell_type": "code",
   "execution_count": 16,
   "metadata": {
    "ExecuteTime": {
     "end_time": "2018-07-19T23:56:05.205099Z",
     "start_time": "2018-07-19T23:56:05.190951Z"
    }
   },
   "outputs": [],
   "source": [
    "rbm_cd = RBM(visible_size, hidden_size, \n",
    "          visible_type='gaussian', hidden_type='bernoulli',\n",
    "          sampler_method=\"cd\",\n",
    "          estimate_visible_sigma=False)\n",
    "\n",
    "rbm_cd.v_sigma = V_SIGMA"
   ]
  },
  {
   "cell_type": "code",
   "execution_count": 18,
   "metadata": {
    "ExecuteTime": {
     "end_time": "2018-07-19T23:56:37.329811Z",
     "start_time": "2018-07-19T23:56:11.916698Z"
    },
    "scrolled": true
   },
   "outputs": [
    {
     "name": "stderr",
     "output_type": "stream",
     "text": [
      "2018-07-20 00:56:12,019 INFO      core: [001 / 010] NLL (train):            146.51349\n",
      "2018-07-20 00:56:12,040 INFO      core: [001 / 010] NLL (test):             146.20800\n",
      "100%|██████████| 374999/374999 [00:02<00:00, 165027.43it/s]\n",
      "2018-07-20 00:56:14,326 INFO      core: [001 / 010] Reconstruction error: 2.4501362453788538\n",
      "2018-07-20 00:56:14,326 INFO      core: [001 / 010] Loss: 0.3352582602464678\n",
      "2018-07-20 00:56:14,392 INFO      core: [002 / 010] NLL (train):             33.44885\n",
      "2018-07-20 00:56:14,411 INFO      core: [002 / 010] NLL (test):              33.50399\n",
      "100%|██████████| 374999/374999 [00:02<00:00, 165362.69it/s]\n",
      "2018-07-20 00:56:16,690 INFO      core: [002 / 010] Reconstruction error: 2.350981348789084\n",
      "2018-07-20 00:56:16,691 INFO      core: [002 / 010] Loss: 0.21674627818071773\n",
      "2018-07-20 00:56:16,747 INFO      core: [003 / 010] NLL (train):             34.53367\n",
      "2018-07-20 00:56:16,769 INFO      core: [003 / 010] NLL (test):              34.55563\n",
      "100%|██████████| 374999/374999 [00:02<00:00, 166706.66it/s]\n",
      "2018-07-20 00:56:19,028 INFO      core: [003 / 010] Reconstruction error: 2.334319285967823\n",
      "2018-07-20 00:56:19,029 INFO      core: [003 / 010] Loss: 0.14942583029222392\n",
      "2018-07-20 00:56:19,084 INFO      core: [004 / 010] NLL (train):             29.18975\n",
      "2018-07-20 00:56:19,105 INFO      core: [004 / 010] NLL (test):              29.19459\n",
      "100%|██████████| 374999/374999 [00:02<00:00, 164058.96it/s]\n",
      "2018-07-20 00:56:21,402 INFO      core: [004 / 010] Reconstruction error: 2.38872198504593\n",
      "2018-07-20 00:56:21,402 INFO      core: [004 / 010] Loss: 0.12669586890340026\n",
      "2018-07-20 00:56:21,457 INFO      core: [005 / 010] NLL (train):             31.79490\n",
      "2018-07-20 00:56:21,479 INFO      core: [005 / 010] NLL (test):              31.76384\n",
      "100%|██████████| 374999/374999 [00:02<00:00, 154145.86it/s]\n",
      "2018-07-20 00:56:23,920 INFO      core: [005 / 010] Reconstruction error: 2.4533728177288965\n",
      "2018-07-20 00:56:23,921 INFO      core: [005 / 010] Loss: 0.13855666354067842\n",
      "2018-07-20 00:56:23,978 INFO      core: [006 / 010] NLL (train):             28.23601\n",
      "2018-07-20 00:56:24,001 INFO      core: [006 / 010] NLL (test):              28.17696\n",
      "100%|██████████| 374999/374999 [00:02<00:00, 150497.75it/s]\n",
      "2018-07-20 00:56:26,507 INFO      core: [006 / 010] Reconstruction error: 2.522527348937566\n",
      "2018-07-20 00:56:26,507 INFO      core: [006 / 010] Loss: 0.18423272049874778\n",
      "2018-07-20 00:56:26,567 INFO      core: [007 / 010] NLL (train):             31.75830\n",
      "2018-07-20 00:56:26,587 INFO      core: [007 / 010] NLL (test):              31.72699\n",
      "100%|██████████| 374999/374999 [00:02<00:00, 139843.39it/s]\n",
      "2018-07-20 00:56:29,290 INFO      core: [007 / 010] Reconstruction error: 2.5935123335528325\n",
      "2018-07-20 00:56:29,291 INFO      core: [007 / 010] Loss: 0.22205055287497466\n",
      "2018-07-20 00:56:29,363 INFO      core: [008 / 010] NLL (train):             28.62167\n",
      "2018-07-20 00:56:29,387 INFO      core: [008 / 010] NLL (test):              28.57502\n",
      "100%|██████████| 374999/374999 [00:02<00:00, 141540.12it/s]\n",
      "2018-07-20 00:56:32,051 INFO      core: [008 / 010] Reconstruction error: 2.6758591847348954\n",
      "2018-07-20 00:56:32,052 INFO      core: [008 / 010] Loss: 0.2500270158841022\n",
      "2018-07-20 00:56:32,114 INFO      core: [009 / 010] NLL (train):             29.59979\n",
      "2018-07-20 00:56:32,136 INFO      core: [009 / 010] NLL (test):              29.58324\n",
      "100%|██████████| 374999/374999 [00:02<00:00, 152234.62it/s]\n",
      "2018-07-20 00:56:34,612 INFO      core: [009 / 010] Reconstruction error: 2.8018407346619183\n",
      "2018-07-20 00:56:34,613 INFO      core: [009 / 010] Loss: 0.26158772732045227\n",
      "2018-07-20 00:56:34,682 INFO      core: [010 / 010] NLL (train):             28.25047\n",
      "2018-07-20 00:56:34,703 INFO      core: [010 / 010] NLL (test):              28.28163\n",
      "100%|██████████| 374999/374999 [00:02<00:00, 147966.35it/s]\n",
      "2018-07-20 00:56:37,251 INFO      core: [010 / 010] Reconstruction error: 3.0260040610858225\n",
      "2018-07-20 00:56:37,252 INFO      core: [010 / 010] Loss: 0.25704363520711315\n",
      "2018-07-20 00:56:37,308 INFO      core: [010 / 010] NLL (train):             23.03676\n",
      "2018-07-20 00:56:37,327 INFO      core: [010 / 010] NLL (test):              23.08809\n"
     ]
    }
   ],
   "source": [
    "train_nll, test_nll = rbm_cd.fit(\n",
    "    train_data, \n",
    "    k=K, \n",
    "    batch_size=BATCH_SIZE, \n",
    "    num_epochs=NUM_EPOCHS, \n",
    "    learning_rate=LR,\n",
    "    test_data=test_data,\n",
    "#     reset_per_epoch=True,\n",
    "#     burnin=1000,\n",
    "#     persist=True\n",
    ")"
   ]
  },
  {
   "cell_type": "code",
   "execution_count": 38,
   "metadata": {
    "ExecuteTime": {
     "end_time": "2018-07-19T23:13:33.839214Z",
     "start_time": "2018-07-19T23:13:33.697013Z"
    },
    "scrolled": true
   },
   "outputs": [
    {
     "data": {
      "text/plain": [
       "[<matplotlib.lines.Line2D at 0x7f2ef80034e0>]"
      ]
     },
     "execution_count": 38,
     "metadata": {},
     "output_type": "execute_result"
    },
    {
     "data": {
      "image/png": "[encoded data removed]",
      "text/plain": [
       "<Figure size 432x288 with 1 Axes>"
      ]
     },
     "metadata": {},
     "output_type": "display_data"
    }
   ],
   "source": [
    "plt.plot(train_nll)\n",
    "plt.plot(test_nll)"
   ]
  },
  {
   "cell_type": "code",
   "execution_count": 19,
   "metadata": {
    "ExecuteTime": {
     "end_time": "2018-07-20T00:32:07.830505Z",
     "start_time": "2018-07-20T00:32:07.786540Z"
    }
   },
   "outputs": [],
   "source": [
    "train_test_split?"
   ]
  },
  {
   "cell_type": "code",
   "execution_count": 39,
   "metadata": {
    "ExecuteTime": {
     "end_time": "2018-07-19T23:13:36.054281Z",
     "start_time": "2018-07-19T23:13:35.898736Z"
    },
    "scrolled": true
   },
   "outputs": [
    {
     "data": {
      "image/png": "[encoded data removed]",
      "text/plain": [
       "<Figure size 432x432 with 2 Axes>"
      ]
     },
     "metadata": {},
     "output_type": "display_data"
    }
   ],
   "source": [
    "fig = plt.figure(figsize=(visible_size, visible_size))\n",
    "coloraxes = plt.imshow(np.matmul(rbm_cd.W, rbm_cd.W.T), cmap=cm.viridis)\n",
    "cbar = fig.colorbar(coloraxes)"
   ]
  },
  {
   "cell_type": "markdown",
   "metadata": {},
   "source": [
    "### Sample"
   ]
  },
  {
   "cell_type": "code",
   "execution_count": 40,
   "metadata": {
    "ExecuteTime": {
     "end_time": "2018-07-19T23:13:38.224868Z",
     "start_time": "2018-07-19T23:13:38.219838Z"
    }
   },
   "outputs": [],
   "source": [
    "num_samples = 20000\n",
    "burnin = 2000\n",
    "sample_every = 10"
   ]
  },
  {
   "cell_type": "code",
   "execution_count": 41,
   "metadata": {
    "ExecuteTime": {
     "end_time": "2018-07-19T23:13:52.067496Z",
     "start_time": "2018-07-19T23:13:43.093199Z"
    },
    "scrolled": true
   },
   "outputs": [],
   "source": [
    "samples_v, samples_h = gibbs_sample_rbm(rbm_cd, num_samples, test_data[0], burnin=burnin, sample_every=sample_every)"
   ]
  },
  {
   "cell_type": "code",
   "execution_count": 49,
   "metadata": {
    "ExecuteTime": {
     "end_time": "2018-07-19T23:24:14.653179Z",
     "start_time": "2018-07-19T23:22:26.464303Z"
    },
    "scrolled": true
   },
   "outputs": [],
   "source": [
    "v = test_data[0].reshape(1, -1)\n",
    "betas = [1.0, 0.5, 0.25, 0.1]\n",
    "v_pt = np.tile(v, (len(betas), 1, 1))\n",
    "\n",
    "samples_v_pt, samples_h_pt = sample_rbm(\n",
    "    rbm_cd, num_samples, \n",
    "    v_pt, \n",
    "    burnin=burnin, \n",
    "    sample_every=sample_every,\n",
    "    sampler='pt',\n",
    "    k=1,\n",
    "    betas=betas\n",
    "#     betas=np.linspace(0.0, 1.0, 2 * K + 1)[::-1][:-1] # drop 0.0\n",
    "#     num_temps=10, max_temp=1000\n",
    ")"
   ]
  },
  {
   "cell_type": "code",
   "execution_count": 50,
   "metadata": {
    "ExecuteTime": {
     "end_time": "2018-07-19T23:24:18.427362Z",
     "start_time": "2018-07-19T23:24:14.654941Z"
    }
   },
   "outputs": [
    {
     "data": {
      "image/png": "[encoded data removed]",
      "text/plain": [
       "<Figure size 1080x1152 with 12 Axes>"
      ]
     },
     "metadata": {},
     "output_type": "display_data"
    }
   ],
   "source": [
    "fig, axes = plt.subplots(data.shape[1], 2, figsize=(15, 16), sharex=False, sharey=False)\n",
    "\n",
    "fig.suptitle(\"CD with $k = 10$\", fontsize='x-large')\n",
    "\n",
    "for j in range(data.shape[1]):\n",
    "    axes[j][0].hist(samples_v[:, j], alpha=0.5, bins=100, density=True, label=f\"{j} fake (Gibbs sampling)\")\n",
    "    axes[j][1].hist(samples_v_pt[:, j], alpha=0.5, bins=100, density=True, color='red', label=f\"{j} fake (PT sampling)\")\n",
    "#     axes[j][0].hist(data[:, j], alpha=0.5, bins=100, density=True, label=f\"{j} real\")\n",
    "#     axes[j].vlines(np.mean(samples_v[:, j]), ymin=0, ymax=0.5)\n",
    "#     axes[j].vlines(np.mean(data[:, j]), ymin=0, ymax=0.1, color='g', linewidth=5, alpha=0.7)\n",
    "    axes[j][0].legend()\n",
    "    axes[j][1].legend()\n",
    "#     axes[j].set_xlim(-5, 15)\n",
    "\n",
    "plt.savefig(\"gibbs_and_pt_sampling_1d_ising_samples_200000_every_100_burnin_20000.png\")"
   ]
  },
  {
   "cell_type": "code",
   "execution_count": 76,
   "metadata": {
    "ExecuteTime": {
     "end_time": "2018-07-17T09:50:29.229107Z",
     "start_time": "2018-07-17T09:50:28.955464Z"
    },
    "scrolled": true
   },
   "outputs": [
    {
     "data": {
      "image/png": "[encoded data removed]",
      "text/plain": [
       "<Figure size 432x432 with 2 Axes>"
      ]
     },
     "metadata": {},
     "output_type": "display_data"
    }
   ],
   "source": [
    "fig = plt.figure(figsize=(visible_size, visible_size))\n",
    "coloraxes = plt.imshow(np.matmul(rbm_cd.W, rbm_cd.W.T), cmap=cm.viridis)\n",
    "cbar = fig.colorbar(coloraxes)"
   ]
  },
  {
   "cell_type": "code",
   "execution_count": 27,
   "metadata": {
    "ExecuteTime": {
     "end_time": "2018-07-16T09:18:57.563693Z",
     "start_time": "2018-07-16T09:18:57.352640Z"
    },
    "scrolled": false
   },
   "outputs": [
    {
     "data": {
      "image/png": "[encoded data removed]",
      "text/plain": [
       "<Figure size 432x432 with 2 Axes>"
      ]
     },
     "metadata": {},
     "output_type": "display_data"
    }
   ],
   "source": [
    "fig = plt.figure(figsize=(visible_size, visible_size))\n",
    "coloraxes = plt.imshow(np.corrcoef(samples_v, rowvar=False), cmap=cm.viridis)\n",
    "cbar = fig.colorbar(coloraxes)"
   ]
  },
  {
   "cell_type": "code",
   "execution_count": 28,
   "metadata": {
    "ExecuteTime": {
     "end_time": "2018-07-16T09:18:59.667137Z",
     "start_time": "2018-07-16T09:18:59.481663Z"
    },
    "scrolled": false
   },
   "outputs": [
    {
     "data": {
      "image/png": "[encoded data removed]",
      "text/plain": [
       "<Figure size 432x432 with 2 Axes>"
      ]
     },
     "metadata": {},
     "output_type": "display_data"
    }
   ],
   "source": [
    "fig = plt.figure(figsize=(visible_size, visible_size))\n",
    "coloraxes = plt.imshow(np.corrcoef(samples_v_pt, rowvar=False), cmap=cm.viridis)\n",
    "cbar = fig.colorbar(coloraxes)"
   ]
  },
  {
   "cell_type": "code",
   "execution_count": 24,
   "metadata": {},
   "outputs": [
    {
     "data": {
      "image/png": "[encoded data removed]",
      "text/plain": [
       "<Figure size 432x432 with 2 Axes>"
      ]
     },
     "metadata": {},
     "output_type": "display_data"
    }
   ],
   "source": [
    "im = np.cov(data, rowvar=False)\n",
    "\n",
    "fig = plt.figure(figsize=im.shape)\n",
    "coloraxes = plt.imshow(im, cmap=cm.viridis)\n",
    "cbar = fig.colorbar(coloraxes)"
   ]
  },
  {
   "cell_type": "markdown",
   "metadata": {},
   "source": [
    "### Parallel Tempering"
   ]
  },
  {
   "cell_type": "code",
   "execution_count": 21,
   "metadata": {
    "scrolled": true
   },
   "outputs": [],
   "source": [
    "rbm = RBM(visible_size, hidden_size, \n",
    "          visible_type='bernoulli', hidden_type='gaussian',\n",
    "          sampler_method=\"pt\",\n",
    "          estimate_visible_sigma=False)"
   ]
  },
  {
   "cell_type": "code",
   "execution_count": 22,
   "metadata": {},
   "outputs": [],
   "source": [
    "rbm.v_sigma = V_SIGMA"
   ]
  },
  {
   "cell_type": "code",
   "execution_count": 23,
   "metadata": {
    "scrolled": false
   },
   "outputs": [
    {
     "name": "stderr",
     "output_type": "stream",
     "text": [
      "2018-07-08 23:54:49,270 INFO      core: [001 / 010] NLL (train):       -1033906.82831\n",
      "2018-07-08 23:54:49,283 INFO      core: [001 / 010] NLL (test):         -344636.48421\n",
      "100%|██████████| 374999/374999 [00:07<00:00, 47739.56it/s]\n",
      "2018-07-08 23:54:57,190 INFO      core: [002 / 010] NLL (train):       -1045372.33832\n",
      "2018-07-08 23:54:57,202 INFO      core: [002 / 010] NLL (test):         -348458.71542\n",
      "100%|██████████| 374999/374999 [00:07<00:00, 48842.08it/s]\n",
      "2018-07-08 23:55:04,927 INFO      core: [003 / 010] NLL (train):       -1376714.68205\n",
      "2018-07-08 23:55:04,942 INFO      core: [003 / 010] NLL (test):         -458871.52285\n",
      "100%|██████████| 374999/374999 [00:07<00:00, 49492.90it/s]\n",
      "2018-07-08 23:55:12,567 INFO      core: [004 / 010] NLL (train):      -12372189.35679\n",
      "2018-07-08 23:55:12,579 INFO      core: [004 / 010] NLL (test):        -4122739.10885\n",
      "100%|██████████| 374999/374999 [00:07<00:00, 49402.91it/s]\n",
      "2018-07-08 23:55:20,217 INFO      core: [005 / 010] NLL (train):      -80893420.63804\n",
      "2018-07-08 23:55:20,229 INFO      core: [005 / 010] NLL (test):       -26948636.11486\n",
      "100%|██████████| 374999/374999 [00:07<00:00, 48816.64it/s]\n",
      "2018-07-08 23:55:27,959 INFO      core: [006 / 010] NLL (train):     -134947138.35063\n",
      "2018-07-08 23:55:27,972 INFO      core: [006 / 010] NLL (test):       -44903011.66027\n",
      "100%|██████████| 374999/374999 [00:07<00:00, 48971.74it/s]\n",
      "2018-07-08 23:55:35,676 INFO      core: [007 / 010] NLL (train):       74251835.58752\n",
      "2018-07-08 23:55:35,690 INFO      core: [007 / 010] NLL (test):        24982423.79454\n",
      "100%|██████████| 374999/374999 [00:07<00:00, 48768.60it/s]\n",
      "2018-07-08 23:55:43,433 INFO      core: [008 / 010] NLL (train):      517323910.67409\n",
      "2018-07-08 23:55:43,446 INFO      core: [008 / 010] NLL (test):       172868240.54689\n",
      "100%|██████████| 374999/374999 [00:07<00:00, 47966.27it/s]\n",
      "2018-07-08 23:55:51,311 INFO      core: [009 / 010] NLL (train):      915794993.75630\n",
      "2018-07-08 23:55:51,323 INFO      core: [009 / 010] NLL (test):       305800530.82998\n",
      "100%|██████████| 374999/374999 [00:07<00:00, 48668.17it/s]\n",
      "2018-07-08 23:55:59,083 INFO      core: [010 / 010] NLL (train):     1052589191.00042\n",
      "2018-07-08 23:55:59,096 INFO      core: [010 / 010] NLL (test):       351386520.47941\n",
      "100%|██████████| 374999/374999 [00:07<00:00, 48776.09it/s]\n",
      "2018-07-08 23:56:06,829 INFO      core: [010 / 010] NLL (train):     1012796689.13967\n",
      "2018-07-08 23:56:06,843 INFO      core: [010 / 010] NLL (test):       338081140.33633\n"
     ]
    }
   ],
   "source": [
    "train_nll, test_nll = rbm.fit(\n",
    "    train_data,\n",
    "    batch_size=BATCH_SIZE, \n",
    "    num_epochs=NUM_EPOCHS, \n",
    "    learning_rate=LR * 0.1,  # use smaller learning-rate when using PT\n",
    "    test_data=test_data,\n",
    "    k=1,\n",
    "    num_temps=K,  # k = 1 per temp, but use K temps\n",
    "    max_temp=1000,\n",
    ")"
   ]
  },
  {
   "cell_type": "code",
   "execution_count": 24,
   "metadata": {
    "scrolled": false
   },
   "outputs": [
    {
     "data": {
      "text/plain": [
       "[<matplotlib.lines.Line2D at 0x7f92f0af5470>]"
      ]
     },
     "execution_count": 24,
     "metadata": {},
     "output_type": "execute_result"
    },
    {
     "data": {
      "image/png": "[encoded data removed]",
      "text/plain": [
       "<Figure size 432x288 with 1 Axes>"
      ]
     },
     "metadata": {},
     "output_type": "display_data"
    }
   ],
   "source": [
    "plt.plot(train_nll)\n",
    "plt.plot(test_nll)"
   ]
  },
  {
   "cell_type": "markdown",
   "metadata": {},
   "source": [
    "#### Sample"
   ]
  },
  {
   "cell_type": "code",
   "execution_count": 25,
   "metadata": {
    "scrolled": true
   },
   "outputs": [],
   "source": [
    "samples_v, samples_h = gibbs_sample_rbm(rbm, 100000, test_data[0], burnin=10000, sample_every=1)"
   ]
  },
  {
   "cell_type": "code",
   "execution_count": 26,
   "metadata": {
    "scrolled": false
   },
   "outputs": [
    {
     "data": {
      "image/png": "[encoded data removed]",
      "text/plain": [
       "<Figure size 1080x1152 with 6 Axes>"
      ]
     },
     "metadata": {},
     "output_type": "display_data"
    }
   ],
   "source": [
    "fig, axes = plt.subplots(data.shape[1], 1, figsize=(15, 16), sharex=True, sharey=True)\n",
    "\n",
    "fig.suptitle(\"PT with $k = 1$ and $R = 10$\", fontsize='x-large')\n",
    "\n",
    "for j in range(data.shape[1]):\n",
    "    axes[j].hist(samples_v[:, j], alpha=0.5, bins=100, density=True, label=f\"{j} fake\")\n",
    "    axes[j].hist(data[:, j], alpha=0.5, bins=100, density=True, label=f\"{j} real\")\n",
    "    axes[j].vlines(np.mean(samples_v[:, j]), ymin=0, ymax=0.5)\n",
    "#     axes[j].vlines(np.mean(data[:, j]), ymin=0, ymax=0.1, color='g', linewidth=5, alpha=0.7)\n",
    "    axes[j].legend()\n",
    "#     axes[j].set_xlim(-5, 15)"
   ]
  },
  {
   "cell_type": "code",
   "execution_count": 27,
   "metadata": {
    "scrolled": false
   },
   "outputs": [
    {
     "data": {
      "image/png": "[encoded data removed]",
      "text/plain": [
       "<Figure size 432x432 with 2 Axes>"
      ]
     },
     "metadata": {},
     "output_type": "display_data"
    }
   ],
   "source": [
    "fig = plt.figure(figsize=(visible_size, visible_size))\n",
    "coloraxes = plt.imshow(np.matmul(rbm.W, rbm.W.T), cmap=cm.viridis)\n",
    "cbar = fig.colorbar(coloraxes)"
   ]
  },
  {
   "cell_type": "code",
   "execution_count": 28,
   "metadata": {},
   "outputs": [
    {
     "data": {
      "image/png": "[encoded data removed]",
      "text/plain": [
       "<Figure size 432x432 with 2 Axes>"
      ]
     },
     "metadata": {},
     "output_type": "display_data"
    }
   ],
   "source": [
    "fig = plt.figure(figsize=(visible_size, visible_size))\n",
    "coloraxes = plt.imshow(np.cov(train_data, rowvar=False), cmap=cm.viridis)\n",
    "cbar = fig.colorbar(coloraxes)"
   ]
  },
  {
   "cell_type": "code",
   "execution_count": 29,
   "metadata": {},
   "outputs": [
    {
     "data": {
      "image/png": "[encoded data removed]",
      "text/plain": [
       "<Figure size 432x432 with 2 Axes>"
      ]
     },
     "metadata": {},
     "output_type": "display_data"
    }
   ],
   "source": [
    "fig = plt.figure(figsize=(visible_size, visible_size))\n",
    "coloraxes = plt.imshow(np.cov(samples_v, rowvar=False), cmap=cm.viridis)\n",
    "cbar = fig.colorbar(coloraxes)"
   ]
  }
 ],
 "metadata": {
  "@webio": {
   "lastCommId": "0465b739b5da4ef99de8d858d8bc19c7",
   "lastKernelId": "f112bebb-9573-4352-b3d4-24c4704c2907"
  },
  "kernelspec": {
   "display_name": "Python 3",
   "language": "python",
   "name": "python3"
  },
  "language_info": {
   "codemirror_mode": {
    "name": "ipython",
    "version": 3
   },
   "file_extension": ".py",
   "mimetype": "text/x-python",
   "name": "python",
   "nbconvert_exporter": "python",
   "pygments_lexer": "ipython3",
   "version": "3.6.6"
  },
  "toc": {
   "base_numbering": 1,
   "nav_menu": {},
   "number_sections": true,
   "sideBar": true,
   "skip_h1_title": false,
   "title_cell": "Table of Contents",
   "title_sidebar": "Contents",
   "toc_cell": false,
   "toc_position": {},
   "toc_section_display": true,
   "toc_window_display": false
  }
 },
 "nbformat": 4,
 "nbformat_minor": 2
}
