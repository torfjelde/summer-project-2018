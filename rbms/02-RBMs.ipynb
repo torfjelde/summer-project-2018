{
 "cells": [
  {
   "cell_type": "code",
   "execution_count": 1,
   "metadata": {
    "autoscroll": false,
    "ein.hycell": false,
    "ein.tags": "worksheet-0",
    "slideshow": {
     "slide_type": "-"
    }
   },
   "outputs": [],
   "source": [
    "import numpy as np\n",
    "import scipy.stats as stats\n",
    "\n",
    "import matplotlib.pyplot as plt\n",
    "%matplotlib inline\n",
    "\n",
    "# import seaborn as sns; sns.set()"
   ]
  },
  {
   "cell_type": "code",
   "execution_count": 2,
   "metadata": {
    "autoscroll": false,
    "ein.hycell": false,
    "ein.tags": "worksheet-0",
    "slideshow": {
     "slide_type": "-"
    }
   },
   "outputs": [],
   "source": [
    "import logging\n",
    "\n",
    "LOG_LEVEL = \"INFO\"\n",
    "LOG_FORMAT = '%(asctime)-15s %(levelname)-9s %(name)s: %(message)s'\n",
    "logging.basicConfig(format=LOG_FORMAT, level=getattr(logging, LOG_LEVEL))\n",
    "\n",
    "log = logging.getLogger(\"rbm\")"
   ]
  },
  {
   "cell_type": "markdown",
   "metadata": {
    "ein.tags": "worksheet-0",
    "slideshow": {
     "slide_type": "-"
    }
   },
   "source": [
    "# Restricted Boltzmann Machines (RBMs)"
   ]
  },
  {
   "cell_type": "code",
   "execution_count": 624,
   "metadata": {},
   "outputs": [],
   "source": [
    "v_0 = X_train[0]\n",
    "h_0 = rbm.sample_hidden(v_0)"
   ]
  },
  {
   "cell_type": "code",
   "execution_count": 625,
   "metadata": {},
   "outputs": [],
   "source": [
    "v_1 = v_0 + 1"
   ]
  },
  {
   "cell_type": "code",
   "execution_count": 626,
   "metadata": {},
   "outputs": [],
   "source": [
    "v = np.repeat(v_0.reshape(1, -1), 3, axis=0)\n",
    "h = np.repeat(h_0.reshape(1, -1), 3, axis=0)\n",
    "\n",
    "v[0] = v[0] + 1\n",
    "v[1] = v[1] + 2"
   ]
  },
  {
   "cell_type": "code",
   "execution_count": 627,
   "metadata": {
    "scrolled": true
   },
   "outputs": [
    {
     "data": {
      "text/plain": [
       "((3, 784), (3, 500))"
      ]
     },
     "execution_count": 627,
     "metadata": {},
     "output_type": "execute_result"
    }
   ],
   "source": [
    "v.shape, h.shape"
   ]
  },
  {
   "cell_type": "code",
   "execution_count": 628,
   "metadata": {
    "scrolled": true
   },
   "outputs": [
    {
     "data": {
      "text/plain": [
       "array([ 62.28217548, 110.68217548,  13.88217548])"
      ]
     },
     "execution_count": 628,
     "metadata": {},
     "output_type": "execute_result"
    }
   ],
   "source": [
    "np.matmul(v, rbm.c) + np.matmul(h, rbm.b)"
   ]
  },
  {
   "cell_type": "code",
   "execution_count": 629,
   "metadata": {
    "scrolled": true
   },
   "outputs": [
    {
     "data": {
      "text/plain": [
       "(3, 784)"
      ]
     },
     "execution_count": 629,
     "metadata": {},
     "output_type": "execute_result"
    }
   ],
   "source": [
    "np.matmul(h, rbm.W.T).shape"
   ]
  },
  {
   "cell_type": "code",
   "execution_count": 630,
   "metadata": {},
   "outputs": [
    {
     "data": {
      "text/plain": [
       "(784,)"
      ]
     },
     "execution_count": 630,
     "metadata": {},
     "output_type": "execute_result"
    }
   ],
   "source": [
    "x = np.matmul(h, rbm.W.T)\n",
    "x[0, :].shape"
   ]
  },
  {
   "cell_type": "code",
   "execution_count": 631,
   "metadata": {
    "scrolled": true
   },
   "outputs": [
    {
     "data": {
      "text/plain": [
       "array([[15618.49276408, 27754.98398882,  3482.00153934],\n",
       "       [15618.49276408, 27754.98398882,  3482.00153934],\n",
       "       [15618.49276408, 27754.98398882,  3482.00153934]])"
      ]
     },
     "execution_count": 631,
     "metadata": {},
     "output_type": "execute_result"
    }
   ],
   "source": [
    "np.matmul(h, np.matmul(v, rbm.W).T)"
   ]
  },
  {
   "cell_type": "code",
   "execution_count": 632,
   "metadata": {
    "scrolled": true
   },
   "outputs": [
    {
     "data": {
      "text/plain": [
       "array([15618.49276408, 27754.98398882,  3482.00153934])"
      ]
     },
     "execution_count": 632,
     "metadata": {},
     "output_type": "execute_result"
    }
   ],
   "source": [
    "np.diag(np.matmul(np.matmul(h, rbm.W.T), v.T))"
   ]
  },
  {
   "cell_type": "code",
   "execution_count": 633,
   "metadata": {},
   "outputs": [
    {
     "data": {
      "text/plain": [
       "13.88217548324821"
      ]
     },
     "execution_count": 633,
     "metadata": {},
     "output_type": "execute_result"
    }
   ],
   "source": [
    "(np.dot(rbm.c, v_0) + np.dot(rbm.b, h_0))"
   ]
  },
  {
   "cell_type": "code",
   "execution_count": 634,
   "metadata": {},
   "outputs": [
    {
     "data": {
      "text/plain": [
       "3482.0015393377134"
      ]
     },
     "execution_count": 634,
     "metadata": {},
     "output_type": "execute_result"
    }
   ],
   "source": [
    "np.dot(v_0, np.dot(rbm.W, h_0))"
   ]
  },
  {
   "cell_type": "code",
   "execution_count": 635,
   "metadata": {
    "scrolled": true
   },
   "outputs": [
    {
     "data": {
      "text/plain": [
       "62.282175483248146"
      ]
     },
     "execution_count": 635,
     "metadata": {},
     "output_type": "execute_result"
    }
   ],
   "source": [
    "(np.dot(rbm.c, v_1) + np.dot(rbm.b, h_0))"
   ]
  },
  {
   "cell_type": "code",
   "execution_count": 636,
   "metadata": {
    "scrolled": true
   },
   "outputs": [
    {
     "data": {
      "text/plain": [
       "15618.492764077437"
      ]
     },
     "execution_count": 636,
     "metadata": {},
     "output_type": "execute_result"
    }
   ],
   "source": [
    "np.dot(v_1, np.dot(rbm.W, h_0))"
   ]
  },
  {
   "cell_type": "code",
   "execution_count": 637,
   "metadata": {},
   "outputs": [
    {
     "data": {
      "text/plain": [
       "array([15680.77493956, 27865.6661643 ,  3495.88371482])"
      ]
     },
     "execution_count": 637,
     "metadata": {},
     "output_type": "execute_result"
    }
   ],
   "source": [
    "(np.matmul(v, rbm.c) +\n",
    " np.matmul(h, rbm.b) +\n",
    " np.diag(np.matmul(np.matmul(h, rbm.W.T), v.T)))"
   ]
  },
  {
   "cell_type": "code",
   "execution_count": 638,
   "metadata": {},
   "outputs": [],
   "source": [
    "rbm2 = BernoulliRBM(784, 500)"
   ]
  },
  {
   "cell_type": "code",
   "execution_count": 639,
   "metadata": {},
   "outputs": [
    {
     "data": {
      "text/plain": [
       "((500,), array([[-0.07390445,  0.1851988 ,  0.21088851, ..., -0.52837337,\n",
       "         -0.31224092, -0.25181992],\n",
       "        [-0.12336721,  0.4392113 ,  0.45968023, ..., -1.01763103,\n",
       "         -0.57146313, -0.38603714],\n",
       "        [-0.02444169, -0.0688137 , -0.03790321, ..., -0.0391157 ,\n",
       "         -0.05301871, -0.11760271]]))"
      ]
     },
     "execution_count": 639,
     "metadata": {},
     "output_type": "execute_result"
    }
   ],
   "source": [
    "rbm.b.shape, np.matmul(v, rbm2.W)"
   ]
  },
  {
   "cell_type": "code",
   "execution_count": 640,
   "metadata": {},
   "outputs": [
    {
     "data": {
      "text/plain": [
       "True"
      ]
     },
     "execution_count": 640,
     "metadata": {},
     "output_type": "execute_result"
    }
   ],
   "source": [
    "rbm2.proba_hidden(v).shape == h.shape"
   ]
  },
  {
   "cell_type": "code",
   "execution_count": 641,
   "metadata": {
    "scrolled": true
   },
   "outputs": [
    {
     "data": {
      "text/plain": [
       "True"
      ]
     },
     "execution_count": 641,
     "metadata": {},
     "output_type": "execute_result"
    }
   ],
   "source": [
    "rbm2.proba_visible(h).shape == v.shape"
   ]
  },
  {
   "cell_type": "code",
   "execution_count": 642,
   "metadata": {},
   "outputs": [
    {
     "data": {
      "text/plain": [
       "True"
      ]
     },
     "execution_count": 642,
     "metadata": {},
     "output_type": "execute_result"
    }
   ],
   "source": [
    "rbm2.sample_hidden(v).shape == h.shape"
   ]
  },
  {
   "cell_type": "code",
   "execution_count": 643,
   "metadata": {},
   "outputs": [
    {
     "data": {
      "text/plain": [
       "True"
      ]
     },
     "execution_count": 643,
     "metadata": {},
     "output_type": "execute_result"
    }
   ],
   "source": [
    "rbm2.sample_visible(h).shape == v.shape"
   ]
  },
  {
   "cell_type": "code",
   "execution_count": 644,
   "metadata": {},
   "outputs": [],
   "source": [
    "v__0, v_k = rbm2.contrastive_divergence(v, k=4)\n",
    "dc, db, dw = rbm2.grad(v__0, v_k)"
   ]
  },
  {
   "cell_type": "code",
   "execution_count": 645,
   "metadata": {
    "scrolled": true
   },
   "outputs": [
    {
     "data": {
      "text/plain": [
       "((3, 784), (3, 500), (3, 784, 500))"
      ]
     },
     "execution_count": 645,
     "metadata": {},
     "output_type": "execute_result"
    }
   ],
   "source": [
    "dc.shape, db.shape, dw.shape"
   ]
  },
  {
   "cell_type": "code",
   "execution_count": 646,
   "metadata": {},
   "outputs": [],
   "source": [
    "rbm2.step(v)"
   ]
  },
  {
   "cell_type": "code",
   "execution_count": 647,
   "metadata": {},
   "outputs": [
    {
     "data": {
      "text/plain": [
       "(5, 784)"
      ]
     },
     "execution_count": 647,
     "metadata": {},
     "output_type": "execute_result"
    }
   ],
   "source": [
    "X_train[:5].shape"
   ]
  },
  {
   "cell_type": "code",
   "execution_count": 648,
   "metadata": {
    "scrolled": false
   },
   "outputs": [
    {
     "data": {
      "text/plain": [
       "[-3497.8698855415087,\n",
       " -3554.8279414622416,\n",
       " -1972.6676152783457,\n",
       " -4895.682283326255,\n",
       " -4157.402378020097]"
      ]
     },
     "execution_count": 648,
     "metadata": {},
     "output_type": "execute_result"
    }
   ],
   "source": [
    "[rbm.free_energy(x) for x in X_train[:5]]"
   ]
  },
  {
   "cell_type": "code",
   "execution_count": 649,
   "metadata": {},
   "outputs": [
    {
     "data": {
      "text/plain": [
       "array([-3581.58333453, -3481.22774408, -1850.58206704, -4521.88954068,\n",
       "       -4045.65008955])"
      ]
     },
     "execution_count": 649,
     "metadata": {},
     "output_type": "execute_result"
    }
   ],
   "source": [
    "rbm2.free_energy(X_train[:5])"
   ]
  },
  {
   "cell_type": "code",
   "execution_count": 650,
   "metadata": {},
   "outputs": [],
   "source": [
    "rbm.c = rbm2.c\n",
    "rbm.b = rbm2.b\n",
    "rbm.W = rbm2.W"
   ]
  },
  {
   "cell_type": "code",
   "execution_count": 651,
   "metadata": {
    "scrolled": true
   },
   "outputs": [],
   "source": [
    "for i in range(len(X_train[:5])):\n",
    "    a = [rbm.proba_hidden(x) for x in X_train[:5]][i]\n",
    "    b = rbm2.proba_hidden(X_train[:5])[i]\n",
    "    eps = 0.000001\n",
    "\n",
    "    assert np.all((b + eps > a) & (b - eps < a))"
   ]
  },
  {
   "cell_type": "code",
   "execution_count": 652,
   "metadata": {},
   "outputs": [],
   "source": [
    "# gradients\n",
    "v = X_train[:5]\n",
    "v_k = rbm2.sample_visible(rbm2.sample_hidden(X_train[:5]))\n",
    "\n",
    "a = rbm2.grad(v, v_k)\n",
    "b = [rbm.grad(v[i], v_k[i]) for i in range(len(v))]"
   ]
  },
  {
   "cell_type": "code",
   "execution_count": 653,
   "metadata": {},
   "outputs": [],
   "source": [
    "b = [np.array(x) for x in list(zip(*b))]"
   ]
  },
  {
   "cell_type": "code",
   "execution_count": 654,
   "metadata": {},
   "outputs": [],
   "source": [
    "eps = 0.00001"
   ]
  },
  {
   "cell_type": "code",
   "execution_count": 655,
   "metadata": {},
   "outputs": [
    {
     "data": {
      "text/plain": [
       "[True, True, True]"
      ]
     },
     "execution_count": 655,
     "metadata": {},
     "output_type": "execute_result"
    }
   ],
   "source": [
    "[np.all(np.all((b[i] + eps > a[i]) & (b[i] - eps < a[i]))) for i in range(len(a))]"
   ]
  },
  {
   "cell_type": "code",
   "execution_count": 656,
   "metadata": {
    "scrolled": false
   },
   "outputs": [
    {
     "data": {
      "text/plain": [
       "array([-3581.58333453, -3481.22774408, -1850.58206704, -4521.88954068,\n",
       "       -4045.65008955])"
      ]
     },
     "execution_count": 656,
     "metadata": {},
     "output_type": "execute_result"
    }
   ],
   "source": [
    "rbm2.free_energy(X_train[:5])"
   ]
  },
  {
   "cell_type": "code",
   "execution_count": 657,
   "metadata": {
    "scrolled": true
   },
   "outputs": [
    {
     "data": {
      "text/plain": [
       "array([-3581.58333453, -3481.22774408, -1850.58206704, -4521.88954068,\n",
       "       -4045.65008955])"
      ]
     },
     "execution_count": 657,
     "metadata": {},
     "output_type": "execute_result"
    }
   ],
   "source": [
    "np.array([rbm.free_energy(x) for x in X_train[:5]])"
   ]
  },
  {
   "cell_type": "code",
   "execution_count": 658,
   "metadata": {},
   "outputs": [
    {
     "data": {
      "text/plain": [
       "array([-3581.58333453, -3481.22774408, -1850.58206704, -4521.88954068,\n",
       "       -4045.65008955])"
      ]
     },
     "execution_count": 658,
     "metadata": {},
     "output_type": "execute_result"
    }
   ],
   "source": [
    "visible = np.matmul(v, rbm2.c)\n",
    "hidden = rbm2.b + np.matmul(v, rbm2.W)\n",
    "- (visible + np.sum(np.log(1 + np.exp(hidden)), axis=1))"
   ]
  },
  {
   "cell_type": "code",
   "execution_count": 691,
   "metadata": {},
   "outputs": [],
   "source": [
    "    class BatchBernoulliRBM(object):\n",
    "        \"\"\"\n",
    "        RBM with Bernoulli variables for hidden and visible states.\n",
    "        \"\"\"\n",
    "        def __init__(self, num_visible, num_hidden):\n",
    "            super(BatchBernoulliRBM, self).__init__()\n",
    "            self.num_visible = num_visible\n",
    "            self.num_hidden = num_hidden\n",
    "\n",
    "            self.c, self.b, self.W = self.initialize(self.num_visible, self.num_hidden)\n",
    "\n",
    "        @staticmethod\n",
    "        def initialize(num_visible, num_hidden):\n",
    "            # biases for visible and hidden, respectively\n",
    "            c = np.zeros(num_visible)\n",
    "            b = np.zeros(num_hidden)\n",
    "\n",
    "            # weight matrix\n",
    "            W = np.random.normal(0.0, 0.01, (num_visible, num_hidden))\n",
    "\n",
    "            return c, b, W\n",
    "\n",
    "        def energy(self, v, h):\n",
    "            return - (np.matmul(v, self.c) +\n",
    "                      np.matmul(h, self.b) +\n",
    "                      np.matmul(h, np.matmul(v, rbm.W).T))\n",
    "\n",
    "        def proba_visible(self, h):\n",
    "            \"Computes p(v | h).\"\n",
    "            return sigmoid(self.c + np.matmul(h, self.W.T))\n",
    "\n",
    "        def proba_hidden(self, v):\n",
    "            \"Computes p(h | h).\"\n",
    "            return sigmoid(self.b + np.matmul(v, self.W))\n",
    "\n",
    "        def sample_visible(self, h):\n",
    "            \"Samples visible units from the given hidden units `h`.\"\n",
    "            # compute p(V_j = 1 | h)\n",
    "            probas = self.proba_visible(h)\n",
    "            # equiv. of V_j ~ p(V_j | h)\n",
    "            rands = np.random.random(size=probas.shape)\n",
    "            v = (probas > rands).astype(int)\n",
    "            return v\n",
    "\n",
    "        def sample_hidden(self, v):\n",
    "            \"Samples hidden units from the given visible units `v`.\"\n",
    "            # compute p(H_{\\mu} = 1 | v)\n",
    "            probas = self.proba_hidden(v)\n",
    "            # euqiv. of H_{\\mu} ~ p(H_{\\mu} | h)\n",
    "            rands = np.random.random(size=probas.shape)\n",
    "            h = (probas > rands).astype(np.int)\n",
    "            return h\n",
    "\n",
    "        def free_energy(self, v):\n",
    "            # unnormalized\n",
    "            # F(v) = - log \\tilde{p}(v) = - \\log \\sum_{h} \\exp ( - E(v, h))\n",
    "            # using Eq. 2.20 (Fischer, 2015) for \\tilde{p}(v)\n",
    "            if len(v.shape) < 2:\n",
    "                v = v.reshape(1, -1)\n",
    "            visible = np.matmul(v, self.c)\n",
    "            hidden = self.b + np.matmul(v, self.W)\n",
    "            return - (visible + np.sum(np.log(1 + np.exp(hidden)), axis=1))\n",
    "\n",
    "        def contrastive_divergence(self, v_0, k=1):\n",
    "            v = v_0\n",
    "            for t in range(k):\n",
    "                h = self.sample_hidden(v)\n",
    "                v = self.sample_visible(h)\n",
    "\n",
    "            return v_0, v\n",
    "\n",
    "        def grad(self, v_0, v_k):\n",
    "            \"Estimates the gradient of the negative log-likelihood using CD-k.\"\n",
    "            proba_h_0 = self.proba_hidden(v_0)\n",
    "            proba_h_k = self.proba_hidden(v_k)\n",
    "\n",
    "            delta_c = v_0 - v_k\n",
    "            delta_b = proba_h_0 - proba_h_k\n",
    "\n",
    "            x = proba_h_0.reshape(proba_h_0.shape[0], 1, proba_h_0.shape[1])\n",
    "            y = v_0.reshape(v_0.shape[0], v_0.shape[1], 1)\n",
    "            z_0 = np.matmul(y, x)\n",
    "\n",
    "            x = proba_h_k.reshape(proba_h_k.shape[0], 1, proba_h_k.shape[1])\n",
    "            y = v_k.reshape(v_k.shape[0], v_k.shape[1], 1)\n",
    "            z_k = np.matmul(y, x)\n",
    "            delta_W = z_0 - z_k\n",
    "\n",
    "            return delta_c, delta_b, delta_W\n",
    "\n",
    "        def step(self, vs, k=1, lr=0.1, lmda=0.0):\n",
    "            \"Performs a single gradient ascent step using CD-k on the batch `vs`.\"\n",
    "            v_0, v_k = self.contrastive_divergence(v, k=k)\n",
    "\n",
    "            # compute gradient for each observed visible configuration\n",
    "            dc, db, dW = self.grad(v_0, v_k)\n",
    "\n",
    "            # accumulate gradients\n",
    "            delta_c = np.mean(dc, axis=0)\n",
    "            delta_b = np.mean(db, axis=0)\n",
    "            delta_W = np.mean(dW, axis=0)\n",
    "\n",
    "            # update parameters\n",
    "            self.c += lr * delta_c\n",
    "            self.b += lr * delta_b\n",
    "            self.W += lr * delta_W\n",
    "\n",
    "            # possible apply weight-decay\n",
    "            if lmda > 0.0:\n",
    "                self.c -= lmda * self.c\n",
    "                self.b -= lmda * self.b\n",
    "                self.W -= lmda * self.W\n",
    "\n",
    "        def fit(self, train_data, k=1, learning_rate=0.01, num_epochs=5, batch_size=64, test_data=None):\n",
    "            num_samples = train_data.shape[0]\n",
    "            indices = np.arange(num_samples)\n",
    "            np.random.shuffle(indices)\n",
    "\n",
    "            loglikelihood_train = []\n",
    "            loglikelihood = []\n",
    "\n",
    "            for epoch in range(1, num_epochs + 1):\n",
    "                # compute train & test negative log-likelihood\n",
    "                nll_train = np.mean(rbm.free_energy(train_data))\n",
    "                # nll_train = np.mean(np.array([rbm.free_energy(v) for v in train_data]))\n",
    "                loglikelihood_train.append(nll_train)\n",
    "                log.info(f\"[{epoch} / {NUM_EPOCHS}] NLL (train): {nll_train:>20.5f}\")\n",
    "\n",
    "                if test_data is not None:\n",
    "                    nll = np.mean(np.array([rbm.free_energy(v) for v in test_data]))\n",
    "                    log.info(f\"[{epoch} / {NUM_EPOCHS}] NLL (test):  {nll:>20.5f}\")\n",
    "                    loglikelihood.append(nll)\n",
    "\n",
    "                # iterate through dataset in batches\n",
    "                bar = tqdm(total=num_samples)\n",
    "                for start in range(0, num_samples, batch_size):\n",
    "                    # ensure we don't go out-of-bounds\n",
    "                    end = min(start + batch_size, num_samples)\n",
    "\n",
    "                    # take a gradient-step\n",
    "                    rbm.step(train_data[start: end], k=k, lr=learning_rate)\n",
    "\n",
    "                    # update progress\n",
    "                    bar.update(end - start)\n",
    "\n",
    "                bar.close()\n",
    "\n",
    "                # shuffle indices for next epoch\n",
    "                np.random.shuffle(indices)\n",
    "\n",
    "            # compute train & test negative log-likelihood of final batch\n",
    "            nll_train = np.mean([rbm.free_energy(v) for v in train_data])\n",
    "            loglikelihood_train.append(nll_train)\n",
    "            log.info(f\"[{epoch} / {NUM_EPOCHS}] NLL (train): {nll_train:>20.5f}\")\n",
    "\n",
    "            if test_data is not None:\n",
    "                nll = np.mean([rbm.free_energy(v) for v in test_data])\n",
    "                log.info(f\"[{epoch} / {NUM_EPOCHS}] NLL (test):  {nll:>20.5f}\")\n",
    "                loglikelihood.append(nll)\n",
    "\n",
    "            return loglikelihood_train, loglikelihood\n",
    "\n",
    "        def loss(self, samples_true, per_sample_hidden=100):\n",
    "            \"\"\"\n",
    "            Computes the difference in empirical distributions observed in `samples_true` and samples\n",
    "            of visible units obtained from the model, using the same initial state.\n",
    "\n",
    "            Parameters\n",
    "            ----------\n",
    "            samples_true: array-like\n",
    "                True samples of visible units to compare to.\n",
    "            per_sample_hidden: int\n",
    "                Number of `h` to \"partially marginalize\" over when computing p(v) = p(v | h) p(h).\n",
    "\n",
    "            Returns\n",
    "            -------\n",
    "            loss: float\n",
    "                Difference between the two distributions.\n",
    "\n",
    "            Notes\n",
    "            -----\n",
    "            Can be very inaccurate estimate of how well the model is performing since one is NOT completely\n",
    "            marginalizing out all hidden variables.\n",
    "\n",
    "            \"\"\"\n",
    "            k = per_sample_hidden\n",
    "            # the loss is the log energy-difference between the p(v) and p(v_k), where `v_k` is the Gibbs sampled visible unit\n",
    "            return np.mean([\n",
    "                self.free_energy(v) - self.free_energy(self.contrastive_divergence(v, k)[1])\n",
    "                for v in samples_true\n",
    "            ])\n",
    "\n",
    "        def reconstruct(self, v, num_samples=100):\n",
    "            samples = self.sample_visible(self.sample_hidden(v))\n",
    "            for _ in range(num_samples - 1):\n",
    "                samples += self.sample_visible(self.sample_hidden(v))\n",
    "\n",
    "            probs = samples / num_samples \n",
    "\n",
    "            return probs\n"
   ]
  },
  {
   "cell_type": "code",
   "execution_count": 692,
   "metadata": {
    "autoscroll": false,
    "ein.hycell": false,
    "ein.tags": "worksheet-0",
    "slideshow": {
     "slide_type": "-"
    }
   },
   "outputs": [],
   "source": [
    "def sigmoid(z):\n",
    "    # clip the values due to possibility of overflow\n",
    "    return 1.0 / (1.0 + np.exp(-np.maximum(np.minimum(z, 30), -30)))\n",
    "\n",
    "\n",
    "### Restricted Boltzmann Machine ###\n",
    "class BernoulliRBM(object):\n",
    "    \"\"\"\n",
    "    RBM with Bernoulli variables for hidden and visible states.\n",
    "    \"\"\"\n",
    "    def __init__(self, num_visible, num_hidden):\n",
    "        super(BernoulliRBM, self).__init__()\n",
    "        self.num_visible = num_visible\n",
    "        self.num_hidden = num_hidden\n",
    "\n",
    "        self.c, self.b, self.W = self.initialize(self.num_visible, self.num_hidden)\n",
    "      \n",
    "    @staticmethod\n",
    "    def initialize(num_visible, num_hidden):\n",
    "        # biases for visible and hidden, respectively\n",
    "        c = np.zeros(num_visible)\n",
    "        b = np.zeros(num_hidden)\n",
    "\n",
    "        # weight matrix\n",
    "        # Results on MNIST are highly dependent on this initialization\n",
    "        W = np.random.normal(0.0, 0.01, (num_visible, num_hidden))\n",
    "        \n",
    "        return c, b, W\n",
    "\n",
    "    def energy(self, v, h):\n",
    "        return - (np.dot(self.c, v) + np.dot(self.b, h) + np.dot(v, np.dot(self.W, h)))\n",
    "\n",
    "    def proba_visible(self, h):\n",
    "        \"Computes p(v | h).\"\n",
    "        return sigmoid(self.c + np.dot(self.W, h))\n",
    "\n",
    "    def proba_hidden(self, v):\n",
    "        \"Computes p(h | h).\"\n",
    "        return sigmoid(self.b + np.dot(self.W.T, v))\n",
    "\n",
    "    def sample_visible(self, h):\n",
    "        \"Samples visible units from the given hidden units `h`.\"\n",
    "        # compute p(V_j = 1 | h)\n",
    "        probas = self.proba_visible(h)\n",
    "        # equiv. of V_j ~ p(V_j | h)\n",
    "        rands = np.random.random(size=probas.shape)\n",
    "        v = (probas > rands).astype(int)\n",
    "        return v\n",
    "\n",
    "    def sample_hidden(self, v):\n",
    "        \"Samples hidden units from the given visible units `v`.\"\n",
    "        # compute p(H_{\\mu} = 1 | v)\n",
    "        probas = self.proba_hidden(v)\n",
    "        # euqiv. of H_{\\mu} ~ p(H_{\\mu} | h)\n",
    "        rands = np.random.random(size=probas.shape)\n",
    "        h = (probas > rands).astype(np.int)\n",
    "        return h\n",
    "\n",
    "    def free_energy(self, v):\n",
    "        # unnormalized\n",
    "        # F(v) = - log \\tilde{p}(v) = - \\log \\sum_{h} \\exp ( - E(v, h))\n",
    "        # using Eq. 2.20 (Fischer, 2015) for \\tilde{p}(v)\n",
    "        visible = np.dot(self.c, v)\n",
    "        hidden = self.b + np.dot(self.W.T, v)\n",
    "        return - (visible + np.sum(np.log(1 + np.exp(hidden))))\n",
    "    \n",
    "    def contrastive_divergence(self, v_0, k=1):\n",
    "        h = self.sample_hidden(v_0)\n",
    "        v = self.sample_visible(h)\n",
    "        \n",
    "        if k > 1:\n",
    "            for t in range(k):\n",
    "                h = self.sample_hidden(v)\n",
    "                v = self.sample_visible(h)\n",
    "                \n",
    "        return v_0, v\n",
    "\n",
    "    def grad(self, v_0, v_k):\n",
    "        \"Estimates the gradient of the negative log-likelihood using CD-k.\"\n",
    "        proba_h_0 = self.proba_hidden(v_0)\n",
    "        proba_h_k = self.proba_hidden(v_k)\n",
    "        \n",
    "        delta_c = v_0 - v_k\n",
    "        delta_b = proba_h_0 - proba_h_k\n",
    "\n",
    "        # reshape so that we can compute v_j h_{\\mu} by\n",
    "        # taking the dot product to obtain `delta_W`\n",
    "        v_0 = np.reshape(v_0, (-1, 1))\n",
    "        proba_h_0 = np.reshape(proba_h_0, (1, -1))\n",
    "        \n",
    "        v_k = np.reshape(v_k, (-1, 1))\n",
    "        proba_h_k = np.reshape(proba_h_k, (1, -1))\n",
    "        \n",
    "        delta_W = np.dot(v_0, proba_h_0) - np.dot(v_k, proba_h_k)\n",
    "        \n",
    "        return delta_c, delta_b, delta_W\n",
    "    \n",
    "    def step(self, vs, k=1, lr=0.1, lmda=0.0):\n",
    "        \"Performs a single gradient ascent step using CD-k on the batch `vs`.\"\n",
    "        # TODO: can we perform this over the batch using matrix multiplication instead?\n",
    "        v_0, v_k = self.contrastive_divergence(vs[0], k=k)\n",
    "        delta_c, delta_b, delta_W = self.grad(v_0, v_k)\n",
    "        for v in vs[1:]:\n",
    "            # perform CD-k\n",
    "            v_0, v_k = self.contrastive_divergence(v, k=k)\n",
    "            # compute gradient for each observed visible configuration\n",
    "            dc, db, dW = self.grad(v_0, v_k)\n",
    "            # accumulate gradients\n",
    "            delta_c += dc\n",
    "            delta_b += db\n",
    "            delta_W += dW\n",
    "\n",
    "        # update parameters\n",
    "        self.c += lr * (delta_c / len(vs))\n",
    "        self.b += lr * (delta_b / len(vs))\n",
    "        self.W += lr * (delta_W / len(vs))\n",
    "\n",
    "        # possible apply weight-decay\n",
    "        if lmda > 0.0:\n",
    "            self.c -= lmda * self.c\n",
    "            self.b -= lmda * self.b\n",
    "            self.W -= lmda * self.W\n",
    "        \n",
    "    def loss(self, samples_true, per_sample_hidden=100):\n",
    "        \"\"\"\n",
    "        Computes the difference in free energy, i.e.\n",
    "        \n",
    "            log p(v_k) - log p(v_0)\n",
    "            \n",
    "        where `v_0` is sample from data, and `v_k` is the sample from the chain initialized at v_0.\n",
    "\n",
    "        Parameters\n",
    "        ----------\n",
    "        samples_true: array-like\n",
    "            True samples of visible units to compare to.\n",
    "        per_sample_hidden: int\n",
    "            Number of `h` to \"partially marginalize\" over when computing p(v) = p(v | h) p(h).\n",
    "\n",
    "        Returns\n",
    "        -------\n",
    "        loss: float\n",
    "            Difference between the two distributions.\n",
    "            \n",
    "        Notes\n",
    "        -----\n",
    "        Could also consider the reconstruction error, i.e. how much the mean-squared error between the\n",
    "        observed v_0 and the generated v_k\n",
    "\n",
    "        \"\"\"\n",
    "        # the loss is the log energy-difference between the p(v) and p(v_k), where `v_k` is the Gibbs sampled visible unit\n",
    "        return np.mean([\n",
    "            self.free_energy(v) - self.free_energy(self.contrastive_divergence(v, per_sample_hidden)[1])\n",
    "            for v in samples_true\n",
    "        ])\n",
    "\n",
    "    def reconstruct(self, v, num_samples=100):\n",
    "        samples = self.sample_visible(self.sample_hidden(v))\n",
    "        for _ in range(num_samples - 1):\n",
    "            samples += self.sample_visible(self.sample_hidden(v))\n",
    "\n",
    "        probs = samples / num_samples \n",
    "\n",
    "        return probs\n"
   ]
  },
  {
   "cell_type": "markdown",
   "metadata": {
    "ein.tags": "worksheet-0",
    "slideshow": {
     "slide_type": "-"
    }
   },
   "source": [
    "### Quickly making sure everything works"
   ]
  },
  {
   "cell_type": "code",
   "execution_count": 693,
   "metadata": {
    "autoscroll": false,
    "ein.hycell": false,
    "ein.tags": "worksheet-0",
    "slideshow": {
     "slide_type": "-"
    }
   },
   "outputs": [
    {
     "data": {
      "text/plain": [
       "0.075761461352016"
      ]
     },
     "execution_count": 693,
     "metadata": {},
     "output_type": "execute_result"
    }
   ],
   "source": [
    "# testah\n",
    "num_visible = 100\n",
    "num_hidden = 50\n",
    "rbm = BernoulliRBM(num_visible, num_hidden)\n",
    "# v = np.random.randint(2, size=num_visible)\n",
    "v = np.random.randint(2, size=num_visible)\n",
    "h = np.random.randint(2, size=num_hidden)\n",
    "rbm.energy(v, h)"
   ]
  },
  {
   "cell_type": "code",
   "execution_count": 694,
   "metadata": {
    "autoscroll": false,
    "ein.hycell": false,
    "ein.tags": "worksheet-0",
    "slideshow": {
     "slide_type": "-"
    }
   },
   "outputs": [
    {
     "data": {
      "text/plain": [
       "(100, 50)"
      ]
     },
     "execution_count": 694,
     "metadata": {},
     "output_type": "execute_result"
    }
   ],
   "source": [
    "rbm.W.shape"
   ]
  },
  {
   "cell_type": "code",
   "execution_count": 695,
   "metadata": {
    "autoscroll": false,
    "ein.hycell": false,
    "ein.tags": "worksheet-0",
    "slideshow": {
     "slide_type": "-"
    }
   },
   "outputs": [
    {
     "data": {
      "text/plain": [
       "(50,)"
      ]
     },
     "execution_count": 695,
     "metadata": {},
     "output_type": "execute_result"
    }
   ],
   "source": [
    "rbm.b.shape"
   ]
  },
  {
   "cell_type": "code",
   "execution_count": 696,
   "metadata": {
    "autoscroll": false,
    "ein.hycell": false,
    "ein.tags": "worksheet-0",
    "slideshow": {
     "slide_type": "-"
    }
   },
   "outputs": [
    {
     "name": "stdout",
     "output_type": "stream",
     "text": [
      "[1 0 0 0 1 0 0 1 0 1 0 1 0 0 1 0 0 0 1 0 0 1 1 0 0 1 1 1 0 0 0 1 1 0 0 1 1\n",
      " 1 1 0 1 1 0 1 1 1 1 0 0 0 0 0 1 1 0 1 1 1 0 0 0 1 1 0 0 0 0 1 0 1 0 1 0 0\n",
      " 0 0 0 0 1 0 1 1 1 1 1 1 0 0 1 0 1 1 1 1 0 0 0 1 1 0]\n"
     ]
    }
   ],
   "source": [
    "h = rbm.sample_hidden(v)\n",
    "v = rbm.sample_visible(h)\n",
    "print(v)"
   ]
  },
  {
   "cell_type": "code",
   "execution_count": 697,
   "metadata": {
    "autoscroll": false,
    "ein.hycell": false,
    "ein.tags": "worksheet-0",
    "scrolled": true,
    "slideshow": {
     "slide_type": "-"
    }
   },
   "outputs": [
    {
     "data": {
      "text/plain": [
       "(array([1, 0, 0, 0, 1, 0, 0, 1, 0, 1, 0, 1, 0, 0, 1, 0, 0, 0, 1, 0, 0, 1,\n",
       "        1, 0, 0, 1, 1, 1, 0, 0, 0, 1, 1, 0, 0, 1, 1, 1, 1, 0, 1, 1, 0, 1,\n",
       "        1, 1, 1, 0, 0, 0, 0, 0, 1, 1, 0, 1, 1, 1, 0, 0, 0, 1, 1, 0, 0, 0,\n",
       "        0, 1, 0, 1, 0, 1, 0, 0, 0, 0, 0, 0, 1, 0, 1, 1, 1, 1, 1, 1, 0, 0,\n",
       "        1, 0, 1, 1, 1, 1, 0, 0, 0, 1, 1, 0]),\n",
       " array([0, 1, 0, 0, 0, 0, 1, 1, 0, 0, 1, 1, 0, 0, 0, 0, 0, 1, 1, 0, 1, 1,\n",
       "        0, 1, 0, 0, 0, 0, 0, 0, 1, 1, 1, 1, 1, 0, 0, 1, 0, 0, 0, 1, 0, 0,\n",
       "        0, 0, 0, 0, 0, 0, 1, 1, 1, 0, 0, 1, 0, 0, 1, 0, 0, 1, 1, 1, 0, 1,\n",
       "        1, 1, 1, 1, 1, 0, 1, 1, 0, 0, 0, 1, 1, 1, 1, 1, 1, 0, 0, 1, 1, 1,\n",
       "        0, 0, 0, 1, 1, 0, 1, 0, 0, 1, 0, 0]))"
      ]
     },
     "execution_count": 697,
     "metadata": {},
     "output_type": "execute_result"
    }
   ],
   "source": [
    "v_0, v_k = rbm.contrastive_divergence(v, k=10)\n",
    "v_0, v_k"
   ]
  },
  {
   "cell_type": "code",
   "execution_count": 698,
   "metadata": {
    "autoscroll": false,
    "ein.hycell": false,
    "ein.tags": "worksheet-0",
    "slideshow": {
     "slide_type": "-"
    }
   },
   "outputs": [],
   "source": [
    "dc, db, dW = rbm.grad(v_0, v_k)"
   ]
  },
  {
   "cell_type": "code",
   "execution_count": 699,
   "metadata": {
    "autoscroll": false,
    "ein.hycell": false,
    "ein.tags": "worksheet-0",
    "slideshow": {
     "slide_type": "-"
    }
   },
   "outputs": [
    {
     "data": {
      "text/plain": [
       "((100,), (50,), (100, 50))"
      ]
     },
     "execution_count": 699,
     "metadata": {},
     "output_type": "execute_result"
    }
   ],
   "source": [
    "dc.shape, db.shape, dW.shape"
   ]
  },
  {
   "cell_type": "code",
   "execution_count": 700,
   "metadata": {
    "autoscroll": false,
    "ein.hycell": false,
    "ein.tags": "worksheet-0",
    "slideshow": {
     "slide_type": "-"
    }
   },
   "outputs": [
    {
     "data": {
      "text/plain": [
       "(0.03176074688354214, 0.0, 0.0)"
      ]
     },
     "execution_count": 700,
     "metadata": {},
     "output_type": "execute_result"
    }
   ],
   "source": [
    "rbm.W.max(), rbm.c.max(), rbm.b.max()"
   ]
  },
  {
   "cell_type": "markdown",
   "metadata": {
    "ein.tags": "worksheet-0",
    "slideshow": {
     "slide_type": "-"
    }
   },
   "source": [
    "# MNIST"
   ]
  },
  {
   "cell_type": "markdown",
   "metadata": {
    "ein.tags": "worksheet-0",
    "slideshow": {
     "slide_type": "-"
    }
   },
   "source": [
    "## Load data"
   ]
  },
  {
   "cell_type": "code",
   "execution_count": 701,
   "metadata": {
    "autoscroll": false,
    "ein.hycell": false,
    "ein.tags": "worksheet-0",
    "slideshow": {
     "slide_type": "-"
    }
   },
   "outputs": [
    {
     "name": "stderr",
     "output_type": "stream",
     "text": [
      "2018-06-29 22:57:45,767 INFO      rbm: Found existing file at ./mnist-original.mat; loading...\n"
     ]
    }
   ],
   "source": [
    "import os\n",
    "from six.moves import urllib\n",
    "from sklearn.datasets import fetch_mldata\n",
    "\n",
    "# Alternative method to load MNIST, since mldata.org is often down...\n",
    "from scipy.io import loadmat\n",
    "mnist_alternative_url = \"https://github.com/amplab/datascience-sp14/raw/master/lab7/mldata/mnist-original.mat\"\n",
    "mnist_path = \"./mnist-original.mat\"\n",
    "\n",
    "if os.path.exists(mnist_path):\n",
    "    log.info(f\"Found existing file at {mnist_path}; loading...\")\n",
    "    mnist_raw = loadmat(mnist_path)\n",
    "    mnist = {\n",
    "        \"data\": mnist_raw[\"data\"].T,\n",
    "        \"target\": mnist_raw[\"label\"][0],\n",
    "        \"COL_NAMES\": [\"label\", \"data\"],\n",
    "        \"DESCR\": \"mldata.org dataset: mnist-original\",\n",
    "    }\n",
    "else:\n",
    "    log.info(f\"Dataset not found at {mnist_path}; downloading...\")\n",
    "    response = urllib.request.urlopen(mnist_alternative_url)\n",
    "    with open(mnist_path, \"wb\") as f:\n",
    "        content = response.read()\n",
    "        f.write(content)\n",
    "    mnist_raw = loadmat(mnist_path)\n",
    "    mnist = {\n",
    "        \"data\": mnist_raw[\"data\"].T,\n",
    "        \"target\": mnist_raw[\"label\"][0],\n",
    "        \"COL_NAMES\": [\"label\", \"data\"],\n",
    "        \"DESCR\": \"mldata.org dataset: mnist-original\",\n",
    "    }\n",
    "    log.info(\"Success!\")"
   ]
  },
  {
   "cell_type": "markdown",
   "metadata": {
    "ein.tags": "worksheet-0",
    "slideshow": {
     "slide_type": "-"
    }
   },
   "source": [
    "## Split into training and test"
   ]
  },
  {
   "cell_type": "code",
   "execution_count": 711,
   "metadata": {
    "autoscroll": false,
    "ein.hycell": false,
    "ein.tags": "worksheet-0",
    "slideshow": {
     "slide_type": "-"
    }
   },
   "outputs": [],
   "source": [
    "# train-test split\n",
    "from sklearn.model_selection import train_test_split\n",
    "\n",
    "# in case we want to use `cupy` to run on the GPU\n",
    "X = np.asarray(mnist[\"data\"])\n",
    "y = np.asarray(mnist[\"target\"])\n",
    "\n",
    "X_train, X_test, y_train, y_test = train_test_split(X, y)\n",
    "\n",
    "# clip values since we're working with binary variables and original images have domain [0, 255]\n",
    "X_train = X_train.clip(0, 1)\n",
    "X_test = X_test.clip(0, 1)"
   ]
  },
  {
   "cell_type": "markdown",
   "metadata": {
    "ein.tags": "worksheet-0",
    "slideshow": {
     "slide_type": "-"
    }
   },
   "source": [
    "## Train"
   ]
  },
  {
   "cell_type": "code",
   "execution_count": 712,
   "metadata": {
    "autoscroll": false,
    "ein.hycell": false,
    "ein.tags": "worksheet-0",
    "slideshow": {
     "slide_type": "-"
    }
   },
   "outputs": [],
   "source": [
    "from tqdm import tqdm"
   ]
  },
  {
   "cell_type": "code",
   "execution_count": 719,
   "metadata": {
    "autoscroll": false,
    "ein.hycell": false,
    "ein.tags": "worksheet-0",
    "slideshow": {
     "slide_type": "-"
    }
   },
   "outputs": [],
   "source": [
    "# model parameters\n",
    "USE_GPU = False\n",
    "\n",
    "if USE_GPU:\n",
    "    import cupy as np\n",
    "else:\n",
    "    import numpy as np\n",
    "\n",
    "NUM_HIDDEN = 500\n",
    "\n",
    "# model\n",
    "rbm = BernoulliRBM(X_train.shape[1], NUM_HIDDEN)"
   ]
  },
  {
   "cell_type": "code",
   "execution_count": 720,
   "metadata": {},
   "outputs": [
    {
     "data": {
      "text/plain": [
       "((784, 500), (784,), (500,))"
      ]
     },
     "execution_count": 720,
     "metadata": {},
     "output_type": "execute_result"
    }
   ],
   "source": [
    "rbm.W.shape, rbm.c.shape, rbm.b.shape"
   ]
  },
  {
   "cell_type": "code",
   "execution_count": 721,
   "metadata": {
    "autoscroll": false,
    "ein.hycell": false,
    "ein.tags": "worksheet-0",
    "slideshow": {
     "slide_type": "-"
    }
   },
   "outputs": [
    {
     "name": "stderr",
     "output_type": "stream",
     "text": [
      "2018-06-29 23:01:23,969 INFO      rbm: Starting training\n",
      "2018-06-29 23:01:32,174 INFO      rbm: [1 / 100] NLL (train):           -347.31363\n",
      "2018-06-29 23:01:34,857 INFO      rbm: [1 / 100] NLL (test):            -347.32702\n",
      "\n",
      "  0%|          | 0/52500 [00:00<?, ?it/s]\u001b[A\n",
      "  8%|▊         | 4416/52500 [00:15<02:56, 272.94it/s]"
     ]
    },
    {
     "ename": "KeyboardInterrupt",
     "evalue": "",
     "output_type": "error",
     "traceback": [
      "\u001b[0;31m---------------------------------------------------------------------------\u001b[0m",
      "\u001b[0;31mKeyboardInterrupt\u001b[0m                         Traceback (most recent call last)",
      "\u001b[0;32m<ipython-input-721-0851d8e02dcd>\u001b[0m in \u001b[0;36m<module>\u001b[0;34m()\u001b[0m\n\u001b[1;32m     31\u001b[0m \u001b[0;34m\u001b[0m\u001b[0m\n\u001b[1;32m     32\u001b[0m         \u001b[0;31m# take a gradient-step\u001b[0m\u001b[0;34m\u001b[0m\u001b[0;34m\u001b[0m\u001b[0m\n\u001b[0;32m---> 33\u001b[0;31m         \u001b[0mrbm\u001b[0m\u001b[0;34m.\u001b[0m\u001b[0mstep\u001b[0m\u001b[0;34m(\u001b[0m\u001b[0mX_train\u001b[0m\u001b[0;34m[\u001b[0m\u001b[0mstart\u001b[0m\u001b[0;34m:\u001b[0m \u001b[0mend\u001b[0m\u001b[0;34m]\u001b[0m\u001b[0;34m,\u001b[0m \u001b[0mk\u001b[0m\u001b[0;34m=\u001b[0m\u001b[0mK\u001b[0m\u001b[0;34m,\u001b[0m \u001b[0mlr\u001b[0m\u001b[0;34m=\u001b[0m\u001b[0mLEARNING_RATE\u001b[0m\u001b[0;34m)\u001b[0m\u001b[0;34m\u001b[0m\u001b[0m\n\u001b[0m\u001b[1;32m     34\u001b[0m \u001b[0;34m\u001b[0m\u001b[0m\n\u001b[1;32m     35\u001b[0m         \u001b[0;31m# update progress\u001b[0m\u001b[0;34m\u001b[0m\u001b[0;34m\u001b[0m\u001b[0m\n",
      "\u001b[0;32m<ipython-input-692-53fa23f36527>\u001b[0m in \u001b[0;36mstep\u001b[0;34m(self, vs, k, lr, lmda)\u001b[0m\n\u001b[1;32m    105\u001b[0m             \u001b[0mv_0\u001b[0m\u001b[0;34m,\u001b[0m \u001b[0mv_k\u001b[0m \u001b[0;34m=\u001b[0m \u001b[0mself\u001b[0m\u001b[0;34m.\u001b[0m\u001b[0mcontrastive_divergence\u001b[0m\u001b[0;34m(\u001b[0m\u001b[0mv\u001b[0m\u001b[0;34m,\u001b[0m \u001b[0mk\u001b[0m\u001b[0;34m=\u001b[0m\u001b[0mk\u001b[0m\u001b[0;34m)\u001b[0m\u001b[0;34m\u001b[0m\u001b[0m\n\u001b[1;32m    106\u001b[0m             \u001b[0;31m# compute gradient for each observed visible configuration\u001b[0m\u001b[0;34m\u001b[0m\u001b[0;34m\u001b[0m\u001b[0m\n\u001b[0;32m--> 107\u001b[0;31m             \u001b[0mdc\u001b[0m\u001b[0;34m,\u001b[0m \u001b[0mdb\u001b[0m\u001b[0;34m,\u001b[0m \u001b[0mdW\u001b[0m \u001b[0;34m=\u001b[0m \u001b[0mself\u001b[0m\u001b[0;34m.\u001b[0m\u001b[0mgrad\u001b[0m\u001b[0;34m(\u001b[0m\u001b[0mv_0\u001b[0m\u001b[0;34m,\u001b[0m \u001b[0mv_k\u001b[0m\u001b[0;34m)\u001b[0m\u001b[0;34m\u001b[0m\u001b[0m\n\u001b[0m\u001b[1;32m    108\u001b[0m             \u001b[0;31m# accumulate gradients\u001b[0m\u001b[0;34m\u001b[0m\u001b[0;34m\u001b[0m\u001b[0m\n\u001b[1;32m    109\u001b[0m             \u001b[0mdelta_c\u001b[0m \u001b[0;34m+=\u001b[0m \u001b[0mdc\u001b[0m\u001b[0;34m\u001b[0m\u001b[0m\n",
      "\u001b[0;32m<ipython-input-692-53fa23f36527>\u001b[0m in \u001b[0;36mgrad\u001b[0;34m(self, v_0, v_k)\u001b[0m\n\u001b[1;32m     79\u001b[0m         \u001b[0;34m\"Estimates the gradient of the negative log-likelihood using CD-k.\"\u001b[0m\u001b[0;34m\u001b[0m\u001b[0m\n\u001b[1;32m     80\u001b[0m         \u001b[0mproba_h_0\u001b[0m \u001b[0;34m=\u001b[0m \u001b[0mself\u001b[0m\u001b[0;34m.\u001b[0m\u001b[0mproba_hidden\u001b[0m\u001b[0;34m(\u001b[0m\u001b[0mv_0\u001b[0m\u001b[0;34m)\u001b[0m\u001b[0;34m\u001b[0m\u001b[0m\n\u001b[0;32m---> 81\u001b[0;31m         \u001b[0mproba_h_k\u001b[0m \u001b[0;34m=\u001b[0m \u001b[0mself\u001b[0m\u001b[0;34m.\u001b[0m\u001b[0mproba_hidden\u001b[0m\u001b[0;34m(\u001b[0m\u001b[0mv_k\u001b[0m\u001b[0;34m)\u001b[0m\u001b[0;34m\u001b[0m\u001b[0m\n\u001b[0m\u001b[1;32m     82\u001b[0m \u001b[0;34m\u001b[0m\u001b[0m\n\u001b[1;32m     83\u001b[0m         \u001b[0mdelta_c\u001b[0m \u001b[0;34m=\u001b[0m \u001b[0mv_0\u001b[0m \u001b[0;34m-\u001b[0m \u001b[0mv_k\u001b[0m\u001b[0;34m\u001b[0m\u001b[0m\n",
      "\u001b[0;32m<ipython-input-692-53fa23f36527>\u001b[0m in \u001b[0;36mproba_hidden\u001b[0;34m(self, v)\u001b[0m\n\u001b[1;32m     37\u001b[0m     \u001b[0;32mdef\u001b[0m \u001b[0mproba_hidden\u001b[0m\u001b[0;34m(\u001b[0m\u001b[0mself\u001b[0m\u001b[0;34m,\u001b[0m \u001b[0mv\u001b[0m\u001b[0;34m)\u001b[0m\u001b[0;34m:\u001b[0m\u001b[0;34m\u001b[0m\u001b[0m\n\u001b[1;32m     38\u001b[0m         \u001b[0;34m\"Computes p(h | h).\"\u001b[0m\u001b[0;34m\u001b[0m\u001b[0m\n\u001b[0;32m---> 39\u001b[0;31m         \u001b[0;32mreturn\u001b[0m \u001b[0msigmoid\u001b[0m\u001b[0;34m(\u001b[0m\u001b[0mself\u001b[0m\u001b[0;34m.\u001b[0m\u001b[0mb\u001b[0m \u001b[0;34m+\u001b[0m \u001b[0mnp\u001b[0m\u001b[0;34m.\u001b[0m\u001b[0mdot\u001b[0m\u001b[0;34m(\u001b[0m\u001b[0mself\u001b[0m\u001b[0;34m.\u001b[0m\u001b[0mW\u001b[0m\u001b[0;34m.\u001b[0m\u001b[0mT\u001b[0m\u001b[0;34m,\u001b[0m \u001b[0mv\u001b[0m\u001b[0;34m)\u001b[0m\u001b[0;34m)\u001b[0m\u001b[0;34m\u001b[0m\u001b[0m\n\u001b[0m\u001b[1;32m     40\u001b[0m \u001b[0;34m\u001b[0m\u001b[0m\n\u001b[1;32m     41\u001b[0m     \u001b[0;32mdef\u001b[0m \u001b[0msample_visible\u001b[0m\u001b[0;34m(\u001b[0m\u001b[0mself\u001b[0m\u001b[0;34m,\u001b[0m \u001b[0mh\u001b[0m\u001b[0;34m)\u001b[0m\u001b[0;34m:\u001b[0m\u001b[0;34m\u001b[0m\u001b[0m\n",
      "\u001b[0;31mKeyboardInterrupt\u001b[0m: "
     ]
    }
   ],
   "source": [
    "# training parameters\n",
    "NUM_EPOCHS = 100\n",
    "BATCH_SIZE = 64\n",
    "LEARNING_RATE = 0.1\n",
    "K = 1\n",
    "\n",
    "# train\n",
    "log.info(f\"Starting training\")\n",
    "num_samples = X_train.shape[0]\n",
    "indices = np.arange(num_samples)\n",
    "np.random.shuffle(indices)\n",
    "\n",
    "loglikelihood = []\n",
    "loglikelihood_train = []\n",
    "\n",
    "for epoch in range(1, NUM_EPOCHS + 1):\n",
    "    # compute train & test negative log-likelihood\n",
    "    nll_train = np.mean([rbm.free_energy(v) for v in X_train])\n",
    "    loglikelihood_train.append(nll_train)\n",
    "    log.info(f\"[{epoch} / {NUM_EPOCHS}] NLL (train): {nll_train:>20.5f}\")\n",
    "    \n",
    "    nll = np.mean([rbm.free_energy(v) for v in X_test])\n",
    "    log.info(f\"[{epoch} / {NUM_EPOCHS}] NLL (test):  {nll:>20.5f}\")\n",
    "    loglikelihood.append(nll)\n",
    "\n",
    "    # iterate through dataset in batches\n",
    "    bar = tqdm(total=num_samples)\n",
    "    for start in range(0, num_samples, BATCH_SIZE):\n",
    "        # ensure we don't go out-of-bounds\n",
    "        end = min(start + BATCH_SIZE, num_samples)\n",
    "        \n",
    "        # take a gradient-step\n",
    "        rbm.step(X_train[start: end], k=K, lr=LEARNING_RATE)\n",
    "        \n",
    "        # update progress\n",
    "        bar.update(end - start)\n",
    "        \n",
    "    bar.close()\n",
    "\n",
    "    # shuffle indices for next epoch\n",
    "    np.random.shuffle(indices)"
   ]
  },
  {
   "cell_type": "code",
   "execution_count": 143,
   "metadata": {
    "autoscroll": false,
    "ein.hycell": false,
    "ein.tags": "worksheet-0",
    "scrolled": false,
    "slideshow": {
     "slide_type": "-"
    }
   },
   "outputs": [
    {
     "data": {
      "text/plain": [
       "[<matplotlib.lines.Line2D at 0x7f68aa0862e8>]"
      ]
     },
     "execution_count": 143,
     "metadata": {},
     "output_type": "execute_result"
    },
    {
     "data": {
      "image/png": "[encoded data removed]",
      "text/plain": [
       "<Figure size 432x288 with 1 Axes>"
      ]
     },
     "metadata": {},
     "output_type": "display_data"
    }
   ],
   "source": [
    "plt.plot(- np.array(loglikelihood))"
   ]
  },
  {
   "cell_type": "markdown",
   "metadata": {
    "ein.tags": "worksheet-0",
    "slideshow": {
     "slide_type": "-"
    }
   },
   "source": [
    "## Display reconstructions of test-samples"
   ]
  },
  {
   "cell_type": "code",
   "execution_count": 144,
   "metadata": {},
   "outputs": [],
   "source": [
    "def flip(x, p):\n",
    "    x = x.copy()\n",
    "    mask = np.random.random(size=x.shape) < p\n",
    "    flipped = (~(x.astype(np.bool))).astype(np.int)\n",
    "    x[mask] = flipped[mask]\n",
    "    return x"
   ]
  },
  {
   "cell_type": "code",
   "execution_count": 145,
   "metadata": {
    "autoscroll": false,
    "ein.hycell": false,
    "ein.tags": "worksheet-0",
    "slideshow": {
     "slide_type": "-"
    }
   },
   "outputs": [
    {
     "name": "stderr",
     "output_type": "stream",
     "text": [
      "2018-06-29 21:29:14,316 INFO      rbm: Reconstruction error of (0, 0): 0.08011479591836734 (noise: 0.1)\n",
      "2018-06-29 21:29:14,883 INFO      rbm: Reconstruction error of (0, 2): 0.09171683673469389 (noise: 0.1)\n",
      "2018-06-29 21:29:15,248 INFO      rbm: Reconstruction error of (0, 4): 0.08248086734693877 (noise: 0.1)\n",
      "2018-06-29 21:29:15,625 INFO      rbm: Reconstruction error of (0, 6): 0.08184311224489794 (noise: 0.1)\n",
      "2018-06-29 21:29:15,994 INFO      rbm: Reconstruction error of (1, 0): 0.04879591836734694 (noise: 0.1)\n",
      "2018-06-29 21:29:16,312 INFO      rbm: Reconstruction error of (1, 2): 0.07076785714285715 (noise: 0.1)\n",
      "2018-06-29 21:29:16,646 INFO      rbm: Reconstruction error of (1, 4): 0.07475510204081633 (noise: 0.1)\n",
      "2018-06-29 21:29:17,235 INFO      rbm: Reconstruction error of (1, 6): 0.08326020408163265 (noise: 0.1)\n",
      "2018-06-29 21:29:17,581 INFO      rbm: Reconstruction error of (2, 0): 0.09208673469387754 (noise: 0.1)\n",
      "2018-06-29 21:29:18,103 INFO      rbm: Reconstruction error of (2, 2): 0.09006632653061224 (noise: 0.1)\n",
      "2018-06-29 21:29:18,469 INFO      rbm: Reconstruction error of (2, 4): 0.05876275510204082 (noise: 0.1)\n",
      "2018-06-29 21:29:18,817 INFO      rbm: Reconstruction error of (2, 6): 0.049053571428571426 (noise: 0.1)\n",
      "2018-06-29 21:29:19,175 INFO      rbm: Reconstruction error of (3, 0): 0.053012755102040815 (noise: 0.1)\n",
      "2018-06-29 21:29:19,512 INFO      rbm: Reconstruction error of (3, 2): 0.07410586734693878 (noise: 0.1)\n",
      "2018-06-29 21:29:19,877 INFO      rbm: Reconstruction error of (3, 4): 0.0635140306122449 (noise: 0.1)\n",
      "2018-06-29 21:29:20,232 INFO      rbm: Reconstruction error of (3, 6): 0.061234693877551025 (noise: 0.1)\n",
      "2018-06-29 21:29:20,558 INFO      rbm: Reconstruction error of (4, 0): 0.04970790816326531 (noise: 0.1)\n",
      "2018-06-29 21:29:20,899 INFO      rbm: Reconstruction error of (4, 2): 0.07359311224489797 (noise: 0.1)\n",
      "2018-06-29 21:29:21,248 INFO      rbm: Reconstruction error of (4, 4): 0.08056377551020409 (noise: 0.1)\n",
      "2018-06-29 21:29:21,591 INFO      rbm: Reconstruction error of (4, 6): 0.06964668367346939 (noise: 0.1)\n",
      "2018-06-29 21:29:21,942 INFO      rbm: Reconstruction error of (5, 0): 0.08329591836734694 (noise: 0.1)\n",
      "2018-06-29 21:29:22,432 INFO      rbm: Reconstruction error of (5, 2): 0.10943750000000001 (noise: 0.1)\n",
      "2018-06-29 21:29:22,922 INFO      rbm: Reconstruction error of (5, 4): 0.0796530612244898 (noise: 0.1)\n",
      "2018-06-29 21:29:23,287 INFO      rbm: Reconstruction error of (5, 6): 0.06155357142857142 (noise: 0.1)\n"
     ]
    },
    {
     "data": {
      "image/png": "[encoded data removed]",
      "text/plain": [
       "<Figure size 1152x864 with 48 Axes>"
      ]
     },
     "metadata": {},
     "output_type": "display_data"
    },
    {
     "name": "stderr",
     "output_type": "stream",
     "text": [
      "\r",
      " 52%|█████▏    | 27072/52500 [01:50<01:40, 253.24it/s]"
     ]
    }
   ],
   "source": [
    "# display a couple of testing examples\n",
    "import matplotlib.pyplot as plt\n",
    "\n",
    "# plot some reconstructions\n",
    "from matplotlib import gridspec\n",
    "\n",
    "n_rows = 6\n",
    "n_cols = 8\n",
    "\n",
    "fig, axes = plt.subplots(n_rows, n_cols, \n",
    "                         sharex=True, sharey=True, \n",
    "                         figsize=(16, 12),\n",
    "                         # make it tight\n",
    "                         gridspec_kw=dict(wspace=-0.1, hspace=-0.01))\n",
    "\n",
    "for i in range(n_rows):\n",
    "    for j in range(n_cols // 2):\n",
    "        v_0 = X_test[np.random.randint(X_test.shape[0])]\n",
    "        \n",
    "        # introduce noise\n",
    "        noise = 0.1\n",
    "        v = flip(v_0, noise)\n",
    "        \n",
    "        probs = rbm.reconstruct(v, num_samples=1000)\n",
    "#         num_samples = 100\n",
    "#         k = 100\n",
    "#         _, probs = rbm.contrastive_divergence(v, k=k)\n",
    "\n",
    "#         for _ in range(num_samples - 1):\n",
    "#             probs += rbm.contrastive_divergence(v, k=k)[1]\n",
    "        \n",
    "#         probs = probs / num_samples\n",
    "\n",
    "        # in case we've substituted with `cupy`\n",
    "        if np.__name__ != \"numpy\":\n",
    "            v = np.asnumpy(v)\n",
    "            probs = np.asnumpy(probs)\n",
    "            \n",
    "        log.info(f\"Reconstruction error of {(i, 2 * j)}: {np.mean(np.abs(v_0 - probs))} (noise: {noise})\")\n",
    "\n",
    "        axes[i][2 * j].imshow(np.reshape(v, (28, 28)))\n",
    "        axes[i][2 * j + 1].imshow(np.reshape(probs, (28, 28)))\n",
    "\n",
    "        # customization; remove labels\n",
    "        axes[i][2 * j].set_xticklabels([])\n",
    "        axes[i][2 * j].set_yticklabels([])\n",
    "\n",
    "        axes[i][2 * j + 1].set_xticklabels([])\n",
    "        axes[i][2 * j + 1].set_yticklabels([])"
   ]
  },
  {
   "cell_type": "markdown",
   "metadata": {
    "ein.tags": "worksheet-0",
    "slideshow": {
     "slide_type": "-"
    }
   },
   "source": [
    "# Ising Model"
   ]
  },
  {
   "cell_type": "code",
   "execution_count": 89,
   "metadata": {
    "autoscroll": false,
    "ein.hycell": false,
    "ein.tags": "worksheet-0",
    "slideshow": {
     "slide_type": "-"
    }
   },
   "outputs": [],
   "source": [
    "def create_updown_couplings(N, coupling_values=[0, 1]):\n",
    "    \"Returns an of dim N x N x N x N, representing 2D neighbor-couplings for each entry.\"\n",
    "    J = np.zeros((N, N, N, N))\n",
    "    \n",
    "    for i in range(N):\n",
    "        for j in range(N):\n",
    "            if i + 1 < N:\n",
    "                J[i, j, i + 1, j] = np.random.choice(coupling_values)\n",
    "            if i - 1 > 0:\n",
    "                J[i, j, i - 1, j] = np.random.choice(coupling_values)\n",
    "            if j + 1 < N:\n",
    "                J[i, j, i, j + 1] = np.random.choice(coupling_values)\n",
    "            if j - 1 > 0:\n",
    "                J[i, j, i, j - 1] = np.random.choice(coupling_values)\n",
    "    return J"
   ]
  },
  {
   "cell_type": "code",
   "execution_count": 90,
   "metadata": {
    "autoscroll": false,
    "ein.hycell": false,
    "ein.tags": "worksheet-0",
    "slideshow": {
     "slide_type": "-"
    }
   },
   "outputs": [],
   "source": [
    "import itertools as it"
   ]
  },
  {
   "cell_type": "code",
   "execution_count": 91,
   "metadata": {
    "autoscroll": false,
    "ein.hycell": false,
    "ein.tags": "worksheet-0",
    "scrolled": true,
    "slideshow": {
     "slide_type": "-"
    }
   },
   "outputs": [],
   "source": [
    "import numpy as np\n",
    "\n",
    "\n",
    "class Ising(object):\n",
    "    \"\"\"\n",
    "    Ising model.\n",
    "    \"\"\"\n",
    "#     boltzmann_constant = 1.38064852e-23\n",
    "    \n",
    "    def __init__(self, T, N, field=None, couplings=None, domain=[0, 1]):\n",
    "        super(Ising, self).__init__()\n",
    "        self.domain = domain\n",
    "        self.N = N\n",
    "#         self.beta = 1.0 / (self.boltzmann_constant * T)\n",
    "        self.beta = 1.0 / T\n",
    "        self.T = T\n",
    "        \n",
    "        self.h = field if field is not None else np.random.randn(N, N)\n",
    "        self.J = couplings if couplings is not None else create_updown_couplings(N, self.domain)\n",
    "\n",
    "    def energy(self, x):\n",
    "        # (J[s] * x) gives us J_{s, i} * x_i for all i, and then we multiply by \n",
    "        couplings_energy = np.sum([\n",
    "            np.sum(self.J[i, j] * x * x[i, j])\n",
    "            for i in range(self.N)\n",
    "            for j in range(self.N)])\n",
    "        field_energy = np.sum(self.h * x)\n",
    "        return - (field_energy + 0.5 * couplings_energy)\n",
    "    \n",
    "\n",
    "    def sample(self, state, full=True):\n",
    "        \"\"\"\n",
    "        Parameters\n",
    "        ----------\n",
    "        n: int\n",
    "            Number of timesteps to sample for\n",
    "\n",
    "        \"\"\"\n",
    "        if full:\n",
    "            indices = it.product(range(N), range(N))\n",
    "        else:\n",
    "            indices = [np.random.randint(self.N, size=2)]\n",
    "        \n",
    "        for (i, j) in indices:\n",
    "            delta_E = np.sum(self.J[i, j] * state)\n",
    "    #         delta_E = 2 * (delta_E + self.h[i, j])\n",
    "            delta_E = (delta_E + self.h[i, j])\n",
    "\n",
    "            u = np.random.uniform()\n",
    "            new_state = state.copy()\n",
    "\n",
    "            if delta_E > 0:\n",
    "                if np.exp(- self.beta * delta_E) > u:\n",
    "                    # accept flip\n",
    "                    new_state[i, j] = self.domain[-1] if state[i, j] < self.domain[-1] else self.domain[0]\n",
    "            else:\n",
    "                # flip\n",
    "                new_state[i, j] = self.domain[-1] if state[i, j] < self.domain[-1] else self.domain[0]\n",
    "                \n",
    "            # update\n",
    "            state = new_state\n",
    "\n",
    "        return new_state"
   ]
  },
  {
   "cell_type": "code",
   "execution_count": 92,
   "metadata": {
    "autoscroll": false,
    "ein.hycell": false,
    "ein.tags": "worksheet-0",
    "slideshow": {
     "slide_type": "-"
    }
   },
   "outputs": [
    {
     "data": {
      "text/plain": [
       "-80.0"
      ]
     },
     "execution_count": 92,
     "metadata": {},
     "output_type": "execute_result"
    }
   ],
   "source": [
    "# testing\n",
    "N = 10\n",
    "\n",
    "domain = [0, 1]\n",
    "couplings = create_updown_couplings(N, coupling_values=domain)\n",
    "couplings[couplings != 0.0] = 1.0\n",
    "\n",
    "# state = np.random.choice(domain, size=(N, N))\n",
    "state = np.zeros((N, N)) + 1.0\n",
    "state[N // 2, N // 2] = domain[0]\n",
    "state[N // 2, N // 2 + 1] = domain[0]\n",
    "\n",
    "ising = Ising(33, N, field=np.zeros((N, N)), couplings=couplings)\n",
    "energy = ising.energy(state)\n",
    "energy"
   ]
  },
  {
   "cell_type": "code",
   "execution_count": 93,
   "metadata": {
    "autoscroll": false,
    "ein.hycell": false,
    "ein.tags": "worksheet-0",
    "scrolled": true,
    "slideshow": {
     "slide_type": "-"
    }
   },
   "outputs": [
    {
     "data": {
      "text/plain": [
       "array([[1., 1., 1., 1., 1., 1., 1., 1., 1., 1.],\n",
       "       [1., 1., 1., 1., 1., 1., 1., 1., 1., 1.],\n",
       "       [1., 1., 1., 1., 1., 1., 1., 1., 1., 1.],\n",
       "       [1., 1., 1., 1., 1., 1., 1., 1., 1., 1.],\n",
       "       [1., 1., 1., 1., 1., 1., 1., 1., 1., 1.],\n",
       "       [1., 1., 1., 1., 1., 0., 0., 1., 1., 1.],\n",
       "       [1., 1., 1., 1., 1., 1., 1., 1., 1., 1.],\n",
       "       [1., 1., 1., 1., 1., 1., 1., 1., 1., 1.],\n",
       "       [1., 1., 1., 1., 1., 1., 1., 1., 1., 1.],\n",
       "       [1., 1., 1., 1., 1., 1., 1., 1., 1., 1.]])"
      ]
     },
     "execution_count": 93,
     "metadata": {},
     "output_type": "execute_result"
    }
   ],
   "source": [
    "x = state\n",
    "x"
   ]
  },
  {
   "cell_type": "code",
   "execution_count": 117,
   "metadata": {
    "autoscroll": false,
    "ein.hycell": false,
    "ein.tags": "worksheet-0",
    "slideshow": {
     "slide_type": "-"
    }
   },
   "outputs": [],
   "source": [
    "history = []"
   ]
  },
  {
   "cell_type": "code",
   "execution_count": 118,
   "metadata": {
    "autoscroll": false,
    "ein.hycell": false,
    "ein.tags": "worksheet-0",
    "scrolled": true,
    "slideshow": {
     "slide_type": "-"
    }
   },
   "outputs": [],
   "source": [
    "# burn-in\n",
    "for _ in range(N * N):\n",
    "    x = ising.sample(x)\n",
    "    \n",
    "for _ in range(10000):\n",
    "    x = ising.sample(x)\n",
    "    history.append(x)"
   ]
  },
  {
   "cell_type": "code",
   "execution_count": 40,
   "metadata": {
    "autoscroll": false,
    "ein.hycell": false,
    "ein.tags": "worksheet-0",
    "scrolled": false,
    "slideshow": {
     "slide_type": "-"
    }
   },
   "outputs": [
    {
     "data": {
      "image/png": "[encoded data removed]",
      "text/plain": [
       "<Figure size 576x576 with 1 Axes>"
      ]
     },
     "metadata": {},
     "output_type": "display_data"
    },
    {
     "ename": "KeyboardInterrupt",
     "evalue": "",
     "output_type": "error",
     "traceback": [
      "\u001b[0;31m---------------------------------------------------------------------------\u001b[0m",
      "\u001b[0;31mKeyboardInterrupt\u001b[0m                         Traceback (most recent call last)",
      "\u001b[0;32m<ipython-input-40-7dacfa3e1715>\u001b[0m in \u001b[0;36m<module>\u001b[0;34m()\u001b[0m\n\u001b[1;32m     16\u001b[0m     \u001b[0mdisplay\u001b[0m\u001b[0;34m.\u001b[0m\u001b[0mclear_output\u001b[0m\u001b[0;34m(\u001b[0m\u001b[0mwait\u001b[0m\u001b[0;34m=\u001b[0m\u001b[0;32mTrue\u001b[0m\u001b[0;34m)\u001b[0m\u001b[0;34m\u001b[0m\u001b[0m\n\u001b[1;32m     17\u001b[0m     \u001b[0mdisplay\u001b[0m\u001b[0;34m.\u001b[0m\u001b[0mdisplay\u001b[0m\u001b[0;34m(\u001b[0m\u001b[0mplt\u001b[0m\u001b[0;34m.\u001b[0m\u001b[0mgcf\u001b[0m\u001b[0;34m(\u001b[0m\u001b[0;34m)\u001b[0m\u001b[0;34m)\u001b[0m\u001b[0;34m\u001b[0m\u001b[0m\n\u001b[0;32m---> 18\u001b[0;31m     \u001b[0mtime\u001b[0m\u001b[0;34m.\u001b[0m\u001b[0msleep\u001b[0m\u001b[0;34m(\u001b[0m\u001b[0;36m0.5\u001b[0m\u001b[0;34m)\u001b[0m\u001b[0;34m\u001b[0m\u001b[0m\n\u001b[0m",
      "\u001b[0;31mKeyboardInterrupt\u001b[0m: "
     ]
    },
    {
     "data": {
      "image/png": "[encoded data removed]",
      "text/plain": [
       "<Figure size 576x576 with 1 Axes>"
      ]
     },
     "metadata": {},
     "output_type": "display_data"
    }
   ],
   "source": [
    "import time\n",
    "from IPython import display\n",
    "\n",
    "fig = plt.figure(figsize=(8, 8))\n",
    "\n",
    "# burn-in\n",
    "for _ in range(N * N):\n",
    "    x = ising.sample(x)\n",
    "\n",
    "while True:\n",
    "    plt.imshow(x)\n",
    "    for _ in range(N):\n",
    "        x = ising.sample(x)\n",
    "        history.append(x)\n",
    "#     x = ising.sample(x)\n",
    "    display.clear_output(wait=True)\n",
    "    display.display(plt.gcf())\n",
    "    time.sleep(0.5)"
   ]
  },
  {
   "cell_type": "code",
   "execution_count": 96,
   "metadata": {
    "autoscroll": false,
    "ein.hycell": false,
    "ein.tags": "worksheet-0",
    "scrolled": true,
    "slideshow": {
     "slide_type": "-"
    }
   },
   "outputs": [
    {
     "data": {
      "text/plain": [
       "4400"
      ]
     },
     "execution_count": 96,
     "metadata": {},
     "output_type": "execute_result"
    }
   ],
   "source": [
    "len(history)"
   ]
  },
  {
   "cell_type": "markdown",
   "metadata": {
    "ein.tags": "worksheet-0",
    "slideshow": {
     "slide_type": "-"
    }
   },
   "source": [
    "## Training a RBM on an Ising Model"
   ]
  },
  {
   "cell_type": "code",
   "execution_count": 119,
   "metadata": {
    "autoscroll": false,
    "ein.hycell": false,
    "ein.tags": "worksheet-0",
    "slideshow": {
     "slide_type": "-"
    }
   },
   "outputs": [],
   "source": [
    "history = np.array([np.reshape(x, -1) for x in history])"
   ]
  },
  {
   "cell_type": "code",
   "execution_count": 120,
   "metadata": {
    "autoscroll": false,
    "ein.hycell": false,
    "ein.tags": "worksheet-0",
    "slideshow": {
     "slide_type": "-"
    }
   },
   "outputs": [],
   "source": [
    "X_train, X_test = train_test_split(history)"
   ]
  },
  {
   "cell_type": "code",
   "execution_count": 121,
   "metadata": {
    "autoscroll": false,
    "ein.hycell": false,
    "ein.tags": "worksheet-0",
    "slideshow": {
     "slide_type": "-"
    }
   },
   "outputs": [],
   "source": [
    "# parameters\n",
    "USE_GPU = False\n",
    "\n",
    "if USE_GPU:\n",
    "    import cupy as np\n",
    "else:\n",
    "    import numpy as np\n",
    "\n",
    "NUM_HIDDEN = 500"
   ]
  },
  {
   "cell_type": "code",
   "execution_count": 125,
   "metadata": {
    "autoscroll": false,
    "ein.hycell": false,
    "ein.tags": "worksheet-0",
    "slideshow": {
     "slide_type": "-"
    }
   },
   "outputs": [],
   "source": [
    "rbm = BernoulliRBM(num_visible, NUM_HIDDEN)"
   ]
  },
  {
   "cell_type": "code",
   "execution_count": 126,
   "metadata": {
    "autoscroll": false,
    "ein.hycell": false,
    "ein.tags": "worksheet-0",
    "scrolled": false,
    "slideshow": {
     "slide_type": "-"
    }
   },
   "outputs": [
    {
     "name": "stderr",
     "output_type": "stream",
     "text": [
      "2018-06-29 20:56:16,968 INFO      rbm: Starting training\n",
      "2018-06-29 20:56:17,478 INFO      rbm: [1 / 10] NLL (train):           -347.93101\n",
      "2018-06-29 20:56:17,661 INFO      rbm: [1 / 10] NLL (test):            -347.93873\n",
      "\n",
      "  0%|          | 0/7500 [00:00<?, ?it/s]\u001b[A\n",
      "100%|██████████| 7500/7500 [00:03<00:00, 1907.63it/s]\n",
      "2018-06-29 20:56:22,101 INFO      rbm: [2 / 10] NLL (train):           -227.63752\n",
      "2018-06-29 20:56:22,283 INFO      rbm: [2 / 10] NLL (test):            -227.45993\n",
      "100%|██████████| 7500/7500 [00:04<00:00, 1917.42it/s]\n",
      "2018-06-29 20:56:26,787 INFO      rbm: [3 / 10] NLL (train):           -211.73254\n",
      "2018-06-29 20:56:26,970 INFO      rbm: [3 / 10] NLL (test):            -211.73117\n",
      "100%|██████████| 7500/7500 [00:03<00:00, 1899.01it/s]\n",
      "2018-06-29 20:56:31,404 INFO      rbm: [4 / 10] NLL (train):           -208.90553\n",
      "2018-06-29 20:56:31,586 INFO      rbm: [4 / 10] NLL (test):            -208.88867\n",
      "100%|██████████| 7500/7500 [00:03<00:00, 1886.97it/s]\n",
      "2018-06-29 20:56:36,053 INFO      rbm: [5 / 10] NLL (train):           -205.28378\n",
      "2018-06-29 20:56:36,432 INFO      rbm: [5 / 10] NLL (test):            -205.26966\n",
      "100%|██████████| 7500/7500 [00:04<00:00, 1841.35it/s]\n",
      "2018-06-29 20:56:40,989 INFO      rbm: [6 / 10] NLL (train):           -208.67808\n",
      "2018-06-29 20:56:41,172 INFO      rbm: [6 / 10] NLL (test):            -208.71762\n",
      "100%|██████████| 7500/7500 [00:04<00:00, 1829.54it/s]\n",
      "2018-06-29 20:56:45,754 INFO      rbm: [7 / 10] NLL (train):           -207.51687\n",
      "2018-06-29 20:56:45,962 INFO      rbm: [7 / 10] NLL (test):            -207.42073\n",
      "100%|██████████| 7500/7500 [00:04<00:00, 1840.65it/s]\n",
      "2018-06-29 20:56:50,565 INFO      rbm: [8 / 10] NLL (train):           -209.09462\n",
      "2018-06-29 20:56:50,749 INFO      rbm: [8 / 10] NLL (test):            -208.97727\n",
      "100%|██████████| 7500/7500 [00:04<00:00, 1751.23it/s]\n",
      "2018-06-29 20:56:55,537 INFO      rbm: [9 / 10] NLL (train):           -208.51388\n",
      "2018-06-29 20:56:55,744 INFO      rbm: [9 / 10] NLL (test):            -208.25146\n",
      "100%|██████████| 7500/7500 [00:04<00:00, 1792.44it/s]\n",
      "2018-06-29 20:57:00,429 INFO      rbm: [10 / 10] NLL (train):           -207.72158\n",
      "2018-06-29 20:57:00,614 INFO      rbm: [10 / 10] NLL (test):            -207.50898\n",
      "100%|██████████| 7500/7500 [00:04<00:00, 1593.88it/s]\n"
     ]
    }
   ],
   "source": [
    "# training parameters\n",
    "NUM_EPOCHS = 10\n",
    "BATCH_SIZE = 64\n",
    "LEARNING_RATE = 0.1\n",
    "K = 1\n",
    "\n",
    "# train\n",
    "log.info(f\"Starting training\")\n",
    "num_samples = X_train.shape[0]\n",
    "indices = np.arange(num_samples)\n",
    "np.random.shuffle(indices)\n",
    "\n",
    "loglikelihood = []\n",
    "loglikelihood_train = []\n",
    "\n",
    "for epoch in range(1, NUM_EPOCHS + 1):\n",
    "    # # Might be a good idea to increase the `k` as we get nearer to the end, so that our gradient estimate\n",
    "    # # is more accurate\n",
    "    # if epoch == NUM_EPOCHS:\n",
    "    #     log.info(f\"[{epoch} / {NUM_EPOCHS}] Increasing k: {K} -> {5 * K}\")\n",
    "    #     K = 5 * K\n",
    "    # else:\n",
    "    nll_train = np.mean([rbm.free_energy(v) for v in X_train])\n",
    "    loglikelihood_train.append(nll_train)\n",
    "    log.info(f\"[{epoch} / {NUM_EPOCHS}] NLL (train): {nll_train:>20.5f}\")\n",
    "    \n",
    "    nll = np.mean([rbm.free_energy(v) for v in X_test])\n",
    "    log.info(f\"[{epoch} / {NUM_EPOCHS}] NLL (test):  {nll:>20.5f}\")\n",
    "    loglikelihood.append(nll)\n",
    "\n",
    "    bar = tqdm(total=num_samples)\n",
    "    for start in range(0, num_samples, BATCH_SIZE):\n",
    "        # ensure we don't go out-of-bounds\n",
    "        end = min(start + BATCH_SIZE, num_samples)\n",
    "        \n",
    "        # take a gradient-step\n",
    "        rbm.step(X_train[start: end], k=K, lr=LEARNING_RATE)\n",
    "        \n",
    "        # update progress\n",
    "        bar.update(end - start)\n",
    "    bar.close()\n",
    "\n",
    "    # shuffle indices for next epoch\n",
    "    np.random.shuffle(indices)"
   ]
  },
  {
   "cell_type": "code",
   "execution_count": 127,
   "metadata": {
    "autoscroll": false,
    "ein.hycell": false,
    "ein.tags": "worksheet-0",
    "slideshow": {
     "slide_type": "-"
    }
   },
   "outputs": [
    {
     "data": {
      "text/plain": [
       "(0.5898125961996173, 0.4348958333333348, 0.7090990944503044)"
      ]
     },
     "execution_count": 127,
     "metadata": {},
     "output_type": "execute_result"
    }
   ],
   "source": [
    "np.abs(rbm.b).max(), np.abs(rbm.c).max(), np.abs(rbm.W).max()"
   ]
  },
  {
   "cell_type": "markdown",
   "metadata": {
    "ein.tags": "worksheet-0",
    "slideshow": {
     "slide_type": "-"
    }
   },
   "source": [
    "### Generating from Ising"
   ]
  },
  {
   "cell_type": "code",
   "execution_count": 128,
   "metadata": {
    "autoscroll": false,
    "ein.hycell": false,
    "ein.tags": "worksheet-0",
    "scrolled": false,
    "slideshow": {
     "slide_type": "-"
    }
   },
   "outputs": [
    {
     "data": {
      "image/png": "[encoded data removed]",
      "text/plain": [
       "<Figure size 1152x1152 with 2 Axes>"
      ]
     },
     "metadata": {},
     "output_type": "display_data"
    },
    {
     "ename": "KeyboardInterrupt",
     "evalue": "",
     "output_type": "error",
     "traceback": [
      "\u001b[0;31m---------------------------------------------------------------------------\u001b[0m",
      "\u001b[0;31mKeyboardInterrupt\u001b[0m                         Traceback (most recent call last)",
      "\u001b[0;32m<ipython-input-128-db21b0787242>\u001b[0m in \u001b[0;36m<module>\u001b[0;34m()\u001b[0m\n\u001b[1;32m     21\u001b[0m     \u001b[0mdisplay\u001b[0m\u001b[0;34m.\u001b[0m\u001b[0mclear_output\u001b[0m\u001b[0;34m(\u001b[0m\u001b[0mwait\u001b[0m\u001b[0;34m=\u001b[0m\u001b[0;32mTrue\u001b[0m\u001b[0;34m)\u001b[0m\u001b[0;34m\u001b[0m\u001b[0m\n\u001b[1;32m     22\u001b[0m     \u001b[0mdisplay\u001b[0m\u001b[0;34m.\u001b[0m\u001b[0mdisplay\u001b[0m\u001b[0;34m(\u001b[0m\u001b[0mplt\u001b[0m\u001b[0;34m.\u001b[0m\u001b[0mgcf\u001b[0m\u001b[0;34m(\u001b[0m\u001b[0;34m)\u001b[0m\u001b[0;34m)\u001b[0m\u001b[0;34m\u001b[0m\u001b[0m\n\u001b[0;32m---> 23\u001b[0;31m     \u001b[0mtime\u001b[0m\u001b[0;34m.\u001b[0m\u001b[0msleep\u001b[0m\u001b[0;34m(\u001b[0m\u001b[0;36m0.5\u001b[0m\u001b[0;34m)\u001b[0m\u001b[0;34m\u001b[0m\u001b[0m\n\u001b[0m",
      "\u001b[0;31mKeyboardInterrupt\u001b[0m: "
     ]
    },
    {
     "data": {
      "image/png": "[encoded data removed]",
      "text/plain": [
       "<Figure size 1152x1152 with 2 Axes>"
      ]
     },
     "metadata": {},
     "output_type": "display_data"
    }
   ],
   "source": [
    "import time\n",
    "from IPython import display\n",
    "\n",
    "fig, axes = plt.subplots(1, 2, figsize=(16, 16))\n",
    "\n",
    "v = X_test[np.random.randint(len(X_test))]\n",
    "v_k = rbm.reconstruct(np.reshape(v, -1))\n",
    "\n",
    "while True:\n",
    "    \n",
    "    axes[0].imshow(np.reshape(v, (N, N)))\n",
    "    axes[1].imshow(np.reshape(v_k, (N, N)))\n",
    "\n",
    "    v = ising.sample(np.reshape(v, (N, N)))\n",
    "    \n",
    "    # Reconstruct from `v` if you don't want the entire chain to be sampled\n",
    "    # by the RBM, but only the next step\n",
    "#     v_k = rbm.sample_visible(rbm.sample_hidden(np.reshape(v, -1)))\n",
    "    v_k = rbm.reconstruct(np.reshape(v, -1))\n",
    "    \n",
    "    display.clear_output(wait=True)\n",
    "    display.display(plt.gcf())\n",
    "    time.sleep(0.5)"
   ]
  },
  {
   "cell_type": "code",
   "execution_count": null,
   "metadata": {},
   "outputs": [],
   "source": []
  }
 ],
 "metadata": {
  "@webio": {
   "lastCommId": "18a38c959b6d4f0d96509b09883d0232",
   "lastKernelId": "0a60ce1c-428f-4409-a2e3-870dfebef588"
  },
  "kernelspec": {
   "display_name": "Python 3",
   "language": "python",
   "name": "python3"
  },
  "language_info": {
   "codemirror_mode": {
    "name": "ipython",
    "version": 3
   },
   "file_extension": ".py",
   "mimetype": "text/x-python",
   "name": "python",
   "nbconvert_exporter": "python",
   "pygments_lexer": "ipython3",
   "version": "3.6.6"
  },
  "name": "02-RBMs.ipynb",
  "toc": {
   "base_numbering": 1,
   "nav_menu": {},
   "number_sections": true,
   "sideBar": true,
   "skip_h1_title": false,
   "title_cell": "Table of Contents",
   "title_sidebar": "Contents",
   "toc_cell": false,
   "toc_position": {},
   "toc_section_display": true,
   "toc_window_display": false
  }
 },
 "nbformat": 4,
 "nbformat_minor": 2
}
