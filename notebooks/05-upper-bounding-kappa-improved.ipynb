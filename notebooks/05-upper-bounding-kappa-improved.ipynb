{
 "cells": [
  {
   "cell_type": "markdown",
   "metadata": {},
   "source": [
    "# Methods"
   ]
  },
  {
   "cell_type": "code",
   "execution_count": 1,
   "metadata": {},
   "outputs": [],
   "source": [
    "import numpy as np\n",
    "from scipy.special import comb, factorial\n",
    "\n",
    "def eulerian_number(n, m):\n",
    "    acc = 0L\n",
    "\n",
    "    for k in range(m + 1):\n",
    "        c = comb(n + 1, k, exact=True)\n",
    "        acc += (-1) ** k * c * ((m + 1 - k) ** n)\n",
    "\n",
    "    return acc\n",
    "\n",
    "\n",
    "def sigmoid(z):\n",
    "    return 1 / (1 + np.exp(- z))\n",
    "\n",
    "\n",
    "def sigmoid_derivative(z, n=2):\n",
    "    sigma_z = sigmoid(z)\n",
    "\n",
    "    acc = np.float128(0.0)\n",
    "\n",
    "    for k in range(1, n + 1):\n",
    "        acc += ((-1) ** (k - 1)) * np.float128(eulerian_number(n, k - 1)) * (sigma_z ** k) * ((1 - sigma_z) ** (n + 1 - k))\n",
    "\n",
    "    return acc\n"
   ]
  },
  {
   "cell_type": "markdown",
   "metadata": {
    "ein.tags": "worksheet-0",
    "slideshow": {
     "slide_type": "-"
    }
   },
   "source": [
    "# Load RBM (using https://github.com/coppolachan/rbm_ising to use data from research group)"
   ]
  },
  {
   "cell_type": "code",
   "execution_count": 2,
   "metadata": {},
   "outputs": [],
   "source": [
    "import torch\n",
    "import rbm_pytorch"
   ]
  },
  {
   "cell_type": "code",
   "execution_count": 3,
   "metadata": {
    "autoscroll": false,
    "ein.hycell": false,
    "ein.tags": "worksheet-0",
    "slideshow": {
     "slide_type": "-"
    }
   },
   "outputs": [],
   "source": [
    "CHECKPOINT = \"models/L8/1.8/trained_rbm.pytorch.last\""
   ]
  },
  {
   "cell_type": "code",
   "execution_count": 4,
   "metadata": {
    "autoscroll": false,
    "ein.hycell": false,
    "ein.tags": "worksheet-0",
    "slideshow": {
     "slide_type": "-"
    }
   },
   "outputs": [
    {
     "name": "stderr",
     "output_type": "stream",
     "text": [
      "rbm_pytorch.py:106: UserWarning: nn.init.normal is now deprecated in favor of nn.init.normal_.\n",
      "  nn.init.normal(self.W,mean=0, std=0.01)\n"
     ]
    }
   ],
   "source": [
    "rbm = rbm_pytorch.RBM(64, 64)"
   ]
  },
  {
   "cell_type": "code",
   "execution_count": 5,
   "metadata": {
    "autoscroll": false,
    "ein.hycell": false,
    "ein.tags": "worksheet-0",
    "slideshow": {
     "slide_type": "-"
    }
   },
   "outputs": [],
   "source": [
    "rbm.load_state_dict(torch.load(CHECKPOINT))"
   ]
  },
  {
   "cell_type": "markdown",
   "metadata": {
    "ein.tags": "worksheet-0",
    "slideshow": {
     "slide_type": "-"
    }
   },
   "source": [
    "# Compute bounds"
   ]
  },
  {
   "cell_type": "markdown",
   "metadata": {},
   "source": [
    "We can write the (n + 1)-th cumulant as\n",
    "\n",
    "\\begin{equation*}\n",
    "\\kappa_{\\mu}^{(n + 1)} = \\sum_{k=1}^{n} \\big( -1 \\big)^{k - 1} A_{n, k-1} \\sigma (b_{\\mu})^k \\big( 1 - \\sigma(b_{\\mu}) \\big)^{n + 1 - k}\n",
    "\\end{equation*}\n",
    "\n",
    "Or equivalently, by shifting \\\\(k\\\\) by \\\\(-1\\\\),\n",
    "\n",
    "\\begin{equation*}\n",
    "\\kappa_{\\mu}^{(n + 1)} = \\sum_{k = 0}^{n - 1} \\big( -1 \\big)^k A_{n, k} \\sigma(b_{\\mu})^{k + 1} \\big( 1 - \\sigma(b_{\\mu}) \\big)^{n - k}\n",
    "\\end{equation*}\n",
    "\n",
    "Consider the case where \\\\(b_{\\mu} \\in [a, b]\\\\) for some *bounded* non-degenerate interval with \\\\(a, b \\in \\mathbb{R}\\\\), and let\n",
    "\n",
    "\\begin{equation*}\n",
    "\\alpha = \\max \\left\\{ \\max_{b_{\\mu} \\in [a, b]} \\sigma(b_{\\mu}), \\max_{b_{\\mu} \\in [a, b]} \\big( 1 - \\sigma(b_{\\mu}) \\big) \\right\\}\n",
    "\\end{equation*}\n",
    "\n",
    "we observe\n",
    "\n",
    "\\begin{equation*}\n",
    "\\begin{split}\n",
    "  \\left| \\kappa_{\\mu}^{(n + 1)} \\right| &= \\left| \\sum_{k=0}^{n - 1} \\big( - 1 \\big)^k A_{n, k} \\sigma(b_{\\mu})^{k + 1} \\big( 1 - \\sigma(b_{\\mu} \\big)^{n - k} \\right| \\\\\n",
    "  &\\le \\sum_{k=0}^{n - 1} \\left| A_{n, k} \\right| \\left| \\sigma(b_{\\mu})^{k + 1} \\big( 1 - \\sigma(b_{\\mu}) \\big)^{n - k} \\right| \\\\\n",
    "  & \\le \\sum_{k=0}^{n - 1} \\left| A_{n, k} \\right| \\alpha^{k + 1} \\alpha^{n - k} \\\\\n",
    "  &= \\alpha^{n + 1} \\sum_{k=0}^{n - 1} A_{n, k} \\\\\n",
    "  &= \\alpha^{n + 1} n!\n",
    "\\end{split}\n",
    "\\end{equation*}\n",
    "\n",
    "where we've used the fact that\n",
    "\n",
    "\\begin{equation*}\n",
    "A_{n, k} \\ge 0, \\quad \\forall n \\in \\mathbb{N} \\quad \\text{and} \\quad \\sum_{k=0}^{n - 1} A_{n, k} = n!, \\quad n \\ge 1\n",
    "\\end{equation*}\n",
    "\n",
    "Relating to the coefficient of the Taylor expansion for the energy, we instead consider \\\\(\\kappa_{\\mu}^{(n + 1)} / (n + 1)!\\\\):\n",
    "\n",
    "\\begin{equation*}\n",
    "\\frac{\\left| \\kappa_{\\mu}^{(n + 1)} \\right|}{(n + 1)!} \\le \\frac{\\alpha^{n + 1}}{n + 1}\n",
    "\\end{equation*}\n",
    "\n",
    "Or wrt. $n$:\n",
    "\n",
    "\\begin{equation*}\n",
    "\\frac{\\left| \\kappa_{\\mu}^{(n)} \\right|}{n!} \\le \\frac{\\alpha^{n}}{n}\n",
    "\\end{equation*}"
   ]
  },
  {
   "cell_type": "code",
   "execution_count": 6,
   "metadata": {
    "autoscroll": false,
    "ein.hycell": false,
    "ein.tags": "worksheet-0",
    "slideshow": {
     "slide_type": "-"
    }
   },
   "outputs": [],
   "source": [
    "z = np.float128(rbm.h_bias.detach().numpy())"
   ]
  },
  {
   "cell_type": "markdown",
   "metadata": {
    "ein.tags": "worksheet-0",
    "slideshow": {
     "slide_type": "-"
    }
   },
   "source": [
    "Compute\n",
    "\n",
    "$$\n",
    "\\frac{\\left| \\kappa^{(n)} \\right|}{n!} = \\frac{\\left| \\sigma^{(n - 1)} \\right|}{n!}\n",
    "$$\n",
    "\n",
    "and upper-bound \n",
    "\n",
    "$$\n",
    "\\frac{\\alpha^{n}}{n}\n",
    "$$"
   ]
  },
  {
   "cell_type": "markdown",
   "metadata": {},
   "source": [
    "For $n = 39$"
   ]
  },
  {
   "cell_type": "code",
   "execution_count": 7,
   "metadata": {},
   "outputs": [],
   "source": [
    "def K(c, t):\n",
    "    return np.log(1 + np.exp(c + t))"
   ]
  },
  {
   "cell_type": "code",
   "execution_count": 8,
   "metadata": {},
   "outputs": [],
   "source": [
    "def second_order_corr(b, W, j_1, j_2):\n",
    "    return np.sum(K(b, W[:, j_1] + W[:, j_2]) - K(b, W[:, j_1]) - K(b, W[:, j_2]) + K(b, 0))"
   ]
  },
  {
   "cell_type": "code",
   "execution_count": 9,
   "metadata": {},
   "outputs": [],
   "source": [
    "def sum_2nd_order_visible_interact(i, j, rbm, N, reduced_form=True):\n",
    "    W = rbm.W.detach().numpy().astype(np.float128)  # `W` is of shape `(num_hidden, num_visible)`\n",
    "    h_bias = rbm.h_bias.detach().numpy().astype(np.float128)\n",
    "    num_hidden = rbm.h_bias.detach().numpy().shape[0]\n",
    "    num_visible = rbm.v_bias.detach().numpy().shape[0]\n",
    "\n",
    "    acc = np.float128(0.0)\n",
    "\n",
    "    for n in range(2, N + 1):\n",
    "        cumulant = (sigmoid_derivative(h_bias, n - 1)\n",
    "                    / np.float128(factorial(n, exact=True)))\n",
    "        # sum over all hiddens\n",
    "        for mu in range(num_hidden):\n",
    "            if reduced_form:\n",
    "                acc += (cumulant[mu] * ((W[mu, i] + W[mu, j]) ** n\n",
    "                                       - (W[mu, i] ** n) - (W[mu, j] ** n)))\n",
    "            else:\n",
    "                # sum from 1 to n - 1\n",
    "                for m in range(1, n):\n",
    "                    acc += (cumulant[mu] * np.float128(comb(n, m, exact=True))\n",
    "                            * W[mu, i] ** (n - m) * W[mu, j] ** (m))\n",
    "\n",
    "    return acc"
   ]
  },
  {
   "cell_type": "code",
   "execution_count": 10,
   "metadata": {},
   "outputs": [],
   "source": [
    "W = rbm.W.detach().numpy().astype(np.float128)  # `W` is of shape `(num_hidden, num_visible)`\n",
    "h_bias = rbm.h_bias.detach().numpy().astype(np.float128)\n",
    "num_hidden = rbm.h_bias.detach().numpy().shape[0]\n",
    "num_visible = rbm.v_bias.detach().numpy().shape[0]"
   ]
  },
  {
   "cell_type": "code",
   "execution_count": 11,
   "metadata": {},
   "outputs": [
    {
     "data": {
      "text/plain": [
       "(64, 64)"
      ]
     },
     "execution_count": 11,
     "metadata": {},
     "output_type": "execute_result"
    }
   ],
   "source": [
    "num_hidden, num_visible"
   ]
  },
  {
   "cell_type": "code",
   "execution_count": 12,
   "metadata": {},
   "outputs": [
    {
     "data": {
      "text/plain": [
       "0.3140769760029088336"
      ]
     },
     "execution_count": 12,
     "metadata": {},
     "output_type": "execute_result"
    }
   ],
   "source": [
    "j_1 = 0\n",
    "j_2 = 50\n",
    "\n",
    "np.sum(K(h_bias, W[:, j_1] + W[:, j_2]) - K(h_bias, W[:, j_1]) - K(h_bias, W[:, j_2]) + K(h_bias, 0))"
   ]
  },
  {
   "cell_type": "code",
   "execution_count": 13,
   "metadata": {},
   "outputs": [
    {
     "data": {
      "text/plain": [
       "0.3140769760029088336"
      ]
     },
     "execution_count": 13,
     "metadata": {},
     "output_type": "execute_result"
    }
   ],
   "source": [
    "second_order_corr(h_bias, W, 0, 50)"
   ]
  },
  {
   "cell_type": "code",
   "execution_count": 14,
   "metadata": {},
   "outputs": [
    {
     "data": {
      "text/plain": [
       "array([-0.99900466, -1.01663578, -0.7283209 ,  0.80812222,  0.52210301,\n",
       "       -0.4037475 ,  0.63951564, -0.09615159, -0.60554785,  1.28079474,\n",
       "       -0.41350132,  0.66145581, -0.15431361,  0.26588839,  0.37657112,\n",
       "       -0.11457924,  0.9362455 , -0.2544412 , -0.72572851,  0.53286511,\n",
       "       -0.35425586, -0.65258449,  0.14819427,  2.22131753,  0.32971331,\n",
       "        0.15719196,  0.80350429, -0.22586316,  0.35439119,  0.98652613,\n",
       "       -9.78945732,  0.81430548,  0.47546503,  0.2652342 ,  0.68889618,\n",
       "       -0.5214923 ,  0.74836451, -0.21035796, -0.14243828,  0.34316513,\n",
       "        0.32548866, -0.01734587,  0.95211208,  0.53234398,  0.26277971,\n",
       "        0.17645143,  1.0014106 ,  0.09662115,  0.11859177,  0.01629535,\n",
       "        0.24115568, -0.17900501, -0.48497149, -0.19814315, -0.82289398,\n",
       "       -0.46516082, -0.16475298, -0.60469145, -0.67777091, -1.28062093,\n",
       "        0.31573343,  0.7608918 , -0.35882226, -0.21334687], dtype=float128)"
      ]
     },
     "execution_count": 14,
     "metadata": {},
     "output_type": "execute_result"
    }
   ],
   "source": [
    "W[:, 29]"
   ]
  },
  {
   "cell_type": "code",
   "execution_count": 15,
   "metadata": {},
   "outputs": [
    {
     "data": {
      "text/plain": [
       "array([-9.16909993e-01, -5.07525623e-01, -4.08764452e-01,  2.24681926e+00,\n",
       "       -5.35090744e-01,  6.77757740e-01, -3.80537301e-01, -1.02366698e+00,\n",
       "        3.77354890e-01,  8.30093384e-01, -6.30870521e-01,  2.57448554e-01,\n",
       "        1.65063310e+00, -1.32693291e+00, -5.06666824e-02, -1.14239407e+00,\n",
       "       -1.08651555e+00,  2.05553246e+00,  9.79986489e-01,  4.97629434e-01,\n",
       "       -4.92430717e-01,  5.79621601e+00,  5.41517913e-01,  8.78595531e-01,\n",
       "        1.05193889e+00, -9.17601660e-02,  3.64297569e-01,  9.11253989e-01,\n",
       "       -1.66300580e-01,  6.76470697e-02, -4.44246918e-01,  1.13444008e-01,\n",
       "       -6.88761592e-01, -3.53543848e-01, -1.10215878e+00,  1.10354829e+00,\n",
       "       -9.57548499e-01,  9.16358352e-01, -4.63191327e-03, -6.40625283e-02,\n",
       "       -5.62666953e-01, -1.56622493e+00,  8.93407106e-01,  1.46120512e+00,\n",
       "       -2.16699094e-01, -7.45756865e-01,  5.85669696e-01,  5.42266965e-01,\n",
       "        1.19828820e-01,  2.23119125e-01,  8.09378996e-02, -2.58464718e+00,\n",
       "       -1.45842230e+00, -3.68631095e-01, -1.74450070e-01, -1.68630958e-01,\n",
       "       -2.06711620e-01,  2.19478771e-01, -1.86880574e-01, -1.05713964e+00,\n",
       "       -7.52997041e-01,  1.25874013e-01, -3.40939790e-01, -2.42523050e+00],\n",
       "      dtype=float128)"
      ]
     },
     "execution_count": 15,
     "metadata": {},
     "output_type": "execute_result"
    }
   ],
   "source": [
    "W[:, 38]"
   ]
  },
  {
   "cell_type": "code",
   "execution_count": 16,
   "metadata": {},
   "outputs": [
    {
     "data": {
      "text/plain": [
       "array([-4.69225621e+00, -3.32173461e+00, -2.41521212e+00, -2.32164562e+00,\n",
       "       -2.31189457e+00, -2.29880238e+00, -1.93806240e+00, -1.63446027e+00,\n",
       "       -1.60372925e+00, -1.52042696e+00, -1.48047802e+00, -1.47978500e+00,\n",
       "       -1.34172034e+00, -1.27588999e+00, -1.21392742e+00, -1.20617726e+00,\n",
       "       -1.17837083e+00, -9.30729121e-01, -8.22938219e-01, -8.18077222e-01,\n",
       "       -6.26775146e-01, -6.15605220e-01, -5.33782735e-01, -5.10855228e-01,\n",
       "       -4.69221868e-01, -4.21021700e-01, -4.20190021e-01, -3.28168400e-01,\n",
       "       -2.67154574e-01, -2.53582120e-01, -2.47517675e-01, -1.98729843e-01,\n",
       "       -1.88411862e-01, -1.58433855e-01, -1.40885562e-01, -4.42134142e-02,\n",
       "       -2.89475918e-02, -1.79259181e-02, -2.62254477e-03,  9.14317667e-02,\n",
       "        1.16985321e-01,  2.04177715e-01,  2.43887424e-01,  3.06401372e-01,\n",
       "        3.14726770e-01,  3.93002691e-01,  4.08074647e-01,  5.10044634e-01,\n",
       "        6.17765605e-01,  6.87857270e-01,  7.07625017e-01,  8.01165491e-01,\n",
       "        8.12042236e-01,  1.05213596e+00,  1.09630185e+00,  1.32666696e+00,\n",
       "        1.59865744e+00,  1.71589160e+00,  2.09186125e+00,  2.39996418e+00,\n",
       "        2.50553793e+00,  2.93798706e+00,  3.75070347e+00,  6.35885954e+00],\n",
       "      dtype=float128)"
      ]
     },
     "execution_count": 16,
     "metadata": {},
     "output_type": "execute_result"
    }
   ],
   "source": [
    "np.sort((W[:, 0] + W[:, 50]))"
   ]
  },
  {
   "cell_type": "code",
   "execution_count": 17,
   "metadata": {},
   "outputs": [
    {
     "data": {
      "text/plain": [
       "(array([-1.66643047, -1.51710773, -1.35232055, -1.24718487, -1.14776671,\n",
       "        -1.07136083, -1.06051147, -0.99996996, -0.93248683, -0.83950281,\n",
       "        -0.79426211, -0.73489577, -0.73206836, -0.72137684, -0.68063283,\n",
       "        -0.67595267, -0.60741132, -0.50439143, -0.49186555, -0.47877166,\n",
       "        -0.42700377, -0.42341158, -0.41132307, -0.40034994, -0.39763206,\n",
       "        -0.38757595, -0.3627848 , -0.35450488, -0.32108402, -0.30670837,\n",
       "        -0.24646461, -0.22933844, -0.21400431, -0.18746063, -0.13515538,\n",
       "        -0.12653758, -0.1036194 , -0.10132436, -0.05416784,  0.08265611,\n",
       "         0.12554641,  0.15594086,  0.26946461,  0.2991074 ,  0.3222557 ,\n",
       "         0.38018569,  0.38058063,  0.45554122,  0.47099221,  0.51771134,\n",
       "         0.68025959,  0.6809417 ,  0.75597978,  0.76587725,  0.81345898,\n",
       "         0.86979347,  1.02227724,  1.24142027,  1.39208639,  1.45120668,\n",
       "         1.47926748,  1.57710898,  2.45481539,  3.78137517], dtype=float128),\n",
       " array([-3.62089539, -2.92410254, -2.61100197, -1.93644047, -1.93532622,\n",
       "        -1.87319386, -1.48214281, -1.06649065, -1.02063632, -0.98861247,\n",
       "        -0.9585076 , -0.81860131, -0.74115163, -0.70988929, -0.70139068,\n",
       "        -0.69640064, -0.6323719 , -0.62942606, -0.58004415, -0.5689925 ,\n",
       "        -0.55187798, -0.48080713, -0.44630247, -0.43931451, -0.42627957,\n",
       "        -0.42095467, -0.27324209, -0.224549  , -0.17021495, -0.16583021,\n",
       "        -0.13343279, -0.12812328, -0.11842674, -0.11807799, -0.08671772,\n",
       "        -0.04835476, -0.0306717 ,  0.012817  ,  0.08524669,  0.13839313,\n",
       "         0.14745076,  0.18189274,  0.1872213 ,  0.21052161,  0.21259323,\n",
       "         0.23867698,  0.30408582,  0.48737809,  0.51146513,  0.61259377,\n",
       "         0.62137675,  0.66090626,  0.67751157,  0.77633619,  0.83507842,\n",
       "         0.86423022,  0.95001435,  1.22457707,  1.30439889,  1.3684901 ,\n",
       "         1.63574445,  2.24402332,  3.15199137,  3.90404415], dtype=float128))"
      ]
     },
     "execution_count": 17,
     "metadata": {},
     "output_type": "execute_result"
    }
   ],
   "source": [
    "np.sort(W[:, 0]), np.sort(W[:, 50])"
   ]
  },
  {
   "cell_type": "code",
   "execution_count": 18,
   "metadata": {},
   "outputs": [],
   "source": [
    "import matplotlib.pyplot as plt\n",
    "%matplotlib inline"
   ]
  },
  {
   "cell_type": "code",
   "execution_count": 19,
   "metadata": {},
   "outputs": [],
   "source": [
    "import seaborn as sns; sns.set()"
   ]
  },
  {
   "cell_type": "code",
   "execution_count": 20,
   "metadata": {},
   "outputs": [],
   "source": [
    "import pandas as pd"
   ]
  },
  {
   "cell_type": "code",
   "execution_count": 23,
   "metadata": {
    "scrolled": false
   },
   "outputs": [
    {
     "name": "stdout",
     "output_type": "stream",
     "text": [
      "('Max W:', 1.0)\n",
      "('Max W:', 0.0)\n",
      "('Max W:', 19.167415313974743185)\n",
      "('Max kappa:', 0.12471006142351593091)\n",
      "('Max W:', 182.8243525617839941)\n",
      "('Max kappa:', 0.01584005257333552804)\n",
      "('Max W:', 1366.377599430598453)\n",
      "('Max kappa:', 0.0051600943016307887598)\n",
      "('Max W:', 9400.641417131829134)\n",
      "('Max kappa:', 0.0010591894399805113724)\n",
      "('Max W:', 62351.726988200109435)\n",
      "('Max kappa:', 0.00034040443923882917722)\n",
      "('Max W:', 406031.95671019240578)\n",
      "('Max kappa:', 7.4579096177610707724e-05)\n",
      "('Max W:', 2617930.384154330537)\n",
      "('Max kappa:', 2.546629892374690112e-05)\n",
      "('Max W:', 16784675.729727786756)\n",
      "('Max kappa:', 6.5394393917523789895e-06)\n",
      "('Max W:', 107261224.97725544765)\n",
      "('Max kappa:', 2.0264450882774113622e-06)\n",
      "('Max W:', 684109226.1784393792)\n",
      "('Max kappa:', 5.5199065554096320705e-07)\n",
      "('Max W:', 4358113442.3683921862)\n",
      "('Max kappa:', 1.6729672338358783501e-07)\n",
      "('Max W:', 27743593009.05256702)\n",
      "('Max kappa:', 4.8307906998648909984e-08)\n",
      "('Max W:', 176538216241.94703703)\n",
      "('Max kappa:', 1.4144942838295482953e-08)\n",
      "('Max W:', 1123051903223.0477186)\n",
      "('Max kappa:', 4.08990235578447247e-09)\n",
      "('Max W:', 7143163289584.849153)\n",
      "('Max kappa:', 1.2153213120140820842e-09)\n",
      "('Max W:', 45429527961273.230495)\n",
      "('Max kappa:', 3.6065728147283253497e-10)\n",
      "('Max W:', 288907914490803.52023)\n",
      "('Max kappa:', 1.055642117148304257e-10)\n",
      "('Max W:', 1837233853066814.456)\n",
      "('Max kappa:', 3.4346542775494471066e-11)\n",
      "('Max W:', 1.1683137513458283569e+16)\n",
      "('Max kappa:', 9.23590378739798684e-12)\n",
      "('Max W:', 7.429309145418209911e+16)\n",
      "('Max kappa:', 3.2443263131754430237e-12)\n",
      "('Max W:', 4.724258176582968327e+17)\n",
      "('Max kappa:', 8.328190436096537134e-13)\n",
      "('Max W:', 3.0041147315328778098e+18)\n",
      "('Max kappa:', 3.037373159640717285e-13)\n",
      "('Max W:', 1.9102842443459213472e+19)\n",
      "('Max kappa:', 7.8893266148131434547e-14)\n",
      "('Max W:', 1.2147267771196849059e+20)\n",
      "('Max kappa:', 2.815761014845560284e-14)\n",
      "('Max W:', 7.724292016370751043e+20)\n",
      "('Max kappa:', 7.579411699052143788e-15)\n",
      "('Max W:', 4.911774677438980887e+21)\n",
      "('Max kappa:', 2.58161586265773737e-15)\n",
      "('Max W:', 3.123330821840217772e+22)\n",
      "('Max kappa:', 6.917719675706913833e-16)\n",
      "('Max W:', 1.9860830952581807138e+23)\n",
      "('Max kappa:', 2.3371991050524428047e-16)\n",
      "('Max W:', 1.262922693461504475e+24)\n",
      "('Max kappa:', 5.981681140794808957e-17)\n"
     ]
    },
    {
     "data": {
      "image/png": "[encoded data removed]",
      "text/plain": [
       "<Figure size 1080x576 with 2 Axes>"
      ]
     },
     "metadata": {},
     "output_type": "display_data"
    }
   ],
   "source": [
    "i = 0\n",
    "j = 50\n",
    "\n",
    "n = 30\n",
    "\n",
    "d = []\n",
    "\n",
    "fig, axes = plt.subplots(2, 1, figsize=(15, 8))\n",
    "\n",
    "for k in range(n + 1):\n",
    "    t = ((W[:, i] + W[:, j]) ** k - (W[:, i] ** k)- (W[:, j] ** k))\n",
    "    axes[0].scatter([k] * num_hidden, t)\n",
    "    print(\"Max W:\", np.max(np.abs(t)))\n",
    "    \n",
    "    if k >= 2:\n",
    "        cumulants = (sigmoid_derivative(h_bias, k - 1) / np.float128(factorial(k, exact=True)))\n",
    "        axes[1].scatter([k] * num_hidden, cumulants)\n",
    "        print(\"Max kappa:\", np.max(np.abs(cumulants)))\n",
    "        \n",
    "        # add to dataframe\n",
    "        d.append({\"W\": np.max(np.abs(t)), \"kappa\": np.max(np.abs(cumulants)), \"z\": np.sum(cumulants * t)})"
   ]
  },
  {
   "cell_type": "code",
   "execution_count": 24,
   "metadata": {},
   "outputs": [
    {
     "data": {
      "text/html": [
       "<div>\n",
       "<style scoped>\n",
       "    .dataframe tbody tr th:only-of-type {\n",
       "        vertical-align: middle;\n",
       "    }\n",
       "\n",
       "    .dataframe tbody tr th {\n",
       "        vertical-align: top;\n",
       "    }\n",
       "\n",
       "    .dataframe thead th {\n",
       "        text-align: right;\n",
       "    }\n",
       "</style>\n",
       "<table border=\"1\" class=\"dataframe\">\n",
       "  <thead>\n",
       "    <tr style=\"text-align: right;\">\n",
       "      <th></th>\n",
       "      <th>W</th>\n",
       "      <th>kappa</th>\n",
       "      <th>z</th>\n",
       "    </tr>\n",
       "  </thead>\n",
       "  <tbody>\n",
       "    <tr>\n",
       "      <th>0</th>\n",
       "      <td>1.916742e+01</td>\n",
       "      <td>1.247101e-01</td>\n",
       "      <td>1.437377e+00</td>\n",
       "    </tr>\n",
       "    <tr>\n",
       "      <th>1</th>\n",
       "      <td>1.828244e+02</td>\n",
       "      <td>1.584005e-02</td>\n",
       "      <td>2.430778e+00</td>\n",
       "    </tr>\n",
       "    <tr>\n",
       "      <th>2</th>\n",
       "      <td>1.366378e+03</td>\n",
       "      <td>5.160094e-03</td>\n",
       "      <td>-2.753242e+00</td>\n",
       "    </tr>\n",
       "    <tr>\n",
       "      <th>3</th>\n",
       "      <td>9.400641e+03</td>\n",
       "      <td>1.059189e-03</td>\n",
       "      <td>-9.941742e+00</td>\n",
       "    </tr>\n",
       "    <tr>\n",
       "      <th>4</th>\n",
       "      <td>6.235173e+04</td>\n",
       "      <td>3.404044e-04</td>\n",
       "      <td>-1.686830e+00</td>\n",
       "    </tr>\n",
       "    <tr>\n",
       "      <th>5</th>\n",
       "      <td>4.060320e+05</td>\n",
       "      <td>7.457910e-05</td>\n",
       "      <td>2.707638e+01</td>\n",
       "    </tr>\n",
       "    <tr>\n",
       "      <th>6</th>\n",
       "      <td>2.617930e+06</td>\n",
       "      <td>2.546630e-05</td>\n",
       "      <td>3.090465e+01</td>\n",
       "    </tr>\n",
       "    <tr>\n",
       "      <th>7</th>\n",
       "      <td>1.678468e+07</td>\n",
       "      <td>6.539439e-06</td>\n",
       "      <td>-5.172942e+01</td>\n",
       "    </tr>\n",
       "    <tr>\n",
       "      <th>8</th>\n",
       "      <td>1.072612e+08</td>\n",
       "      <td>2.026445e-06</td>\n",
       "      <td>-1.449903e+02</td>\n",
       "    </tr>\n",
       "    <tr>\n",
       "      <th>9</th>\n",
       "      <td>6.841092e+08</td>\n",
       "      <td>5.519907e-07</td>\n",
       "      <td>1.981997e+01</td>\n",
       "    </tr>\n",
       "    <tr>\n",
       "      <th>10</th>\n",
       "      <td>4.358113e+09</td>\n",
       "      <td>1.672967e-07</td>\n",
       "      <td>4.791551e+02</td>\n",
       "    </tr>\n",
       "    <tr>\n",
       "      <th>11</th>\n",
       "      <td>2.774359e+10</td>\n",
       "      <td>4.830791e-08</td>\n",
       "      <td>4.108461e+02</td>\n",
       "    </tr>\n",
       "    <tr>\n",
       "      <th>12</th>\n",
       "      <td>1.765382e+11</td>\n",
       "      <td>1.414494e-08</td>\n",
       "      <td>-1.148652e+03</td>\n",
       "    </tr>\n",
       "    <tr>\n",
       "      <th>13</th>\n",
       "      <td>1.123052e+12</td>\n",
       "      <td>4.089902e-09</td>\n",
       "      <td>-2.499102e+03</td>\n",
       "    </tr>\n",
       "    <tr>\n",
       "      <th>14</th>\n",
       "      <td>7.143163e+12</td>\n",
       "      <td>1.215321e-09</td>\n",
       "      <td>1.296267e+03</td>\n",
       "    </tr>\n",
       "    <tr>\n",
       "      <th>15</th>\n",
       "      <td>4.542953e+13</td>\n",
       "      <td>3.606573e-10</td>\n",
       "      <td>9.660143e+03</td>\n",
       "    </tr>\n",
       "    <tr>\n",
       "      <th>16</th>\n",
       "      <td>2.889079e+14</td>\n",
       "      <td>1.055642e-10</td>\n",
       "      <td>5.415548e+03</td>\n",
       "    </tr>\n",
       "    <tr>\n",
       "      <th>17</th>\n",
       "      <td>1.837234e+15</td>\n",
       "      <td>3.434654e-11</td>\n",
       "      <td>-2.723113e+04</td>\n",
       "    </tr>\n",
       "    <tr>\n",
       "      <th>18</th>\n",
       "      <td>1.168314e+16</td>\n",
       "      <td>9.235904e-12</td>\n",
       "      <td>-4.618300e+04</td>\n",
       "    </tr>\n",
       "    <tr>\n",
       "      <th>19</th>\n",
       "      <td>7.429309e+16</td>\n",
       "      <td>3.244326e-12</td>\n",
       "      <td>4.614661e+04</td>\n",
       "    </tr>\n",
       "    <tr>\n",
       "      <th>20</th>\n",
       "      <td>4.724258e+17</td>\n",
       "      <td>8.328190e-13</td>\n",
       "      <td>2.061784e+05</td>\n",
       "    </tr>\n",
       "    <tr>\n",
       "      <th>21</th>\n",
       "      <td>3.004115e+18</td>\n",
       "      <td>3.037373e-13</td>\n",
       "      <td>5.184063e+04</td>\n",
       "    </tr>\n",
       "    <tr>\n",
       "      <th>22</th>\n",
       "      <td>1.910284e+19</td>\n",
       "      <td>7.889327e-14</td>\n",
       "      <td>-6.623404e+05</td>\n",
       "    </tr>\n",
       "    <tr>\n",
       "      <th>23</th>\n",
       "      <td>1.214727e+20</td>\n",
       "      <td>2.815761e-14</td>\n",
       "      <td>-8.620642e+05</td>\n",
       "    </tr>\n",
       "    <tr>\n",
       "      <th>24</th>\n",
       "      <td>7.724292e+20</td>\n",
       "      <td>7.579412e-15</td>\n",
       "      <td>1.426449e+06</td>\n",
       "    </tr>\n",
       "    <tr>\n",
       "      <th>25</th>\n",
       "      <td>4.911775e+21</td>\n",
       "      <td>2.581616e-15</td>\n",
       "      <td>4.494383e+06</td>\n",
       "    </tr>\n",
       "    <tr>\n",
       "      <th>26</th>\n",
       "      <td>3.123331e+22</td>\n",
       "      <td>6.917720e-16</td>\n",
       "      <td>-3.701061e+05</td>\n",
       "    </tr>\n",
       "    <tr>\n",
       "      <th>27</th>\n",
       "      <td>1.986083e+23</td>\n",
       "      <td>2.337199e-16</td>\n",
       "      <td>-1.622603e+07</td>\n",
       "    </tr>\n",
       "    <tr>\n",
       "      <th>28</th>\n",
       "      <td>1.262923e+24</td>\n",
       "      <td>5.981681e-17</td>\n",
       "      <td>-1.550309e+07</td>\n",
       "    </tr>\n",
       "  </tbody>\n",
       "</table>\n",
       "</div>"
      ],
      "text/plain": [
       "               W         kappa             z\n",
       "0   1.916742e+01  1.247101e-01  1.437377e+00\n",
       "1   1.828244e+02  1.584005e-02  2.430778e+00\n",
       "2   1.366378e+03  5.160094e-03 -2.753242e+00\n",
       "3   9.400641e+03  1.059189e-03 -9.941742e+00\n",
       "4   6.235173e+04  3.404044e-04 -1.686830e+00\n",
       "5   4.060320e+05  7.457910e-05  2.707638e+01\n",
       "6   2.617930e+06  2.546630e-05  3.090465e+01\n",
       "7   1.678468e+07  6.539439e-06 -5.172942e+01\n",
       "8   1.072612e+08  2.026445e-06 -1.449903e+02\n",
       "9   6.841092e+08  5.519907e-07  1.981997e+01\n",
       "10  4.358113e+09  1.672967e-07  4.791551e+02\n",
       "11  2.774359e+10  4.830791e-08  4.108461e+02\n",
       "12  1.765382e+11  1.414494e-08 -1.148652e+03\n",
       "13  1.123052e+12  4.089902e-09 -2.499102e+03\n",
       "14  7.143163e+12  1.215321e-09  1.296267e+03\n",
       "15  4.542953e+13  3.606573e-10  9.660143e+03\n",
       "16  2.889079e+14  1.055642e-10  5.415548e+03\n",
       "17  1.837234e+15  3.434654e-11 -2.723113e+04\n",
       "18  1.168314e+16  9.235904e-12 -4.618300e+04\n",
       "19  7.429309e+16  3.244326e-12  4.614661e+04\n",
       "20  4.724258e+17  8.328190e-13  2.061784e+05\n",
       "21  3.004115e+18  3.037373e-13  5.184063e+04\n",
       "22  1.910284e+19  7.889327e-14 -6.623404e+05\n",
       "23  1.214727e+20  2.815761e-14 -8.620642e+05\n",
       "24  7.724292e+20  7.579412e-15  1.426449e+06\n",
       "25  4.911775e+21  2.581616e-15  4.494383e+06\n",
       "26  3.123331e+22  6.917720e-16 -3.701061e+05\n",
       "27  1.986083e+23  2.337199e-16 -1.622603e+07\n",
       "28  1.262923e+24  5.981681e-17 -1.550309e+07"
      ]
     },
     "execution_count": 24,
     "metadata": {},
     "output_type": "execute_result"
    }
   ],
   "source": [
    "df = pd.DataFrame(d)\n",
    "\n",
    "df"
   ]
  },
  {
   "cell_type": "code",
   "execution_count": 25,
   "metadata": {
    "scrolled": false
   },
   "outputs": [
    {
     "name": "stdout",
     "output_type": "stream",
     "text": [
      "\\begin{tabular}{lrrr}\n",
      "\\toprule\n",
      "{} &             W &         kappa &             z \\\\\n",
      "\\midrule\n",
      "0  &  1.916742e+01 &  1.247101e-01 &  1.437377e+00 \\\\\n",
      "1  &  1.828244e+02 &  1.584005e-02 &  2.430778e+00 \\\\\n",
      "2  &  1.366378e+03 &  5.160094e-03 & -2.753242e+00 \\\\\n",
      "3  &  9.400641e+03 &  1.059189e-03 & -9.941742e+00 \\\\\n",
      "4  &  6.235173e+04 &  3.404044e-04 & -1.686830e+00 \\\\\n",
      "5  &  4.060320e+05 &  7.457910e-05 &  2.707638e+01 \\\\\n",
      "6  &  2.617930e+06 &  2.546630e-05 &  3.090465e+01 \\\\\n",
      "7  &  1.678468e+07 &  6.539439e-06 & -5.172942e+01 \\\\\n",
      "8  &  1.072612e+08 &  2.026445e-06 & -1.449903e+02 \\\\\n",
      "9  &  6.841092e+08 &  5.519907e-07 &  1.981997e+01 \\\\\n",
      "10 &  4.358113e+09 &  1.672967e-07 &  4.791551e+02 \\\\\n",
      "11 &  2.774359e+10 &  4.830791e-08 &  4.108461e+02 \\\\\n",
      "12 &  1.765382e+11 &  1.414494e-08 & -1.148652e+03 \\\\\n",
      "13 &  1.123052e+12 &  4.089902e-09 & -2.499102e+03 \\\\\n",
      "14 &  7.143163e+12 &  1.215321e-09 &  1.296267e+03 \\\\\n",
      "15 &  4.542953e+13 &  3.606573e-10 &  9.660143e+03 \\\\\n",
      "16 &  2.889079e+14 &  1.055642e-10 &  5.415548e+03 \\\\\n",
      "17 &  1.837234e+15 &  3.434654e-11 & -2.723113e+04 \\\\\n",
      "18 &  1.168314e+16 &  9.235904e-12 & -4.618300e+04 \\\\\n",
      "19 &  7.429309e+16 &  3.244326e-12 &  4.614661e+04 \\\\\n",
      "20 &  4.724258e+17 &  8.328190e-13 &  2.061784e+05 \\\\\n",
      "21 &  3.004115e+18 &  3.037373e-13 &  5.184063e+04 \\\\\n",
      "22 &  1.910284e+19 &  7.889327e-14 & -6.623404e+05 \\\\\n",
      "23 &  1.214727e+20 &  2.815761e-14 & -8.620642e+05 \\\\\n",
      "24 &  7.724292e+20 &  7.579412e-15 &  1.426449e+06 \\\\\n",
      "25 &  4.911775e+21 &  2.581616e-15 &  4.494383e+06 \\\\\n",
      "26 &  3.123331e+22 &  6.917720e-16 & -3.701061e+05 \\\\\n",
      "27 &  1.986083e+23 &  2.337199e-16 & -1.622603e+07 \\\\\n",
      "28 &  1.262923e+24 &  5.981681e-17 & -1.550309e+07 \\\\\n",
      "\\bottomrule\n",
      "\\end{tabular}\n",
      "\n"
     ]
    }
   ],
   "source": [
    "print(df.to_latex())"
   ]
  },
  {
   "cell_type": "code",
   "execution_count": 26,
   "metadata": {},
   "outputs": [
    {
     "data": {
      "text/plain": [
       "-27458558.666802163196"
      ]
     },
     "execution_count": 26,
     "metadata": {},
     "output_type": "execute_result"
    }
   ],
   "source": [
    "sum_2nd_order_visible_interact(0, 50, rbm, 30, reduced_form=True)"
   ]
  },
  {
   "cell_type": "markdown",
   "metadata": {},
   "source": [
    "## Finding first `n` where UB fails"
   ]
  },
  {
   "cell_type": "code",
   "execution_count": 27,
   "metadata": {
    "autoscroll": false,
    "ein.hycell": false,
    "ein.tags": "worksheet-0",
    "slideshow": {
     "slide_type": "-"
    }
   },
   "outputs": [],
   "source": [
    "n = 39"
   ]
  },
  {
   "cell_type": "code",
   "execution_count": 28,
   "metadata": {
    "autoscroll": false,
    "ein.hycell": false,
    "ein.tags": "worksheet-0",
    "slideshow": {
     "slide_type": "-"
    }
   },
   "outputs": [],
   "source": [
    "# compute the abs of \\kappa^{(n)}\n",
    "kappa = np.abs(sigmoid_derivative(z, n=n - 1)) / np.float128(factorial(n), exact=True)"
   ]
  },
  {
   "cell_type": "code",
   "execution_count": 29,
   "metadata": {
    "autoscroll": false,
    "ein.hycell": false,
    "ein.tags": "worksheet-0",
    "slideshow": {
     "slide_type": "-"
    }
   },
   "outputs": [],
   "source": [
    "# compute upper-bounds\n",
    "y = sigmoid(z)\n",
    "alpha = np.max([y, 1 - y], axis=0)\n",
    "ub = np.abs((alpha ** (n)) / (n))"
   ]
  },
  {
   "cell_type": "code",
   "execution_count": 30,
   "metadata": {
    "autoscroll": false,
    "ein.hycell": false,
    "ein.tags": "worksheet-0",
    "slideshow": {
     "slide_type": "-"
    }
   },
   "outputs": [
    {
     "data": {
      "text/plain": [
       "array([ True,  True,  True,  True,  True,  True,  True,  True,  True,\n",
       "        True,  True,  True,  True,  True,  True,  True,  True,  True,\n",
       "        True,  True,  True,  True,  True,  True,  True,  True,  True,\n",
       "        True,  True,  True,  True,  True,  True,  True,  True,  True,\n",
       "        True,  True,  True,  True,  True,  True,  True,  True,  True,\n",
       "        True,  True,  True,  True,  True,  True,  True,  True,  True,\n",
       "        True,  True,  True,  True,  True,  True,  True,  True,  True,\n",
       "        True])"
      ]
     },
     "execution_count": 30,
     "metadata": {},
     "output_type": "execute_result"
    }
   ],
   "source": [
    "# verify bounds\n",
    "kappa <= ub"
   ]
  },
  {
   "cell_type": "markdown",
   "metadata": {},
   "source": [
    "Finding first $n$ for which the bounds fail."
   ]
  },
  {
   "cell_type": "code",
   "execution_count": null,
   "metadata": {
    "autoscroll": false,
    "ein.hycell": false,
    "ein.tags": "worksheet-0",
    "slideshow": {
     "slide_type": "-"
    }
   },
   "outputs": [],
   "source": [
    "n = 0\n",
    "correct = True\n",
    "\n",
    "while correct:\n",
    "    n += 1\n",
    "    \n",
    "    # compute the abs of \\kappa^{(n)}\n",
    "    kappa = np.abs(sigmoid_derivative(z, n=n - 1)) / np.float128(factorial(n), exact=True)\n",
    "\n",
    "    # compute upper-bounds\n",
    "    y = sigmoid(z)\n",
    "    alpha = np.max([y, 1 - y], axis=0)\n",
    "    ub = np.abs((alpha ** (n)) / (n))\n",
    "\n",
    "    # verify bounds\n",
    "    correct = np.all(kappa <= ub)"
   ]
  },
  {
   "cell_type": "code",
   "execution_count": null,
   "metadata": {
    "scrolled": true
   },
   "outputs": [],
   "source": [
    "kappa <= ub"
   ]
  },
  {
   "cell_type": "code",
   "execution_count": 93,
   "metadata": {
    "autoscroll": false,
    "ein.hycell": false,
    "ein.tags": "worksheet-0",
    "slideshow": {
     "slide_type": "-"
    }
   },
   "outputs": [
    {
     "data": {
      "text/plain": [
       "array([1.61491962e-05, 3.55533496e-29, 2.28405172e-07, 1.05704827e-32,\n",
       "       1.61927070e-31, 1.30556014e-04, 7.62998734e-07, 6.47725860e-24,\n",
       "       6.98692335e-06, 6.45007633e-05, 9.28223184e-06, 7.94193143e-26,\n",
       "       2.25194914e-11, 2.69243228e-07, 1.03306197e-26, 3.54596848e-07,\n",
       "       4.36206731e-08, 9.53929727e-26, 3.69744578e-31, 1.51685070e-04,\n",
       "       2.38916393e-07, 4.91592469e-31, 1.73972987e-05, 6.06524278e-47,\n",
       "       1.04131329e-04, 1.11506362e-04, 1.07708298e-27, 8.29013409e-15,\n",
       "       7.27261512e-11, 6.78345026e-46, 3.65219738e-06, 8.04953303e-06,\n",
       "       1.29045498e-07, 8.63676305e-08, 2.35088433e-46, 8.55212670e-25,\n",
       "       2.10132925e-06, 1.56175386e-07, 5.45113128e-05, 1.31307107e-04,\n",
       "       1.32172482e-04, 2.25812779e-07, 3.17911768e-29, 2.59216667e-06,\n",
       "       3.87233915e-05, 7.79620892e-38, 1.52315957e-04, 1.04995050e-06,\n",
       "       1.17450058e-07, 1.43165210e-22, 9.59545445e-16, 3.73145623e-25,\n",
       "       1.42101699e-07, 1.28262135e-06, 1.47667009e-39, 1.28092024e-06,\n",
       "       1.04227725e-04, 6.77904267e-06, 6.42841623e-07, 1.46040614e-07,\n",
       "       4.18367805e-33, 1.53049289e-07, 2.17217830e-23, 9.20595202e-06],\n",
       "      dtype=float128)"
      ]
     },
     "execution_count": 93,
     "metadata": {},
     "output_type": "execute_result"
    }
   ],
   "source": [
    "kappa"
   ]
  },
  {
   "cell_type": "code",
   "execution_count": 94,
   "metadata": {},
   "outputs": [
    {
     "data": {
      "text/plain": [
       "array([2.39463989e-02, 8.01918308e-03, 2.49853751e-02, 1.70967161e-02,\n",
       "       1.56630027e-02, 1.41047835e-02, 2.49511153e-02, 1.58909685e-05,\n",
       "       2.45491416e-02, 1.09424589e-03, 7.17320446e-05, 2.74811018e-04,\n",
       "       2.04979910e-11, 2.49827594e-02, 1.12904500e-03, 2.49772917e-02,\n",
       "       1.10199834e-07, 4.55398260e-07, 1.22295547e-02, 9.81307153e-03,\n",
       "       2.49847019e-02, 1.23493109e-02, 2.38632191e-02, 2.49974778e-02,\n",
       "       2.54194807e-03, 1.63269125e-02, 1.00214732e-03, 1.49232918e-13,\n",
       "       7.61922162e-11, 2.49848316e-02, 2.47652359e-02, 2.44799254e-02,\n",
       "       2.49917381e-02, 2.49944707e-02, 2.49958582e-02, 1.28870281e-04,\n",
       "       2.48651652e-02, 2.49900008e-02, 2.12479121e-02, 1.40035733e-02,\n",
       "       1.38851142e-02, 2.49855411e-02, 7.37588031e-03, 2.48335768e-02,\n",
       "       2.23971615e-02, 2.40882804e-02, 9.44346345e-03, 2.49327087e-02,\n",
       "       2.49924805e-02, 2.96192991e-08, 1.15461027e-12, 4.03076618e-05,\n",
       "       2.49909020e-02, 2.49177752e-02, 2.46705078e-02, 2.49178844e-02,\n",
       "       2.54662980e-03, 4.78602635e-05, 2.49588193e-02, 2.49906498e-02,\n",
       "       1.95599120e-02, 4.77167896e-07, 3.27943749e-07, 2.44043984e-02],\n",
       "      dtype=float128)"
      ]
     },
     "execution_count": 94,
     "metadata": {},
     "output_type": "execute_result"
    }
   ],
   "source": [
    "ub"
   ]
  },
  {
   "cell_type": "markdown",
   "metadata": {
    "ein.tags": "worksheet-0",
    "slideshow": {
     "slide_type": "-"
    }
   },
   "source": [
    "Since we observe that some values fail the upper-bound check, it might be useful to check if the following is verified for such large $n$:\n",
    "\n",
    "$$\n",
    "\\sum_{m=0}^{n - 1} A_{n, m} = n!\n",
    "$$"
   ]
  },
  {
   "cell_type": "code",
   "execution_count": 49,
   "metadata": {},
   "outputs": [],
   "source": [
    "n = 100"
   ]
  },
  {
   "cell_type": "code",
   "execution_count": 54,
   "metadata": {
    "autoscroll": false,
    "ein.hycell": false,
    "ein.tags": "worksheet-0",
    "scrolled": false,
    "slideshow": {
     "slide_type": "-"
    }
   },
   "outputs": [
    {
     "data": {
      "text/plain": [
       "0L"
      ]
     },
     "execution_count": 54,
     "metadata": {},
     "output_type": "execute_result"
    }
   ],
   "source": [
    "factorial(n, exact=True) - np.sum([eulerian_number(n, m) for m in range(n)])"
   ]
  },
  {
   "cell_type": "code",
   "execution_count": 53,
   "metadata": {
    "autoscroll": false,
    "ein.hycell": false,
    "ein.tags": "worksheet-0",
    "scrolled": true,
    "slideshow": {
     "slide_type": "-"
    }
   },
   "outputs": [
    {
     "data": {
      "text/plain": [
       "93326215443944152681699238856266700490715968264381621468592963895217599993229915608941463976156518286253697920827223758251185210916864000000000000000000000000L"
      ]
     },
     "execution_count": 53,
     "metadata": {},
     "output_type": "execute_result"
    }
   ],
   "source": [
    "np.sum([eulerian_number(n, m) for m in range(n)])"
   ]
  },
  {
   "cell_type": "markdown",
   "metadata": {
    "ein.tags": "worksheet-0",
    "slideshow": {
     "slide_type": "-"
    }
   },
   "source": [
    "As we can see, there is a huge discrepancy between the two computations, implying that numerical error plays an important role in why we cannot get the series to converge numerically."
   ]
  }
 ],
 "metadata": {
  "@webio": {
   "lastCommId": "6656c7720e3647169672489600dff2b7",
   "lastKernelId": "7a24a2db-5078-445c-9666-9306a32df492"
  },
  "kernelspec": {
   "display_name": "Python 3",
   "language": "python",
   "name": "python3"
  },
  "language_info": {
   "codemirror_mode": {
    "name": "ipython",
    "version": 3
   },
   "file_extension": ".py",
   "mimetype": "text/x-python",
   "name": "python",
   "nbconvert_exporter": "python",
   "pygments_lexer": "ipython3",
   "version": "3.6.6"
  },
  "name": "Untitled.ipynb",
  "toc": {
   "base_numbering": 1,
   "nav_menu": {},
   "number_sections": true,
   "sideBar": true,
   "skip_h1_title": false,
   "title_cell": "Table of Contents",
   "title_sidebar": "Contents",
   "toc_cell": false,
   "toc_position": {},
   "toc_section_display": true,
   "toc_window_display": false
  }
 },
 "nbformat": 4,
 "nbformat_minor": 2
}
