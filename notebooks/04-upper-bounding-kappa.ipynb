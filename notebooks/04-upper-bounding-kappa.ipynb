{
 "cells": [
  {
   "cell_type": "markdown",
   "metadata": {},
   "source": [
    "# Methods"
   ]
  },
  {
   "cell_type": "code",
   "execution_count": 1,
   "metadata": {},
   "outputs": [],
   "source": [
    "import numpy as np\n",
    "from scipy.special import comb, factorial\n",
    "\n",
    "def eulerian_number(n, m):\n",
    "    acc = np.float128(0.0)\n",
    "\n",
    "    for k in range(m + 1):\n",
    "        c = np.float128(comb(n + 1, k, exact=True))\n",
    "        acc += (-1.0) ** k * c * (np.float128(m + 1 - k) ** n)\n",
    "\n",
    "    return acc\n",
    "\n",
    "\n",
    "def sigmoid(z):\n",
    "    return 1 / (1 + np.exp(- z))\n",
    "\n",
    "\n",
    "def sigmoid_derivative(z, n=2):\n",
    "    sigma_z = sigmoid(z)\n",
    "\n",
    "    acc = np.float128(0.0)\n",
    "\n",
    "    for k in range(1, n + 1):\n",
    "        acc += ((-1) ** (k - 1)) * eulerian_number(n, k - 1) * (sigma_z ** k) * ((1 - sigma_z) ** (n + 1 - k))\n",
    "\n",
    "    return acc\n"
   ]
  },
  {
   "cell_type": "markdown",
   "metadata": {
    "ein.tags": "worksheet-0",
    "slideshow": {
     "slide_type": "-"
    }
   },
   "source": [
    "# Load RBM"
   ]
  },
  {
   "cell_type": "code",
   "execution_count": 2,
   "metadata": {},
   "outputs": [],
   "source": [
    "import torch\n",
    "import rbm_pytorch"
   ]
  },
  {
   "cell_type": "code",
   "execution_count": 3,
   "metadata": {
    "autoscroll": false,
    "ein.hycell": false,
    "ein.tags": "worksheet-0",
    "slideshow": {
     "slide_type": "-"
    }
   },
   "outputs": [],
   "source": [
    "CHECKPOINT = \"models/L8/1.8/trained_rbm.pytorch.last\""
   ]
  },
  {
   "cell_type": "code",
   "execution_count": 4,
   "metadata": {
    "autoscroll": false,
    "ein.hycell": false,
    "ein.tags": "worksheet-0",
    "slideshow": {
     "slide_type": "-"
    }
   },
   "outputs": [
    {
     "name": "stderr",
     "output_type": "stream",
     "text": [
      "rbm_pytorch.py:106: UserWarning: nn.init.normal is now deprecated in favor of nn.init.normal_.\n",
      "  nn.init.normal(self.W,mean=0, std=0.01)\n"
     ]
    }
   ],
   "source": [
    "rbm = rbm_pytorch.RBM(64, 64)"
   ]
  },
  {
   "cell_type": "code",
   "execution_count": 5,
   "metadata": {
    "autoscroll": false,
    "ein.hycell": false,
    "ein.tags": "worksheet-0",
    "slideshow": {
     "slide_type": "-"
    }
   },
   "outputs": [],
   "source": [
    "rbm.load_state_dict(torch.load(CHECKPOINT))"
   ]
  },
  {
   "cell_type": "markdown",
   "metadata": {
    "ein.tags": "worksheet-0",
    "slideshow": {
     "slide_type": "-"
    }
   },
   "source": [
    "# Compute bounds"
   ]
  },
  {
   "cell_type": "markdown",
   "metadata": {},
   "source": [
    "We can write the (n + 1)-th cumulant as\n",
    "\n",
    "\\begin{equation*}\n",
    "\\kappa_{\\mu}^{(n + 1)} = \\sum_{k=1}^{n} \\big( -1 \\big)^{k - 1} A_{n, k-1} \\sigma (b_{\\mu})^k \\big( 1 - \\sigma(b_{\\mu}) \\big)^{n + 1 - k}\n",
    "\\end{equation*}\n",
    "\n",
    "Or equivalently, by shifting \\\\(k\\\\) by \\\\(-1\\\\),\n",
    "\n",
    "\\begin{equation*}\n",
    "\\kappa_{\\mu}^{(n + 1)} = \\sum_{k = 0}^{n - 1} \\big( -1 \\big)^k A_{n, k} \\sigma(b_{\\mu})^{k + 1} \\big( 1 - \\sigma(b_{\\mu}) \\big)^{n - k}\n",
    "\\end{equation*}\n",
    "\n",
    "Consider the case where \\\\(b_{\\mu} \\in [a, b]\\\\) for some *bounded* non-degenerate interval with \\\\(a, b \\in \\mathbb{R}\\\\), and let\n",
    "\n",
    "\\begin{equation*}\n",
    "\\alpha = \\max \\left\\{ \\max_{b_{\\mu} \\in [a, b]} \\sigma(b_{\\mu}), \\max_{b_{\\mu} \\in [a, b]} \\big( 1 - \\sigma(b_{\\mu}) \\big) \\right\\}\n",
    "\\end{equation*}\n",
    "\n",
    "we observe\n",
    "\n",
    "\\begin{equation*}\n",
    "\\begin{split}\n",
    "  \\left| \\kappa_{\\mu}^{(n + 1)} \\right| &= \\left| \\sum_{k=0}^{n - 1} \\big( - 1 \\big)^k A_{n, k} \\sigma(b_{\\mu})^{k + 1} \\big( 1 - \\sigma(b_{\\mu} \\big)^{n - k} \\right| \\\\\n",
    "  &\\le \\sum_{k=0}^{n - 1} \\left| A_{n, k} \\right| \\left| \\sigma(b_{\\mu})^{k + 1} \\big( 1 - \\sigma(b_{\\mu}) \\big)^{n - k} \\right| \\\\\n",
    "  & \\le \\sum_{k=0}^{n - 1} \\left| A_{n, k} \\right| \\alpha^{k + 1} \\alpha^{n - k} \\\\\n",
    "  &= \\alpha^{n + 1} \\sum_{k=0}^{n - 1} A_{n, k} \\\\\n",
    "  &= \\alpha^{n + 1} n!\n",
    "\\end{split}\n",
    "\\end{equation*}\n",
    "\n",
    "where we've used the fact that\n",
    "\n",
    "\\begin{equation*}\n",
    "A_{n, k} \\ge 0, \\quad \\forall n \\in \\mathbb{N} \\quad \\text{and} \\quad \\sum_{k=0}^{n - 1} A_{n, k} = n!, \\quad n \\ge 1\n",
    "\\end{equation*}\n",
    "\n",
    "Relating to the coefficient of the Taylor expansion for the energy, we instead consider \\\\(\\kappa_{\\mu}^{(n + 1)} / (n + 1)!\\\\):\n",
    "\n",
    "\\begin{equation*}\n",
    "\\frac{\\left| \\kappa_{\\mu}^{(n + 1)} \\right|}{(n + 1)!} \\le \\frac{\\alpha^{n + 1}}{n + 1}\n",
    "\\end{equation*}\n",
    "\n",
    "Or wrt. $n$:\n",
    "\n",
    "\\begin{equation*}\n",
    "\\frac{\\left| \\kappa_{\\mu}^{(n)} \\right|}{n!} \\le \\frac{\\alpha^{n}}{n}\n",
    "\\end{equation*}"
   ]
  },
  {
   "cell_type": "code",
   "execution_count": 6,
   "metadata": {
    "autoscroll": false,
    "ein.hycell": false,
    "ein.tags": "worksheet-0",
    "slideshow": {
     "slide_type": "-"
    }
   },
   "outputs": [],
   "source": [
    "z = np.float128(rbm.h_bias.detach().numpy())"
   ]
  },
  {
   "cell_type": "markdown",
   "metadata": {
    "ein.tags": "worksheet-0",
    "slideshow": {
     "slide_type": "-"
    }
   },
   "source": [
    "Compute\n",
    "\n",
    "$$\n",
    "\\frac{\\left| \\kappa^{(n)} \\right|}{n!} = \\frac{\\left| \\sigma^{(n - 1)} \\right|}{n!}\n",
    "$$\n",
    "\n",
    "and upper-bound \n",
    "\n",
    "$$\n",
    "\\frac{\\alpha^{n}}{n}\n",
    "$$"
   ]
  },
  {
   "cell_type": "code",
   "execution_count": 7,
   "metadata": {
    "autoscroll": false,
    "ein.hycell": false,
    "ein.tags": "worksheet-0",
    "slideshow": {
     "slide_type": "-"
    }
   },
   "outputs": [],
   "source": [
    "n = 50"
   ]
  },
  {
   "cell_type": "code",
   "execution_count": 8,
   "metadata": {
    "autoscroll": false,
    "ein.hycell": false,
    "ein.tags": "worksheet-0",
    "slideshow": {
     "slide_type": "-"
    }
   },
   "outputs": [],
   "source": [
    "# compute the abs of \\kappa^{(n)}\n",
    "kappa = np.abs(sigmoid_derivative(z, n=n - 1)) / np.float128(factorial(n), exact=True)"
   ]
  },
  {
   "cell_type": "code",
   "execution_count": 9,
   "metadata": {
    "autoscroll": false,
    "ein.hycell": false,
    "ein.tags": "worksheet-0",
    "slideshow": {
     "slide_type": "-"
    }
   },
   "outputs": [],
   "source": [
    "# compute upper-bounds\n",
    "y = sigmoid(z)\n",
    "alpha = np.max([y, 1 - y], axis=0)\n",
    "ub = np.abs((alpha ** (n)) / (n))"
   ]
  },
  {
   "cell_type": "code",
   "execution_count": 10,
   "metadata": {
    "autoscroll": false,
    "ein.hycell": false,
    "ein.tags": "worksheet-0",
    "slideshow": {
     "slide_type": "-"
    }
   },
   "outputs": [
    {
     "data": {
      "text/plain": [
       "array([False,  True, False,  True,  True, False, False,  True, False,\n",
       "       False, False,  True, False, False,  True, False, False,  True,\n",
       "        True, False, False,  True, False,  True, False, False,  True,\n",
       "       False, False,  True, False, False, False, False,  True,  True,\n",
       "       False, False, False, False, False, False,  True, False, False,\n",
       "        True, False, False, False,  True, False,  True, False, False,\n",
       "        True, False, False, False, False, False,  True, False,  True,\n",
       "       False])"
      ]
     },
     "execution_count": 10,
     "metadata": {},
     "output_type": "execute_result"
    }
   ],
   "source": [
    "# verify bounds\n",
    "kappa <= ub"
   ]
  },
  {
   "cell_type": "code",
   "execution_count": 11,
   "metadata": {
    "autoscroll": false,
    "ein.hycell": false,
    "ein.tags": "worksheet-0",
    "slideshow": {
     "slide_type": "-"
    }
   },
   "outputs": [
    {
     "data": {
      "text/plain": [
       "array([1.47411269e+01, 8.00013576e-37, 2.11172572e-01, 2.00558305e-40,\n",
       "       5.22905477e-39, 1.01627746e+02, 7.05141101e-01, 3.25076514e-31,\n",
       "       6.42562153e+00, 2.32928780e+01, 1.48016158e+00, 4.63129047e-32,\n",
       "       3.78370904e-08, 2.48921654e-01, 1.63135706e-32, 3.27811472e-01,\n",
       "       9.94352364e-04, 7.49396113e-28, 3.52681264e-38, 1.05870450e+02,\n",
       "       2.20888956e-01, 1.91122507e-38, 1.58637834e+01, 2.37127774e-58,\n",
       "       4.84326330e+01, 9.07043328e+01, 1.26372406e-32, 8.87759617e-13,\n",
       "       1.82712641e-07, 1.07597187e-55, 3.36766589e+00, 7.39657695e+00,\n",
       "       1.19318481e-01, 7.98601565e-02, 1.81853271e-57, 1.38513130e-30,\n",
       "       1.93997107e+00, 1.44400388e-01, 4.79998420e+01, 1.01991250e+02,\n",
       "       1.02401427e+02, 2.08776186e-01, 6.94363435e-36, 2.39220229e+00,\n",
       "       3.46426469e+01, 1.67430587e-46, 1.05090658e+02, 9.70118018e-01,\n",
       "       1.08598038e-01, 3.38522311e-24, 4.73144652e-14, 6.43596323e-30,\n",
       "       1.31389227e-01, 1.18488416e+00, 7.21680193e-49, 1.18331424e+00,\n",
       "       4.85042642e+01, 9.57463707e-01, 5.94150621e-01, 1.35030793e-01,\n",
       "       4.65006561e-41, 5.42173323e-03, 1.32537232e-27, 8.45132666e+00],\n",
       "      dtype=float128)"
      ]
     },
     "execution_count": 11,
     "metadata": {},
     "output_type": "execute_result"
    }
   ],
   "source": [
    "kappa"
   ]
  },
  {
   "cell_type": "code",
   "execution_count": 12,
   "metadata": {},
   "outputs": [
    {
     "data": {
      "text/plain": [
       "array([1.89520089e-02, 4.82800427e-03, 1.99853762e-02, 1.24378656e-02,\n",
       "       1.11480463e-02, 9.77941812e-03, 1.99511273e-02, 2.01856594e-06,\n",
       "       1.95501626e-02, 4.00404216e-04, 1.32814807e-05, 7.11865033e-05,\n",
       "       8.77493903e-14, 1.99827609e-02, 4.16384015e-04, 1.99772943e-02,\n",
       "       4.03953300e-09, 2.38009446e-08, 8.18216608e-03, 6.21385609e-03,\n",
       "       1.99847030e-02, 8.28244176e-03, 1.88697554e-02, 1.99974778e-02,\n",
       "       1.14832105e-03, 1.17418105e-02, 3.58731445e-04, 1.86610370e-16,\n",
       "       4.52890533e-13, 1.99848327e-02, 1.97655121e-02, 1.94812849e-02,\n",
       "       1.99917384e-02, 1.99944709e-02, 1.99958583e-02, 2.76245972e-05,\n",
       "       1.98652562e-02, 1.99900013e-02, 1.63211333e-02, 9.69178054e-03,\n",
       "       9.58940816e-03, 1.99855422e-02, 4.34882879e-03, 1.98337155e-02,\n",
       "       1.74319596e-02, 1.90924750e-02, 5.92269153e-03, 1.99327314e-02,\n",
       "       1.99924808e-02, 7.81760021e-10, 2.40795992e-15, 6.46159141e-06,\n",
       "       1.99909024e-02, 1.99178090e-02, 1.96710524e-02, 1.99179181e-02,\n",
       "       1.15096537e-03, 8.00891790e-06, 1.99588277e-02, 1.99906502e-02,\n",
       "       1.47168074e-02, 2.52315543e-08, 1.57889839e-08, 1.94061828e-02],\n",
       "      dtype=float128)"
      ]
     },
     "execution_count": 12,
     "metadata": {},
     "output_type": "execute_result"
    }
   ],
   "source": [
    "ub"
   ]
  },
  {
   "cell_type": "markdown",
   "metadata": {
    "ein.tags": "worksheet-0",
    "slideshow": {
     "slide_type": "-"
    }
   },
   "source": [
    "Since we observe that some values fail the upper-bound check, it might be useful to check if the following is verified for such large $n$:\n",
    "\n",
    "$$\n",
    "\\sum_{m=0}^{n - 1} A_{n, m} = n!\n",
    "$$"
   ]
  },
  {
   "cell_type": "code",
   "execution_count": 13,
   "metadata": {
    "autoscroll": false,
    "ein.hycell": false,
    "ein.tags": "worksheet-0",
    "slideshow": {
     "slide_type": "-"
    }
   },
   "outputs": [
    {
     "data": {
      "text/plain": [
       "3.0414093201713375576e+64"
      ]
     },
     "execution_count": 13,
     "metadata": {},
     "output_type": "execute_result"
    }
   ],
   "source": [
    "np.float128(factorial(n, exact=True))"
   ]
  },
  {
   "cell_type": "code",
   "execution_count": 14,
   "metadata": {
    "autoscroll": false,
    "ein.hycell": false,
    "ein.tags": "worksheet-0",
    "slideshow": {
     "slide_type": "-"
    }
   },
   "outputs": [
    {
     "data": {
      "text/plain": [
       "2.5192173461513654015e+70"
      ]
     },
     "execution_count": 14,
     "metadata": {},
     "output_type": "execute_result"
    }
   ],
   "source": [
    "np.sum([eulerian_number(n, m) for m in range(n)])"
   ]
  },
  {
   "cell_type": "markdown",
   "metadata": {
    "ein.tags": "worksheet-0",
    "slideshow": {
     "slide_type": "-"
    }
   },
   "source": [
    "As we can see, there is a huge discrepancy between the two computations, implying that numerical error plays an important role in why we cannot get the series to converge numerically."
   ]
  }
 ],
 "metadata": {
  "kernelspec": {
   "display_name": "Python 2",
   "language": "python",
   "name": "python2"
  },
  "language_info": {
   "codemirror_mode": {
    "name": "ipython",
    "version": 2
   },
   "file_extension": ".py",
   "mimetype": "text/x-python",
   "name": "python",
   "nbconvert_exporter": "python",
   "pygments_lexer": "ipython2",
   "version": "2.7.15"
  },
  "name": "Untitled.ipynb"
 },
 "nbformat": 4,
 "nbformat_minor": 2
}
