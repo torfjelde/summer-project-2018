{
 "cells": [
  {
   "cell_type": "code",
   "execution_count": 1,
   "metadata": {},
   "outputs": [],
   "source": [
    "import numpy as np\n",
    "import scipy.stats as stats\n",
    "\n",
    "import matplotlib.pyplot as plt\n",
    "%matplotlib inline\n",
    "\n",
    "import seaborn as sns; sns.set()"
   ]
  },
  {
   "cell_type": "code",
   "execution_count": 2,
   "metadata": {},
   "outputs": [],
   "source": [
    "import logging\n",
    "\n",
    "LOG_LEVEL = \"INFO\"\n",
    "LOG_FORMAT = '%(asctime)-15s %(levelname)-9s %(name)s: %(message)s'\n",
    "logging.basicConfig(format=LOG_FORMAT, level=getattr(logging, LOG_LEVEL))\n",
    "\n",
    "log = logging.getLogger(\"mcmc\")"
   ]
  },
  {
   "cell_type": "markdown",
   "metadata": {},
   "source": [
    "# Metropolis-Hastings"
   ]
  },
  {
   "cell_type": "code",
   "execution_count": 14,
   "metadata": {},
   "outputs": [],
   "source": [
    "# Target distribution / Samples\n",
    "samples_num = 1000\n",
    "xs = np.random.normal(loc=0.5, size=samples_num)\n",
    "xs.shape\n",
    "\n",
    "# Proposal distribution\n",
    "def proposal_dist(x, y):\n",
    "    \"Returns p(x | y).\"\n",
    "    # in this case they're independent, sooo\n",
    "    return stats.norm.pdf(x)\n",
    "\n",
    "# Acceptance distribution\n",
    "def acceptance_ratio(loc, loc_new):\n",
    "    log_likelihood = np.sum(np.log(stats.norm.pdf(xs, loc=loc)))\n",
    "    log_likelihood_new = np.sum(np.log(stats.norm.pdf(xs, loc=loc_new)))\n",
    "    ratio = (log_likelihood_new - log_likelihood) + np.log(proposal_dist(loc, loc_new) / proposal_dist(loc_new, loc))\n",
    "    return ratio\n",
    "\n",
    "# Accept / reject\n",
    "def accept_reject(loc, loc_new):\n",
    "    u = np.random.uniform()\n",
    "    acceptance_dist = np.min((0.0, acceptance_ratio(loc, loc_new)))\n",
    "    if np.log(u) <= acceptance_dist:\n",
    "        return loc_new\n",
    "    else:\n",
    "        return loc"
   ]
  },
  {
   "cell_type": "code",
   "execution_count": 15,
   "metadata": {},
   "outputs": [
    {
     "data": {
      "text/plain": [
       "0.99"
      ]
     },
     "execution_count": 15,
     "metadata": {},
     "output_type": "execute_result"
    }
   ],
   "source": [
    "accept_reject(0.99, 1.10)"
   ]
  },
  {
   "cell_type": "code",
   "execution_count": 16,
   "metadata": {},
   "outputs": [
    {
     "data": {
      "text/plain": [
       "-6036.984182011929"
      ]
     },
     "execution_count": 16,
     "metadata": {},
     "output_type": "execute_result"
    }
   ],
   "source": [
    "acceptance_ratio(1.0, 4.0)"
   ]
  },
  {
   "cell_type": "code",
   "execution_count": 17,
   "metadata": {},
   "outputs": [],
   "source": [
    "class MetropolisHastingsSampler:\n",
    "    def __init__(self, proba, proposal_proba, proposal_sample, initial_params=None):\n",
    "        # parametrizable probability distribution proba(data, params)\n",
    "        self.proba = proba\n",
    "\n",
    "        # functions for sampling and computing probability of transitions\n",
    "        self.proposal_sample = proposal_sample\n",
    "        self.proposal_proba = proposal_proba\n",
    "\n",
    "        # parameters\n",
    "        self.current = initial_params\n",
    "\n",
    "        # cache this result\n",
    "        self._log_likelihood_cache = None\n",
    "\n",
    "    def _log_likelihood(self, xs, params):\n",
    "        return np.sum(np.log(self.proba(xs, params)))\n",
    "\n",
    "    def acceptance_ratio(self, xs, current, proposed):\n",
    "        log_likelihood_prop = np.sum(np.log(self.proba(xs, proposed)))\n",
    "\n",
    "        if self._log_likelihood_cache is None:\n",
    "            self._log_likelihood_cache = self._log_likelihood(xs, current)\n",
    "\n",
    "        ratio = (log_likelihood_prop - self._log_likelihood_cache) \\\n",
    "            + np.log(self.proposal_proba(current, proposed) / self.proposal_proba(proposed, current))\n",
    "            \n",
    "        return ratio\n",
    "\n",
    "    def accept_reject(self, xs, current, proposed):\n",
    "        u = np.random.uniform()\n",
    "        acceptance_dist = np.min((0.0, self.acceptance_ratio(xs, current, proposed)))\n",
    "\n",
    "        # can't take log of 0.0 yo\n",
    "        if u <= 0.0:\n",
    "            return current\n",
    "        \n",
    "        if np.log(u) <= acceptance_dist:\n",
    "            return proposed\n",
    "        else:\n",
    "            return current\n",
    "\n",
    "    def sample(self):\n",
    "        return self.proposal_sample(self.current)\n",
    "\n",
    "    def step(self, xs, update=False):\n",
    "        proposed = self.sample()\n",
    "        return self.accept_reject(xs, self.current, proposed)\n",
    "\n",
    "    def run(self, xs, n=10000, burnin=1000):\n",
    "        if self.current is None:\n",
    "            self.current = self.sample()\n",
    "\n",
    "        if self._log_likelihood_cache is None:\n",
    "            self._log_likelihood_cache = self._log_likelihood(xs, self.current)\n",
    "\n",
    "        # perform burnin\n",
    "        for i in range(burnin):\n",
    "            new = self.step(xs)\n",
    "            if new != self.current:\n",
    "                self.current = new\n",
    "                self._log_likelihood_cache = self._log_likelihood(xs, self.current)\n",
    "\n",
    "        # store results\n",
    "        results = np.zeros(n)\n",
    "        results[0] = self.current\n",
    "\n",
    "        for i in range(1, n):\n",
    "            new = self.step(xs)\n",
    "            results[i] = new\n",
    "            \n",
    "            if new != self.current:\n",
    "                self.current = new\n",
    "                self._log_likelihood_cache = self._log_likelihood(xs, self.current)\n",
    "\n",
    "        for i in range(1, n):\n",
    "            new = self.step(xs)\n",
    "            if new != self.current:\n",
    "                self.current = new\n",
    "                self._log_likelihood_cache = self._log_likelihood(xs, self.current)\n",
    "                \n",
    "            results[i] = new\n",
    "\n",
    "        return results"
   ]
  },
  {
   "cell_type": "markdown",
   "metadata": {},
   "source": [
    "## Run"
   ]
  },
  {
   "cell_type": "code",
   "execution_count": 18,
   "metadata": {},
   "outputs": [],
   "source": [
    "def proba_(xs, loc):\n",
    "    return stats.norm.pdf(xs, loc)\n",
    "\n",
    "\n",
    "def proposal_proba_(x, y):\n",
    "    return stats.norm.pdf(x, loc=y)\n",
    "\n",
    "\n",
    "def proposal_sample_(x):\n",
    "    return stats.norm.rvs(loc=x)\n",
    "\n",
    "sampler = MetropolisHastingsSampler(proba_, proposal_proba_, proposal_sample_, initial_params=0.0)"
   ]
  },
  {
   "cell_type": "code",
   "execution_count": 19,
   "metadata": {},
   "outputs": [],
   "source": [
    "# without burnin\n",
    "results = sampler.run(xs, n=1000, burnin=0)"
   ]
  },
  {
   "cell_type": "code",
   "execution_count": 23,
   "metadata": {
    "scrolled": true
   },
   "outputs": [
    {
     "data": {
      "image/png": "[encoded data removed]",
      "text/plain": [
       "<Figure size 1008x288 with 1 Axes>"
      ]
     },
     "metadata": {},
     "output_type": "display_data"
    }
   ],
   "source": [
    "fig = plt.figure(figsize=(14, 4))\n",
    "plt.hist(results, bins=100)\n",
    "plt.title(f\"Mean: {np.mean(results)}\")\n",
    "_ = plt.xlim(0, 1)"
   ]
  },
  {
   "cell_type": "markdown",
   "metadata": {},
   "source": [
    "# Gibbs Sampling"
   ]
  },
  {
   "cell_type": "code",
   "execution_count": 24,
   "metadata": {},
   "outputs": [],
   "source": [
    "class GibbsSampler:\n",
    "    def __init__(self, proba, proposal_proba, proposal_sample, initial_params=None):\n",
    "        # parametrizable probability distribution proba(data, params)\n",
    "        self.proba = proba\n",
    "\n",
    "        # functions for sampling and computing probability of transitions\n",
    "        self.proposal_sample = proposal_sample\n",
    "        self.proposal_proba = proposal_proba\n",
    "\n",
    "        self.variables_num = len(self.proposal_sample)\n",
    "        self.variable_indices = np.arange(self.variables_num)\n",
    "\n",
    "        # parameters\n",
    "        self.current = initial_params or self.intialize_variables()\n",
    "\n",
    "        # cache this result\n",
    "        self._log_likelihood_cache = []\n",
    "\n",
    "        self._epsilon = np.finfo(np.float32).eps\n",
    "\n",
    "    def initialize_variables(self):\n",
    "        return []\n",
    "\n",
    "    def _log_likelihood(self, xs, params):\n",
    "        return np.sum(np.log(self.proba(xs, params) + self._epsilon))\n",
    "\n",
    "    def acceptance_ratio(self, xs, current, proposed, var_idx):\n",
    "        # Acceptance ratio should be computed CONDITIONED on the other variables\n",
    "        full_proposed = current.copy()\n",
    "        full_proposed[var_idx] = proposed\n",
    "        log_likelihood_prop = np.sum(np.log(self.proba(xs, full_proposed) + self._epsilon))\n",
    "\n",
    "        if self._log_likelihood_cache is None:\n",
    "            self._log_likelihood_cache[var_idx] = self._log_likelihood(xs, current)\n",
    "\n",
    "        ratio = (log_likelihood_prop - self._log_likelihood_cache[var_idx]) \\\n",
    "            + np.log(self.proposal_proba[var_idx](current, full_proposed) + self._epsilon) \\\n",
    "            - np.log(self.proposal_proba[var_idx](full_proposed, current)  + self._epsilon)\n",
    "            \n",
    "        return ratio\n",
    "\n",
    "    def accept_reject(self, xs, current, proposed, var_idx):\n",
    "        \"\"\"\n",
    "        Returns\n",
    "        -------\n",
    "            val : same type as the random variable\n",
    "                Single value which can be used as the next sample for the variable.\n",
    "        \"\"\"\n",
    "        u = np.random.uniform()\n",
    "        acceptance_dist = np.min((0.0, self.acceptance_ratio(xs, current, proposed, var_idx)))\n",
    "\n",
    "        # can't take log of 0.0 yo        \n",
    "        if np.log(u + self._epsilon) <= acceptance_dist:\n",
    "            return proposed\n",
    "        else:\n",
    "            return current[var_idx]\n",
    "\n",
    "    def sample(self, var_idx):\n",
    "        # CONDITIONED on fixed variables\n",
    "        return self.proposal_sample[var_idx](self.current)\n",
    "\n",
    "    def step(self, xs, update=False):\n",
    "        res = np.zeros_like(xs)\n",
    "        for idx in self.variable_indices:\n",
    "            proposed = self.sample(idx)\n",
    "            res[idx] = self.accept_reject(xs, self.current, proposed, idx)\n",
    "\n",
    "        return res\n",
    "\n",
    "    def run(self, xs, n=10000, burnin=1000):\n",
    "        if not self.current:\n",
    "            for idx in self.variable_indices:\n",
    "                self.current.append(self.sample(idx))\n",
    "\n",
    "        if not self._log_likelihood_cache:\n",
    "            for idx in self.variable_indices:\n",
    "                self._log_likelihood_cache.append(self._log_likelihood(xs, self.current))\n",
    "\n",
    "        # perform burnin\n",
    "        for i in range(burnin):\n",
    "            for idx in self.variable_indices:\n",
    "                new = self.step(xs, idx)\n",
    "                if new[idx] != self.current[idx]:\n",
    "                    self.current[idx] = new[idx]\n",
    "                    self._log_likelihood_cache[idx] = self._log_likelihood(xs, self.current)\n",
    "\n",
    "        # store results\n",
    "        results = []\n",
    "        results.append(self.current.copy())\n",
    "\n",
    "        for i in range(1, n):\n",
    "            for idx in self.variable_indices:\n",
    "                new = self.step(xs, idx)\n",
    "                if new[idx] != self.current[idx]:\n",
    "                    self.current[idx] = new[idx]\n",
    "                    self._log_likelihood_cache[idx] = self._log_likelihood(xs, self.current)\n",
    "\n",
    "            results.append(self.current.copy())\n",
    "\n",
    "        return results"
   ]
  },
  {
   "cell_type": "code",
   "execution_count": 25,
   "metadata": {},
   "outputs": [],
   "source": [
    "def proba_(xs, loc_scale):\n",
    "    return stats.norm.pdf(xs, loc=loc_scale[0], scale=loc_scale[1])\n",
    "\n",
    "\n",
    "def proposal_proba_(x, y):\n",
    "    return stats.norm.pdf(x, loc=y, scale=0.2)\n",
    "\n",
    "\n",
    "def proposal_sample_(x):\n",
    "    return stats.norm.rvs(loc=x, scale=0.2)\n",
    "\n",
    "sampler = GibbsSampler(\n",
    "    proba_,\n",
    "    [lambda x, y: proposal_proba_(x[0], y[0]), lambda x, y: proposal_proba_(x[1], y[1])],\n",
    "    [lambda x: proposal_sample_(x[0]), lambda x: proposal_sample_(x[1])],\n",
    "    initial_params=[0.0, 2.0]\n",
    ")"
   ]
  },
  {
   "cell_type": "markdown",
   "metadata": {},
   "source": [
    "## Run"
   ]
  },
  {
   "cell_type": "code",
   "execution_count": 26,
   "metadata": {},
   "outputs": [],
   "source": [
    "samples = sampler.run(xs, n=10000)"
   ]
  },
  {
   "cell_type": "code",
   "execution_count": 41,
   "metadata": {},
   "outputs": [
    {
     "data": {
      "image/png": "[encoded data removed]",
      "text/plain": [
       "<Figure size 1008x360 with 1 Axes>"
      ]
     },
     "metadata": {},
     "output_type": "display_data"
    }
   ],
   "source": [
    "mle = np.mean(samples, axis=0)\n",
    "\n",
    "fig = plt.figure(figsize=(14, 5))\n",
    "_ = plt.hist([x[0] for x in samples], bins=100, label=\"$\\mu$\")\n",
    "_ = plt.hist([x[1] for x in samples], bins=100, label=\"$\\sigma$\")\n",
    "\n",
    "plt.title(r\"$\\mu_{\\rm{MLE}} = %f \\qquad \\sigma_{\\rm{MLE}}^2 = %f \\qquad \\mid \\qquad \\bar{\\mu} = %f \\qquad \\bar{\\sigma}^2 = %f$\" % (mle[0], mle[1], np.mean(xs), np.var(xs)))\n",
    "\n",
    "_ = plt.legend()"
   ]
  }
 ],
 "metadata": {
  "@webio": {
   "lastCommId": "4693e39ee96b44ce8df8b890530a197c",
   "lastKernelId": "4c2204bb-67ae-419e-af2d-7215df7a496d"
  },
  "kernelspec": {
   "display_name": "Python 3",
   "language": "python",
   "name": "python3"
  },
  "language_info": {
   "codemirror_mode": {
    "name": "ipython",
    "version": 3
   },
   "file_extension": ".py",
   "mimetype": "text/x-python",
   "name": "python",
   "nbconvert_exporter": "python",
   "pygments_lexer": "ipython3",
   "version": "3.6.6"
  },
  "toc": {
   "base_numbering": 1,
   "nav_menu": {},
   "number_sections": true,
   "sideBar": true,
   "skip_h1_title": false,
   "title_cell": "Table of Contents",
   "title_sidebar": "Contents",
   "toc_cell": false,
   "toc_position": {},
   "toc_section_display": true,
   "toc_window_display": false
  }
 },
 "nbformat": 4,
 "nbformat_minor": 2
}
